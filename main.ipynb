{
 "cells": [
  {
   "cell_type": "markdown",
   "metadata": {},
   "source": []
  },
  {
   "cell_type": "code",
   "execution_count": 129,
   "metadata": {},
   "outputs": [],
   "source": [
    "import pandas as pd\n",
    "from sklearn.metrics import accuracy_score\n",
    "import matplotlib.pyplot as plt\n",
    "import numpy as np"
   ]
  },
  {
   "cell_type": "code",
   "execution_count": 130,
   "metadata": {},
   "outputs": [
    {
     "data": {
      "text/html": [
       "<div>\n",
       "<style scoped>\n",
       "    .dataframe tbody tr th:only-of-type {\n",
       "        vertical-align: middle;\n",
       "    }\n",
       "\n",
       "    .dataframe tbody tr th {\n",
       "        vertical-align: top;\n",
       "    }\n",
       "\n",
       "    .dataframe thead th {\n",
       "        text-align: right;\n",
       "    }\n",
       "</style>\n",
       "<table border=\"1\" class=\"dataframe\">\n",
       "  <thead>\n",
       "    <tr style=\"text-align: right;\">\n",
       "      <th></th>\n",
       "      <th>Unnamed: 0</th>\n",
       "      <th>0</th>\n",
       "      <th>1</th>\n",
       "      <th>2</th>\n",
       "      <th>3</th>\n",
       "      <th>4</th>\n",
       "      <th>5</th>\n",
       "      <th>6</th>\n",
       "      <th>7</th>\n",
       "      <th>8</th>\n",
       "      <th>...</th>\n",
       "      <th>25</th>\n",
       "      <th>26</th>\n",
       "      <th>27</th>\n",
       "      <th>28</th>\n",
       "      <th>29</th>\n",
       "      <th>Abbreviation</th>\n",
       "      <th>Genus</th>\n",
       "      <th>Species</th>\n",
       "      <th>Sex</th>\n",
       "      <th>Age</th>\n",
       "    </tr>\n",
       "  </thead>\n",
       "  <tbody>\n",
       "    <tr>\n",
       "      <th>0</th>\n",
       "      <td>37773</td>\n",
       "      <td>133.426742</td>\n",
       "      <td>-101.627603</td>\n",
       "      <td>21.125902</td>\n",
       "      <td>-11.518251</td>\n",
       "      <td>4.621089</td>\n",
       "      <td>-1.519551</td>\n",
       "      <td>0.583410</td>\n",
       "      <td>-7.182875</td>\n",
       "      <td>1.410030</td>\n",
       "      <td>...</td>\n",
       "      <td>-0.301822</td>\n",
       "      <td>-0.433051</td>\n",
       "      <td>0.037651</td>\n",
       "      <td>-0.279618</td>\n",
       "      <td>-0.421040</td>\n",
       "      <td>Ph</td>\n",
       "      <td>Presbytis</td>\n",
       "      <td>hosei</td>\n",
       "      <td>U</td>\n",
       "      <td>A</td>\n",
       "    </tr>\n",
       "    <tr>\n",
       "      <th>1</th>\n",
       "      <td>37772</td>\n",
       "      <td>145.344740</td>\n",
       "      <td>-108.229812</td>\n",
       "      <td>21.121390</td>\n",
       "      <td>-14.982879</td>\n",
       "      <td>2.299335</td>\n",
       "      <td>-2.354040</td>\n",
       "      <td>0.431199</td>\n",
       "      <td>-5.266930</td>\n",
       "      <td>-1.424469</td>\n",
       "      <td>...</td>\n",
       "      <td>0.215340</td>\n",
       "      <td>-0.299550</td>\n",
       "      <td>0.709472</td>\n",
       "      <td>0.876382</td>\n",
       "      <td>-0.150133</td>\n",
       "      <td>Ph</td>\n",
       "      <td>Presbytis</td>\n",
       "      <td>hosei</td>\n",
       "      <td>F</td>\n",
       "      <td>A</td>\n",
       "    </tr>\n",
       "    <tr>\n",
       "      <th>2</th>\n",
       "      <td>22276</td>\n",
       "      <td>137.773342</td>\n",
       "      <td>-107.162743</td>\n",
       "      <td>18.232497</td>\n",
       "      <td>-17.116294</td>\n",
       "      <td>3.016809</td>\n",
       "      <td>-5.295234</td>\n",
       "      <td>1.716895</td>\n",
       "      <td>-1.668914</td>\n",
       "      <td>-1.917478</td>\n",
       "      <td>...</td>\n",
       "      <td>-0.481468</td>\n",
       "      <td>-0.243025</td>\n",
       "      <td>-0.537644</td>\n",
       "      <td>-0.140292</td>\n",
       "      <td>0.082158</td>\n",
       "      <td>Pr</td>\n",
       "      <td>Presbytis</td>\n",
       "      <td>rubicunda</td>\n",
       "      <td>U</td>\n",
       "      <td>A</td>\n",
       "    </tr>\n",
       "    <tr>\n",
       "      <th>3</th>\n",
       "      <td>37776</td>\n",
       "      <td>141.523739</td>\n",
       "      <td>-107.436626</td>\n",
       "      <td>17.448083</td>\n",
       "      <td>-16.861469</td>\n",
       "      <td>3.382894</td>\n",
       "      <td>-1.071286</td>\n",
       "      <td>1.768891</td>\n",
       "      <td>-2.735232</td>\n",
       "      <td>-1.136700</td>\n",
       "      <td>...</td>\n",
       "      <td>0.586941</td>\n",
       "      <td>-0.043639</td>\n",
       "      <td>-0.518699</td>\n",
       "      <td>-1.051100</td>\n",
       "      <td>0.542354</td>\n",
       "      <td>Pr</td>\n",
       "      <td>Presbytis</td>\n",
       "      <td>rubicunda</td>\n",
       "      <td>M</td>\n",
       "      <td>A</td>\n",
       "    </tr>\n",
       "    <tr>\n",
       "      <th>4</th>\n",
       "      <td>37777</td>\n",
       "      <td>142.357906</td>\n",
       "      <td>-97.195294</td>\n",
       "      <td>10.511391</td>\n",
       "      <td>-6.520641</td>\n",
       "      <td>3.555506</td>\n",
       "      <td>1.652390</td>\n",
       "      <td>-0.655919</td>\n",
       "      <td>-5.373075</td>\n",
       "      <td>-1.466841</td>\n",
       "      <td>...</td>\n",
       "      <td>0.653851</td>\n",
       "      <td>0.718319</td>\n",
       "      <td>0.798722</td>\n",
       "      <td>-0.396749</td>\n",
       "      <td>0.844772</td>\n",
       "      <td>Pr</td>\n",
       "      <td>Presbytis</td>\n",
       "      <td>rubicunda</td>\n",
       "      <td>F</td>\n",
       "      <td>A</td>\n",
       "    </tr>\n",
       "  </tbody>\n",
       "</table>\n",
       "<p>5 rows × 36 columns</p>\n",
       "</div>"
      ],
      "text/plain": [
       "   Unnamed: 0           0           1          2          3         4  \\\n",
       "0       37773  133.426742 -101.627603  21.125902 -11.518251  4.621089   \n",
       "1       37772  145.344740 -108.229812  21.121390 -14.982879  2.299335   \n",
       "2       22276  137.773342 -107.162743  18.232497 -17.116294  3.016809   \n",
       "3       37776  141.523739 -107.436626  17.448083 -16.861469  3.382894   \n",
       "4       37777  142.357906  -97.195294  10.511391  -6.520641  3.555506   \n",
       "\n",
       "          5         6         7         8  ...        25        26        27  \\\n",
       "0 -1.519551  0.583410 -7.182875  1.410030  ... -0.301822 -0.433051  0.037651   \n",
       "1 -2.354040  0.431199 -5.266930 -1.424469  ...  0.215340 -0.299550  0.709472   \n",
       "2 -5.295234  1.716895 -1.668914 -1.917478  ... -0.481468 -0.243025 -0.537644   \n",
       "3 -1.071286  1.768891 -2.735232 -1.136700  ...  0.586941 -0.043639 -0.518699   \n",
       "4  1.652390 -0.655919 -5.373075 -1.466841  ...  0.653851  0.718319  0.798722   \n",
       "\n",
       "         28        29  Abbreviation      Genus    Species  Sex  Age  \n",
       "0 -0.279618 -0.421040            Ph  Presbytis      hosei    U    A  \n",
       "1  0.876382 -0.150133            Ph  Presbytis      hosei    F    A  \n",
       "2 -0.140292  0.082158            Pr  Presbytis  rubicunda    U    A  \n",
       "3 -1.051100  0.542354            Pr  Presbytis  rubicunda    M    A  \n",
       "4 -0.396749  0.844772            Pr  Presbytis  rubicunda    F    A  \n",
       "\n",
       "[5 rows x 36 columns]"
      ]
     },
     "execution_count": 130,
     "metadata": {},
     "output_type": "execute_result"
    }
   ],
   "source": [
    "data = pd.read_csv('primates-morphology.csv')\n",
    "data.head()"
   ]
  },
  {
   "cell_type": "code",
   "execution_count": 131,
   "metadata": {},
   "outputs": [],
   "source": [
    "df = data.copy()\n",
    "df.drop('Abbreviation', axis=1, inplace=True)\n",
    "df.drop('Genus', axis=1, inplace=True)\n",
    "df.drop('Sex', axis=1, inplace=True)\n",
    "df.drop('Age', axis=1, inplace=True)\n",
    "df = df.iloc[: , 1:]"
   ]
  },
  {
   "cell_type": "markdown",
   "metadata": {},
   "source": [
    "---"
   ]
  },
  {
   "cell_type": "markdown",
   "metadata": {},
   "source": [
    "# PCA\n",
    "first, i will do PCA, to find the most important features, which makes it eassier to cluster the data."
   ]
  },
  {
   "cell_type": "code",
   "execution_count": 132,
   "metadata": {},
   "outputs": [
    {
     "data": {
      "application/vnd.plotly.v1+json": {
       "config": {
        "plotlyServerURL": "https://plot.ly"
       },
       "data": [
        {
         "hovertemplate": "color=hosei<br>0=%{x}<br>1=%{y}<extra></extra>",
         "legendgroup": "hosei",
         "marker": {
          "color": "#636efa",
          "symbol": "circle"
         },
         "mode": "markers",
         "name": "hosei",
         "orientation": "v",
         "showlegend": true,
         "type": "scatter",
         "x": [
          -134.22132415837285,
          -146.5358851879767,
          61.83034216590784,
          58.0771115464012,
          51.71931128585079
         ],
         "xaxis": "x",
         "y": [
          -92.77180266606902,
          -98.65892371381877,
          -82.34964640864402,
          -86.56122315013823,
          -91.56742477391028
         ],
         "yaxis": "y"
        },
        {
         "hovertemplate": "color=rubicunda<br>0=%{x}<br>1=%{y}<extra></extra>",
         "legendgroup": "rubicunda",
         "marker": {
          "color": "#EF553B",
          "symbol": "circle"
         },
         "mode": "markers",
         "name": "rubicunda",
         "orientation": "v",
         "showlegend": true,
         "type": "scatter",
         "x": [
          -138.8739476147435,
          -142.61768682173843,
          -142.56794420602026,
          67.74055162474691,
          59.86913735537959,
          53.335851159149634,
          53.611817601030914,
          52.34768682362707
         ],
         "xaxis": "x",
         "y": [
          -98.31490085230395,
          -98.45779361878641,
          -89.02757089835136,
          -82.76010389360994,
          -82.33318395396994,
          -86.23578528626801,
          -85.1532817208024,
          -89.6745097885364
         ],
         "yaxis": "y"
        },
        {
         "hovertemplate": "color=mitis<br>0=%{x}<br>1=%{y}<extra></extra>",
         "legendgroup": "mitis",
         "marker": {
          "color": "#00cc96",
          "symbol": "circle"
         },
         "mode": "markers",
         "name": "mitis",
         "orientation": "v",
         "showlegend": true,
         "type": "scatter",
         "x": [
          -127.70054630246803,
          -123.03805917197774,
          -130.66966699789626,
          -136.9046400437762,
          -140.41076059856653,
          -146.70314814069874,
          -141.58078738155376,
          -150.65947252116894,
          -142.62826041539543,
          -152.2109271309572
         ],
         "xaxis": "x",
         "y": [
          -90.56680222881349,
          -85.66320421668183,
          -97.509834922684,
          -95.28504333999834,
          -93.61120007773863,
          -98.0082732091032,
          -97.00016937519291,
          -91.6660032242923,
          -98.19559577356468,
          -91.8954267224147
         ],
         "yaxis": "y"
        },
        {
         "hovertemplate": "color=talapoin<br>0=%{x}<br>1=%{y}<extra></extra>",
         "legendgroup": "talapoin",
         "marker": {
          "color": "#ab63fa",
          "symbol": "circle"
         },
         "mode": "markers",
         "name": "talapoin",
         "orientation": "v",
         "showlegend": true,
         "type": "scatter",
         "x": [
          -154.67336064825065,
          -152.0217852399114,
          -167.18163475965562,
          -164.04168619384228,
          -163.0648918656636
         ],
         "xaxis": "x",
         "y": [
          -75.83101009925363,
          -78.61300345139325,
          -92.66804095466998,
          -80.92597335955715,
          -83.26690559044042
         ],
         "yaxis": "y"
        },
        {
         "hovertemplate": "color=albigena<br>0=%{x}<br>1=%{y}<extra></extra>",
         "legendgroup": "albigena",
         "marker": {
          "color": "#FFA15A",
          "symbol": "circle"
         },
         "mode": "markers",
         "name": "albigena",
         "orientation": "v",
         "showlegend": true,
         "type": "scatter",
         "x": [
          -176.69372979978263,
          -154.2792313195685,
          -173.16699439414512,
          -171.9961162240173,
          -149.1175880793301,
          -141.64449520752171
         ],
         "xaxis": "x",
         "y": [
          46.0913122212873,
          53.11791850051964,
          49.6157533773064,
          57.62541769341915,
          -103.88819204854785,
          59.627547366172685
         ],
         "yaxis": "y"
        },
        {
         "hovertemplate": "color=badius<br>0=%{x}<br>1=%{y}<extra></extra>",
         "legendgroup": "badius",
         "marker": {
          "color": "#19d3f3",
          "symbol": "circle"
         },
         "mode": "markers",
         "name": "badius",
         "orientation": "v",
         "showlegend": true,
         "type": "scatter",
         "x": [
          41.174466091443115,
          42.85429586363668,
          50.276745631728815,
          39.36469033359292,
          36.42443677579379,
          54.53979000172958,
          34.87693962329566,
          38.67726653810827,
          50.40025270405333,
          37.98237689486636
         ],
         "xaxis": "x",
         "y": [
          -93.10819478437566,
          -91.66412501048495,
          -100.75457058849949,
          -91.70673053251438,
          -96.49209206490295,
          -104.07798007906983,
          -89.19483576588466,
          -97.46230819403132,
          -94.11933701119668,
          -94.44441195777569
         ],
         "yaxis": "y"
        },
        {
         "hovertemplate": "color=patas<br>0=%{x}<br>1=%{y}<extra></extra>",
         "legendgroup": "patas",
         "marker": {
          "color": "#FF6692",
          "symbol": "circle"
         },
         "mode": "markers",
         "name": "patas",
         "orientation": "v",
         "showlegend": true,
         "type": "scatter",
         "x": [
          20.67245776563639,
          15.256620104866803,
          12.434070740490187,
          0.2766383398501958
         ],
         "xaxis": "x",
         "y": [
          18.47202227805373,
          26.43298963335112,
          10.948797882379889,
          9.770079638149411
         ],
         "yaxis": "y"
        },
        {
         "hovertemplate": "color=fascicularis<br>0=%{x}<br>1=%{y}<extra></extra>",
         "legendgroup": "fascicularis",
         "marker": {
          "color": "#B6E880",
          "symbol": "circle"
         },
         "mode": "markers",
         "name": "fascicularis",
         "orientation": "v",
         "showlegend": true,
         "type": "scatter",
         "x": [
          23.536987891756286,
          13.043276033808885,
          28.054859375985146,
          15.258773369291276,
          10.41041509817061,
          17.872357174758296,
          10.100837852597419,
          16.7361815783711
         ],
         "xaxis": "x",
         "y": [
          39.81430153461159,
          39.41468307628429,
          40.268411730184276,
          35.662812260930444,
          39.4514202552835,
          29.060112634011254,
          39.37996988638177,
          33.40868192891481
         ],
         "yaxis": "y"
        },
        {
         "hovertemplate": "color=sylvanus<br>0=%{x}<br>1=%{y}<extra></extra>",
         "legendgroup": "sylvanus",
         "marker": {
          "color": "#FF97FF",
          "symbol": "circle"
         },
         "mode": "markers",
         "name": "sylvanus",
         "orientation": "v",
         "showlegend": true,
         "type": "scatter",
         "x": [
          11.374089344046293,
          31.083822657563445
         ],
         "xaxis": "x",
         "y": [
          19.392669780402006,
          11.962366572104733
         ],
         "yaxis": "y"
        },
        {
         "hovertemplate": "color=fuscata<br>0=%{x}<br>1=%{y}<extra></extra>",
         "legendgroup": "fuscata",
         "marker": {
          "color": "#FECB52",
          "symbol": "circle"
         },
         "mode": "markers",
         "name": "fuscata",
         "orientation": "v",
         "showlegend": true,
         "type": "scatter",
         "x": [
          3.8181697674085284,
          23.56083357310231
         ],
         "xaxis": "x",
         "y": [
          23.355556272579225,
          10.140703186748649
         ],
         "yaxis": "y"
        },
        {
         "hovertemplate": "color=mulatta<br>0=%{x}<br>1=%{y}<extra></extra>",
         "legendgroup": "mulatta",
         "marker": {
          "color": "#636efa",
          "symbol": "circle"
         },
         "mode": "markers",
         "name": "mulatta",
         "orientation": "v",
         "showlegend": true,
         "type": "scatter",
         "x": [
          -0.6635877375924566,
          2.146697343596936,
          2.981391689679129
         ],
         "xaxis": "x",
         "y": [
          27.510129654199137,
          19.335924982361234,
          15.807197857508363
         ],
         "yaxis": "y"
        },
        {
         "hovertemplate": "color=cristata<br>0=%{x}<br>1=%{y}<extra></extra>",
         "legendgroup": "cristata",
         "marker": {
          "color": "#EF553B",
          "symbol": "circle"
         },
         "mode": "markers",
         "name": "cristata",
         "orientation": "v",
         "showlegend": true,
         "type": "scatter",
         "x": [
          -46.969756847734125,
          -52.96575223126138,
          -63.26095577015518,
          -66.23919036212553,
          -63.54791316897786,
          -61.42372353103916,
          -69.3701677816225,
          -80.88881592819077,
          -66.03810864863689,
          -92.65281938325315,
          104.1144134594605,
          100.10336979308096,
          92.78928874577434,
          94.27739567620807,
          96.39616851163565,
          95.46062368125004,
          91.52042705390481,
          87.51797034987939
         ],
         "xaxis": "x",
         "y": [
          79.2121106390381,
          74.61246841772649,
          70.11093483220819,
          72.12758797572633,
          66.49944528178517,
          73.29214585018082,
          62.317241934829994,
          60.90282691715274,
          62.175869469810245,
          58.327154316293125,
          -10.063965373212994,
          -10.36884372128793,
          -13.797107646655132,
          -14.297307093155906,
          -18.978747099418268,
          -16.381557216047725,
          -18.351987682812876,
          -23.333503580373414
         ],
         "yaxis": "y"
        },
        {
         "hovertemplate": "color=polykomos<br>0=%{x}<br>1=%{y}<extra></extra>",
         "legendgroup": "polykomos",
         "marker": {
          "color": "#00cc96",
          "symbol": "circle"
         },
         "mode": "markers",
         "name": "polykomos",
         "orientation": "v",
         "showlegend": true,
         "type": "scatter",
         "x": [
          -75.23373288940147,
          -84.17016744109586,
          -81.13750439773877,
          -80.56820077362742,
          -82.85714940578627,
          -96.22368631366051,
          -97.17067857779824,
          -105.51418395645003,
          -123.57777751390452,
          -147.64801691574618
         ],
         "xaxis": "x",
         "y": [
          49.43922391814513,
          62.16264374289962,
          54.20226763740166,
          54.519207836784545,
          44.68846836817296,
          55.636739047083616,
          43.025749000364605,
          42.042801584400294,
          45.47483516457712,
          32.34098174096547
         ],
         "yaxis": "y"
        },
        {
         "hovertemplate": "color=torquatus<br>0=%{x}<br>1=%{y}<extra></extra>",
         "legendgroup": "torquatus",
         "marker": {
          "color": "#ab63fa",
          "symbol": "circle"
         },
         "mode": "markers",
         "name": "torquatus",
         "orientation": "v",
         "showlegend": true,
         "type": "scatter",
         "x": [
          -76.49359391703334,
          -80.03746957595473,
          -88.6992124200171,
          -101.40498147583747,
          -82.43921647481021,
          -129.70520993600553,
          -101.03616793608235,
          -89.235653380941,
          -93.31325810630699
         ],
         "xaxis": "x",
         "y": [
          47.405283832637025,
          29.72844109983561,
          24.34921619397034,
          24.582840336804697,
          28.30147994810285,
          21.27934864604977,
          20.87123631645581,
          29.649849175525077,
          26.419731988861237
         ],
         "yaxis": "y"
        },
        {
         "hovertemplate": "color=gelada<br>0=%{x}<br>1=%{y}<extra></extra>",
         "legendgroup": "gelada",
         "marker": {
          "color": "#FFA15A",
          "symbol": "circle"
         },
         "mode": "markers",
         "name": "gelada",
         "orientation": "v",
         "showlegend": true,
         "type": "scatter",
         "x": [
          146.15320251995803
         ],
         "xaxis": "x",
         "y": [
          177.79055240315898
         ],
         "yaxis": "y"
        },
        {
         "hovertemplate": "color=leucophaeus<br>0=%{x}<br>1=%{y}<extra></extra>",
         "legendgroup": "leucophaeus",
         "marker": {
          "color": "#19d3f3",
          "symbol": "circle"
         },
         "mode": "markers",
         "name": "leucophaeus",
         "orientation": "v",
         "showlegend": true,
         "type": "scatter",
         "x": [
          138.4406487592098,
          164.13988933534628,
          -162.7178944583021,
          23.90752406156797
         ],
         "xaxis": "x",
         "y": [
          196.84042005142607,
          186.056072176911,
          443.30017894720464,
          -4.028931778755135
         ],
         "yaxis": "y"
        },
        {
         "hovertemplate": "color=sphinx<br>0=%{x}<br>1=%{y}<extra></extra>",
         "legendgroup": "sphinx",
         "marker": {
          "color": "#FF6692",
          "symbol": "circle"
         },
         "mode": "markers",
         "name": "sphinx",
         "orientation": "v",
         "showlegend": true,
         "type": "scatter",
         "x": [
          49.146006465517154,
          25.586814057993973
         ],
         "xaxis": "x",
         "y": [
          54.64208590622471,
          -11.811221040234086
         ],
         "yaxis": "y"
        },
        {
         "hovertemplate": "color=anubis<br>0=%{x}<br>1=%{y}<extra></extra>",
         "legendgroup": "anubis",
         "marker": {
          "color": "#B6E880",
          "symbol": "circle"
         },
         "mode": "markers",
         "name": "anubis",
         "orientation": "v",
         "showlegend": true,
         "type": "scatter",
         "x": [
          71.50719179816868,
          44.36431662443176,
          18.242432194514567,
          7.093795004816529,
          24.143881519911066,
          17.05637486965191,
          15.729916770579534,
          16.42048315347957,
          1.8410899174034991
         ],
         "xaxis": "x",
         "y": [
          35.197861316690755,
          25.483864165139824,
          27.484730060524065,
          5.824584483682463,
          14.49270847047526,
          28.762016391714727,
          35.13888698028484,
          3.671308875829434,
          -11.338996894547224
         ],
         "yaxis": "y"
        },
        {
         "hovertemplate": "color=larvatus<br>0=%{x}<br>1=%{y}<extra></extra>",
         "legendgroup": "larvatus",
         "marker": {
          "color": "#FF97FF",
          "symbol": "circle"
         },
         "mode": "markers",
         "name": "larvatus",
         "orientation": "v",
         "showlegend": true,
         "type": "scatter",
         "x": [
          6.423008063630589,
          -21.40046042335206,
          -27.030822197764643,
          -43.35115148432083,
          20.956359865989402,
          24.00486493253572,
          24.643534723040325,
          14.455786753291493,
          19.43226685662819
         ],
         "xaxis": "x",
         "y": [
          55.622592808391886,
          50.02171734423863,
          47.80035895927714,
          44.694369477811996,
          54.49032382463324,
          52.4721369263583,
          55.28726366781323,
          53.83372642484333,
          50.708404182536576
         ],
         "yaxis": "y"
        },
        {
         "hovertemplate": "color=syndactylus<br>0=%{x}<br>1=%{y}<extra></extra>",
         "legendgroup": "syndactylus",
         "marker": {
          "color": "#FECB52",
          "symbol": "circle"
         },
         "mode": "markers",
         "name": "syndactylus",
         "orientation": "v",
         "showlegend": true,
         "type": "scatter",
         "x": [
          12.20086014491846,
          33.744784652181096
         ],
         "xaxis": "x",
         "y": [
          20.483913872561214,
          27.49981791645419
         ],
         "yaxis": "y"
        },
        {
         "hovertemplate": "color=lar<br>0=%{x}<br>1=%{y}<extra></extra>",
         "legendgroup": "lar",
         "marker": {
          "color": "#636efa",
          "symbol": "circle"
         },
         "mode": "markers",
         "name": "lar",
         "orientation": "v",
         "showlegend": true,
         "type": "scatter",
         "x": [
          22.965870110009927,
          12.73823640815617,
          -4.002498981794241,
          5.522645404177018,
          -5.401551098106255,
          3.909087629864711,
          -13.915353590346482,
          -6.966856209074103,
          -1.5864916862321599,
          -16.405107451264985,
          -12.589257207895383,
          95.41768346223448,
          94.93888904117924,
          92.00013360818807,
          92.78859248879269,
          91.5233929146994,
          91.21371858841283,
          90.0113665853479
         ],
         "xaxis": "x",
         "y": [
          38.81527050152923,
          32.7566342024676,
          24.30549455593604,
          25.693389405828537,
          20.012505604245117,
          27.16185931879843,
          28.64654813371185,
          21.701119713890208,
          23.574786513379763,
          24.68051939355321,
          16.660489542613313,
          -31.50189644015515,
          -41.354694631757646,
          -43.27349299364275,
          -36.703329399544,
          -38.43709193213681,
          -48.151128945714,
          -42.08628961357679
         ],
         "yaxis": "y"
        },
        {
         "hovertemplate": "color=pygmaeus<br>0=%{x}<br>1=%{y}<extra></extra>",
         "legendgroup": "pygmaeus",
         "marker": {
          "color": "#EF553B",
          "symbol": "circle"
         },
         "mode": "markers",
         "name": "pygmaeus",
         "orientation": "v",
         "showlegend": true,
         "type": "scatter",
         "x": [
          148.916513330417,
          139.195091180747
         ],
         "xaxis": "x",
         "y": [
          -1.9861885063767037,
          63.45171782020962
         ],
         "yaxis": "y"
        },
        {
         "hovertemplate": "color=troglodytes<br>0=%{x}<br>1=%{y}<extra></extra>",
         "legendgroup": "troglodytes",
         "marker": {
          "color": "#00cc96",
          "symbol": "circle"
         },
         "mode": "markers",
         "name": "troglodytes",
         "orientation": "v",
         "showlegend": true,
         "type": "scatter",
         "x": [
          155.8712373751001,
          135.81482657657398,
          132.50341975731402,
          111.22682706411416,
          145.2351331942256,
          129.77940100349517,
          107.23817126808838,
          135.99702830943986,
          162.17869239163807
         ],
         "xaxis": "x",
         "y": [
          -10.096138122099104,
          -19.351973506781032,
          -15.055858323720594,
          -16.199152419627485,
          -9.608865352437242,
          -1.1094073787139618,
          -19.377273726827124,
          -12.477338667675234,
          -6.679751731069931
         ],
         "yaxis": "y"
        },
        {
         "hovertemplate": "color=paniscus<br>0=%{x}<br>1=%{y}<extra></extra>",
         "legendgroup": "paniscus",
         "marker": {
          "color": "#ab63fa",
          "symbol": "circle"
         },
         "mode": "markers",
         "name": "paniscus",
         "orientation": "v",
         "showlegend": true,
         "type": "scatter",
         "x": [
          153.13002113117088,
          162.34136299295443,
          154.0756254234084
         ],
         "xaxis": "x",
         "y": [
          -3.0772867017952668,
          11.24630137616371,
          -5.136806654812171
         ],
         "yaxis": "y"
        },
        {
         "hovertemplate": "color=gorilla<br>0=%{x}<br>1=%{y}<extra></extra>",
         "legendgroup": "gorilla",
         "marker": {
          "color": "#FFA15A",
          "symbol": "circle"
         },
         "mode": "markers",
         "name": "gorilla",
         "orientation": "v",
         "showlegend": true,
         "type": "scatter",
         "x": [
          196.27036166397156,
          208.1557101304621,
          185.03022037352082,
          197.59173941977122,
          190.59409534917327,
          191.3473337983098
         ],
         "xaxis": "x",
         "y": [
          -27.894577143415678,
          -10.842048097450123,
          -21.988730523533906,
          -45.95302451606911,
          -36.427785920813406,
          -8.663727448909714
         ],
         "yaxis": "y"
        }
       ],
       "layout": {
        "annotations": [
         {
          "ax": 0,
          "ay": 0,
          "text": "0",
          "x": -98.97431497015928,
          "xanchor": "center",
          "y": 3.832518222076949,
          "yanchor": "bottom"
         },
         {
          "ax": 0,
          "ay": 0,
          "text": "1",
          "x": 5.705902753895089,
          "xanchor": "center",
          "y": 69.49162946843992,
          "yanchor": "bottom"
         },
         {
          "ax": 0,
          "ay": 0,
          "text": "2",
          "x": -2.2396785772098258,
          "xanchor": "center",
          "y": 7.373292452860379,
          "yanchor": "bottom"
         },
         {
          "ax": 0,
          "ay": 0,
          "text": "3",
          "x": 1.427297932274949,
          "xanchor": "center",
          "y": -0.39005391510281934,
          "yanchor": "bottom"
         },
         {
          "ax": 0,
          "ay": 0,
          "text": "4",
          "x": -0.1522372233633941,
          "xanchor": "center",
          "y": 0.10612739867852501,
          "yanchor": "bottom"
         },
         {
          "ax": 0,
          "ay": 0,
          "text": "5",
          "x": -0.45465346704384235,
          "xanchor": "center",
          "y": 0.11642760842450002,
          "yanchor": "bottom"
         },
         {
          "ax": 0,
          "ay": 0,
          "text": "6",
          "x": -0.09332557510566135,
          "xanchor": "center",
          "y": -0.007099776471690568,
          "yanchor": "bottom"
         },
         {
          "ax": 0,
          "ay": 0,
          "text": "7",
          "x": 0.23794178339116362,
          "xanchor": "center",
          "y": -0.06829440554616611,
          "yanchor": "bottom"
         },
         {
          "ax": 0,
          "ay": 0,
          "text": "8",
          "x": 0.15765789430969707,
          "xanchor": "center",
          "y": -0.07549177358392903,
          "yanchor": "bottom"
         },
         {
          "ax": 0,
          "ay": 0,
          "text": "9",
          "x": -0.15478711074765147,
          "xanchor": "center",
          "y": 0.04691077743357801,
          "yanchor": "bottom"
         },
         {
          "ax": 0,
          "ay": 0,
          "text": "10",
          "x": -0.05786332278952371,
          "xanchor": "center",
          "y": 0.008476716980615579,
          "yanchor": "bottom"
         },
         {
          "ax": 0,
          "ay": 0,
          "text": "11",
          "x": -0.10533254324019707,
          "xanchor": "center",
          "y": -0.04968622934771824,
          "yanchor": "bottom"
         },
         {
          "ax": 0,
          "ay": 0,
          "text": "12",
          "x": -0.025659649717789418,
          "xanchor": "center",
          "y": 0.014140316521288717,
          "yanchor": "bottom"
         },
         {
          "ax": 0,
          "ay": 0,
          "text": "13",
          "x": -0.2157761561889977,
          "xanchor": "center",
          "y": 0.06357008366592243,
          "yanchor": "bottom"
         },
         {
          "ax": 0,
          "ay": 0,
          "text": "14",
          "x": 0.03868545458569823,
          "xanchor": "center",
          "y": -0.024848875502792134,
          "yanchor": "bottom"
         },
         {
          "ax": 0,
          "ay": 0,
          "text": "15",
          "x": 0.0842658135064189,
          "xanchor": "center",
          "y": 0.006537695791402051,
          "yanchor": "bottom"
         },
         {
          "ax": 0,
          "ay": 0,
          "text": "16",
          "x": 0.01494777105123088,
          "xanchor": "center",
          "y": -0.03438007863371208,
          "yanchor": "bottom"
         },
         {
          "ax": 0,
          "ay": 0,
          "text": "17",
          "x": -0.10963791258971559,
          "xanchor": "center",
          "y": 0.05372379265824065,
          "yanchor": "bottom"
         },
         {
          "ax": 0,
          "ay": 0,
          "text": "18",
          "x": -0.00467769845036091,
          "xanchor": "center",
          "y": 0.011361984557866446,
          "yanchor": "bottom"
         },
         {
          "ax": 0,
          "ay": 0,
          "text": "19",
          "x": 0.006381882306530777,
          "xanchor": "center",
          "y": -0.01868005274778588,
          "yanchor": "bottom"
         },
         {
          "ax": 0,
          "ay": 0,
          "text": "20",
          "x": 0.03515216664409226,
          "xanchor": "center",
          "y": -0.00569066781529732,
          "yanchor": "bottom"
         },
         {
          "ax": 0,
          "ay": 0,
          "text": "21",
          "x": -0.033200982440259236,
          "xanchor": "center",
          "y": 0.018001370957494715,
          "yanchor": "bottom"
         },
         {
          "ax": 0,
          "ay": 0,
          "text": "22",
          "x": -0.024895721694236976,
          "xanchor": "center",
          "y": -0.00941621743690967,
          "yanchor": "bottom"
         },
         {
          "ax": 0,
          "ay": 0,
          "text": "23",
          "x": 0.023136457274813005,
          "xanchor": "center",
          "y": -0.00005660812689712262,
          "yanchor": "bottom"
         },
         {
          "ax": 0,
          "ay": 0,
          "text": "24",
          "x": -0.0025414666215280036,
          "xanchor": "center",
          "y": -0.011064074559607262,
          "yanchor": "bottom"
         },
         {
          "ax": 0,
          "ay": 0,
          "text": "25",
          "x": -0.015841862695109173,
          "xanchor": "center",
          "y": -0.004851859576573948,
          "yanchor": "bottom"
         },
         {
          "ax": 0,
          "ay": 0,
          "text": "26",
          "x": 0.013191711929803765,
          "xanchor": "center",
          "y": -0.004555499464361479,
          "yanchor": "bottom"
         },
         {
          "ax": 0,
          "ay": 0,
          "text": "27",
          "x": -0.026986628934829976,
          "xanchor": "center",
          "y": 0.010990635875598016,
          "yanchor": "bottom"
         },
         {
          "ax": 0,
          "ay": 0,
          "text": "28",
          "x": 0.011180644468336165,
          "xanchor": "center",
          "y": -0.010010236452408498,
          "yanchor": "bottom"
         },
         {
          "ax": 0,
          "ay": 0,
          "text": "29",
          "x": -0.01228749390777219,
          "xanchor": "center",
          "y": -0.0005693253009853508,
          "yanchor": "bottom"
         }
        ],
        "legend": {
         "title": {
          "text": "color"
         },
         "tracegroupgap": 0
        },
        "margin": {
         "t": 60
        },
        "shapes": [
         {
          "type": "line",
          "x0": 0,
          "x1": -98.97431497015928,
          "y0": 0,
          "y1": 3.832518222076949
         },
         {
          "type": "line",
          "x0": 0,
          "x1": 5.705902753895089,
          "y0": 0,
          "y1": 69.49162946843992
         },
         {
          "type": "line",
          "x0": 0,
          "x1": -2.2396785772098258,
          "y0": 0,
          "y1": 7.373292452860379
         },
         {
          "type": "line",
          "x0": 0,
          "x1": 1.427297932274949,
          "y0": 0,
          "y1": -0.39005391510281934
         },
         {
          "type": "line",
          "x0": 0,
          "x1": -0.1522372233633941,
          "y0": 0,
          "y1": 0.10612739867852501
         },
         {
          "type": "line",
          "x0": 0,
          "x1": -0.45465346704384235,
          "y0": 0,
          "y1": 0.11642760842450002
         },
         {
          "type": "line",
          "x0": 0,
          "x1": -0.09332557510566135,
          "y0": 0,
          "y1": -0.007099776471690568
         },
         {
          "type": "line",
          "x0": 0,
          "x1": 0.23794178339116362,
          "y0": 0,
          "y1": -0.06829440554616611
         },
         {
          "type": "line",
          "x0": 0,
          "x1": 0.15765789430969707,
          "y0": 0,
          "y1": -0.07549177358392903
         },
         {
          "type": "line",
          "x0": 0,
          "x1": -0.15478711074765147,
          "y0": 0,
          "y1": 0.04691077743357801
         },
         {
          "type": "line",
          "x0": 0,
          "x1": -0.05786332278952371,
          "y0": 0,
          "y1": 0.008476716980615579
         },
         {
          "type": "line",
          "x0": 0,
          "x1": -0.10533254324019707,
          "y0": 0,
          "y1": -0.04968622934771824
         },
         {
          "type": "line",
          "x0": 0,
          "x1": -0.025659649717789418,
          "y0": 0,
          "y1": 0.014140316521288717
         },
         {
          "type": "line",
          "x0": 0,
          "x1": -0.2157761561889977,
          "y0": 0,
          "y1": 0.06357008366592243
         },
         {
          "type": "line",
          "x0": 0,
          "x1": 0.03868545458569823,
          "y0": 0,
          "y1": -0.024848875502792134
         },
         {
          "type": "line",
          "x0": 0,
          "x1": 0.0842658135064189,
          "y0": 0,
          "y1": 0.006537695791402051
         },
         {
          "type": "line",
          "x0": 0,
          "x1": 0.01494777105123088,
          "y0": 0,
          "y1": -0.03438007863371208
         },
         {
          "type": "line",
          "x0": 0,
          "x1": -0.10963791258971559,
          "y0": 0,
          "y1": 0.05372379265824065
         },
         {
          "type": "line",
          "x0": 0,
          "x1": -0.00467769845036091,
          "y0": 0,
          "y1": 0.011361984557866446
         },
         {
          "type": "line",
          "x0": 0,
          "x1": 0.006381882306530777,
          "y0": 0,
          "y1": -0.01868005274778588
         },
         {
          "type": "line",
          "x0": 0,
          "x1": 0.03515216664409226,
          "y0": 0,
          "y1": -0.00569066781529732
         },
         {
          "type": "line",
          "x0": 0,
          "x1": -0.033200982440259236,
          "y0": 0,
          "y1": 0.018001370957494715
         },
         {
          "type": "line",
          "x0": 0,
          "x1": -0.024895721694236976,
          "y0": 0,
          "y1": -0.00941621743690967
         },
         {
          "type": "line",
          "x0": 0,
          "x1": 0.023136457274813005,
          "y0": 0,
          "y1": -0.00005660812689712262
         },
         {
          "type": "line",
          "x0": 0,
          "x1": -0.0025414666215280036,
          "y0": 0,
          "y1": -0.011064074559607262
         },
         {
          "type": "line",
          "x0": 0,
          "x1": -0.015841862695109173,
          "y0": 0,
          "y1": -0.004851859576573948
         },
         {
          "type": "line",
          "x0": 0,
          "x1": 0.013191711929803765,
          "y0": 0,
          "y1": -0.004555499464361479
         },
         {
          "type": "line",
          "x0": 0,
          "x1": -0.026986628934829976,
          "y0": 0,
          "y1": 0.010990635875598016
         },
         {
          "type": "line",
          "x0": 0,
          "x1": 0.011180644468336165,
          "y0": 0,
          "y1": -0.010010236452408498
         },
         {
          "type": "line",
          "x0": 0,
          "x1": -0.01228749390777219,
          "y0": 0,
          "y1": -0.0005693253009853508
         }
        ],
        "template": {
         "data": {
          "bar": [
           {
            "error_x": {
             "color": "#2a3f5f"
            },
            "error_y": {
             "color": "#2a3f5f"
            },
            "marker": {
             "line": {
              "color": "#E5ECF6",
              "width": 0.5
             },
             "pattern": {
              "fillmode": "overlay",
              "size": 10,
              "solidity": 0.2
             }
            },
            "type": "bar"
           }
          ],
          "barpolar": [
           {
            "marker": {
             "line": {
              "color": "#E5ECF6",
              "width": 0.5
             },
             "pattern": {
              "fillmode": "overlay",
              "size": 10,
              "solidity": 0.2
             }
            },
            "type": "barpolar"
           }
          ],
          "carpet": [
           {
            "aaxis": {
             "endlinecolor": "#2a3f5f",
             "gridcolor": "white",
             "linecolor": "white",
             "minorgridcolor": "white",
             "startlinecolor": "#2a3f5f"
            },
            "baxis": {
             "endlinecolor": "#2a3f5f",
             "gridcolor": "white",
             "linecolor": "white",
             "minorgridcolor": "white",
             "startlinecolor": "#2a3f5f"
            },
            "type": "carpet"
           }
          ],
          "choropleth": [
           {
            "colorbar": {
             "outlinewidth": 0,
             "ticks": ""
            },
            "type": "choropleth"
           }
          ],
          "contour": [
           {
            "colorbar": {
             "outlinewidth": 0,
             "ticks": ""
            },
            "colorscale": [
             [
              0,
              "#0d0887"
             ],
             [
              0.1111111111111111,
              "#46039f"
             ],
             [
              0.2222222222222222,
              "#7201a8"
             ],
             [
              0.3333333333333333,
              "#9c179e"
             ],
             [
              0.4444444444444444,
              "#bd3786"
             ],
             [
              0.5555555555555556,
              "#d8576b"
             ],
             [
              0.6666666666666666,
              "#ed7953"
             ],
             [
              0.7777777777777778,
              "#fb9f3a"
             ],
             [
              0.8888888888888888,
              "#fdca26"
             ],
             [
              1,
              "#f0f921"
             ]
            ],
            "type": "contour"
           }
          ],
          "contourcarpet": [
           {
            "colorbar": {
             "outlinewidth": 0,
             "ticks": ""
            },
            "type": "contourcarpet"
           }
          ],
          "heatmap": [
           {
            "colorbar": {
             "outlinewidth": 0,
             "ticks": ""
            },
            "colorscale": [
             [
              0,
              "#0d0887"
             ],
             [
              0.1111111111111111,
              "#46039f"
             ],
             [
              0.2222222222222222,
              "#7201a8"
             ],
             [
              0.3333333333333333,
              "#9c179e"
             ],
             [
              0.4444444444444444,
              "#bd3786"
             ],
             [
              0.5555555555555556,
              "#d8576b"
             ],
             [
              0.6666666666666666,
              "#ed7953"
             ],
             [
              0.7777777777777778,
              "#fb9f3a"
             ],
             [
              0.8888888888888888,
              "#fdca26"
             ],
             [
              1,
              "#f0f921"
             ]
            ],
            "type": "heatmap"
           }
          ],
          "heatmapgl": [
           {
            "colorbar": {
             "outlinewidth": 0,
             "ticks": ""
            },
            "colorscale": [
             [
              0,
              "#0d0887"
             ],
             [
              0.1111111111111111,
              "#46039f"
             ],
             [
              0.2222222222222222,
              "#7201a8"
             ],
             [
              0.3333333333333333,
              "#9c179e"
             ],
             [
              0.4444444444444444,
              "#bd3786"
             ],
             [
              0.5555555555555556,
              "#d8576b"
             ],
             [
              0.6666666666666666,
              "#ed7953"
             ],
             [
              0.7777777777777778,
              "#fb9f3a"
             ],
             [
              0.8888888888888888,
              "#fdca26"
             ],
             [
              1,
              "#f0f921"
             ]
            ],
            "type": "heatmapgl"
           }
          ],
          "histogram": [
           {
            "marker": {
             "pattern": {
              "fillmode": "overlay",
              "size": 10,
              "solidity": 0.2
             }
            },
            "type": "histogram"
           }
          ],
          "histogram2d": [
           {
            "colorbar": {
             "outlinewidth": 0,
             "ticks": ""
            },
            "colorscale": [
             [
              0,
              "#0d0887"
             ],
             [
              0.1111111111111111,
              "#46039f"
             ],
             [
              0.2222222222222222,
              "#7201a8"
             ],
             [
              0.3333333333333333,
              "#9c179e"
             ],
             [
              0.4444444444444444,
              "#bd3786"
             ],
             [
              0.5555555555555556,
              "#d8576b"
             ],
             [
              0.6666666666666666,
              "#ed7953"
             ],
             [
              0.7777777777777778,
              "#fb9f3a"
             ],
             [
              0.8888888888888888,
              "#fdca26"
             ],
             [
              1,
              "#f0f921"
             ]
            ],
            "type": "histogram2d"
           }
          ],
          "histogram2dcontour": [
           {
            "colorbar": {
             "outlinewidth": 0,
             "ticks": ""
            },
            "colorscale": [
             [
              0,
              "#0d0887"
             ],
             [
              0.1111111111111111,
              "#46039f"
             ],
             [
              0.2222222222222222,
              "#7201a8"
             ],
             [
              0.3333333333333333,
              "#9c179e"
             ],
             [
              0.4444444444444444,
              "#bd3786"
             ],
             [
              0.5555555555555556,
              "#d8576b"
             ],
             [
              0.6666666666666666,
              "#ed7953"
             ],
             [
              0.7777777777777778,
              "#fb9f3a"
             ],
             [
              0.8888888888888888,
              "#fdca26"
             ],
             [
              1,
              "#f0f921"
             ]
            ],
            "type": "histogram2dcontour"
           }
          ],
          "mesh3d": [
           {
            "colorbar": {
             "outlinewidth": 0,
             "ticks": ""
            },
            "type": "mesh3d"
           }
          ],
          "parcoords": [
           {
            "line": {
             "colorbar": {
              "outlinewidth": 0,
              "ticks": ""
             }
            },
            "type": "parcoords"
           }
          ],
          "pie": [
           {
            "automargin": true,
            "type": "pie"
           }
          ],
          "scatter": [
           {
            "marker": {
             "colorbar": {
              "outlinewidth": 0,
              "ticks": ""
             }
            },
            "type": "scatter"
           }
          ],
          "scatter3d": [
           {
            "line": {
             "colorbar": {
              "outlinewidth": 0,
              "ticks": ""
             }
            },
            "marker": {
             "colorbar": {
              "outlinewidth": 0,
              "ticks": ""
             }
            },
            "type": "scatter3d"
           }
          ],
          "scattercarpet": [
           {
            "marker": {
             "colorbar": {
              "outlinewidth": 0,
              "ticks": ""
             }
            },
            "type": "scattercarpet"
           }
          ],
          "scattergeo": [
           {
            "marker": {
             "colorbar": {
              "outlinewidth": 0,
              "ticks": ""
             }
            },
            "type": "scattergeo"
           }
          ],
          "scattergl": [
           {
            "marker": {
             "colorbar": {
              "outlinewidth": 0,
              "ticks": ""
             }
            },
            "type": "scattergl"
           }
          ],
          "scattermapbox": [
           {
            "marker": {
             "colorbar": {
              "outlinewidth": 0,
              "ticks": ""
             }
            },
            "type": "scattermapbox"
           }
          ],
          "scatterpolar": [
           {
            "marker": {
             "colorbar": {
              "outlinewidth": 0,
              "ticks": ""
             }
            },
            "type": "scatterpolar"
           }
          ],
          "scatterpolargl": [
           {
            "marker": {
             "colorbar": {
              "outlinewidth": 0,
              "ticks": ""
             }
            },
            "type": "scatterpolargl"
           }
          ],
          "scatterternary": [
           {
            "marker": {
             "colorbar": {
              "outlinewidth": 0,
              "ticks": ""
             }
            },
            "type": "scatterternary"
           }
          ],
          "surface": [
           {
            "colorbar": {
             "outlinewidth": 0,
             "ticks": ""
            },
            "colorscale": [
             [
              0,
              "#0d0887"
             ],
             [
              0.1111111111111111,
              "#46039f"
             ],
             [
              0.2222222222222222,
              "#7201a8"
             ],
             [
              0.3333333333333333,
              "#9c179e"
             ],
             [
              0.4444444444444444,
              "#bd3786"
             ],
             [
              0.5555555555555556,
              "#d8576b"
             ],
             [
              0.6666666666666666,
              "#ed7953"
             ],
             [
              0.7777777777777778,
              "#fb9f3a"
             ],
             [
              0.8888888888888888,
              "#fdca26"
             ],
             [
              1,
              "#f0f921"
             ]
            ],
            "type": "surface"
           }
          ],
          "table": [
           {
            "cells": {
             "fill": {
              "color": "#EBF0F8"
             },
             "line": {
              "color": "white"
             }
            },
            "header": {
             "fill": {
              "color": "#C8D4E3"
             },
             "line": {
              "color": "white"
             }
            },
            "type": "table"
           }
          ]
         },
         "layout": {
          "annotationdefaults": {
           "arrowcolor": "#2a3f5f",
           "arrowhead": 0,
           "arrowwidth": 1
          },
          "autotypenumbers": "strict",
          "coloraxis": {
           "colorbar": {
            "outlinewidth": 0,
            "ticks": ""
           }
          },
          "colorscale": {
           "diverging": [
            [
             0,
             "#8e0152"
            ],
            [
             0.1,
             "#c51b7d"
            ],
            [
             0.2,
             "#de77ae"
            ],
            [
             0.3,
             "#f1b6da"
            ],
            [
             0.4,
             "#fde0ef"
            ],
            [
             0.5,
             "#f7f7f7"
            ],
            [
             0.6,
             "#e6f5d0"
            ],
            [
             0.7,
             "#b8e186"
            ],
            [
             0.8,
             "#7fbc41"
            ],
            [
             0.9,
             "#4d9221"
            ],
            [
             1,
             "#276419"
            ]
           ],
           "sequential": [
            [
             0,
             "#0d0887"
            ],
            [
             0.1111111111111111,
             "#46039f"
            ],
            [
             0.2222222222222222,
             "#7201a8"
            ],
            [
             0.3333333333333333,
             "#9c179e"
            ],
            [
             0.4444444444444444,
             "#bd3786"
            ],
            [
             0.5555555555555556,
             "#d8576b"
            ],
            [
             0.6666666666666666,
             "#ed7953"
            ],
            [
             0.7777777777777778,
             "#fb9f3a"
            ],
            [
             0.8888888888888888,
             "#fdca26"
            ],
            [
             1,
             "#f0f921"
            ]
           ],
           "sequentialminus": [
            [
             0,
             "#0d0887"
            ],
            [
             0.1111111111111111,
             "#46039f"
            ],
            [
             0.2222222222222222,
             "#7201a8"
            ],
            [
             0.3333333333333333,
             "#9c179e"
            ],
            [
             0.4444444444444444,
             "#bd3786"
            ],
            [
             0.5555555555555556,
             "#d8576b"
            ],
            [
             0.6666666666666666,
             "#ed7953"
            ],
            [
             0.7777777777777778,
             "#fb9f3a"
            ],
            [
             0.8888888888888888,
             "#fdca26"
            ],
            [
             1,
             "#f0f921"
            ]
           ]
          },
          "colorway": [
           "#636efa",
           "#EF553B",
           "#00cc96",
           "#ab63fa",
           "#FFA15A",
           "#19d3f3",
           "#FF6692",
           "#B6E880",
           "#FF97FF",
           "#FECB52"
          ],
          "font": {
           "color": "#2a3f5f"
          },
          "geo": {
           "bgcolor": "white",
           "lakecolor": "white",
           "landcolor": "#E5ECF6",
           "showlakes": true,
           "showland": true,
           "subunitcolor": "white"
          },
          "hoverlabel": {
           "align": "left"
          },
          "hovermode": "closest",
          "mapbox": {
           "style": "light"
          },
          "paper_bgcolor": "white",
          "plot_bgcolor": "#E5ECF6",
          "polar": {
           "angularaxis": {
            "gridcolor": "white",
            "linecolor": "white",
            "ticks": ""
           },
           "bgcolor": "#E5ECF6",
           "radialaxis": {
            "gridcolor": "white",
            "linecolor": "white",
            "ticks": ""
           }
          },
          "scene": {
           "xaxis": {
            "backgroundcolor": "#E5ECF6",
            "gridcolor": "white",
            "gridwidth": 2,
            "linecolor": "white",
            "showbackground": true,
            "ticks": "",
            "zerolinecolor": "white"
           },
           "yaxis": {
            "backgroundcolor": "#E5ECF6",
            "gridcolor": "white",
            "gridwidth": 2,
            "linecolor": "white",
            "showbackground": true,
            "ticks": "",
            "zerolinecolor": "white"
           },
           "zaxis": {
            "backgroundcolor": "#E5ECF6",
            "gridcolor": "white",
            "gridwidth": 2,
            "linecolor": "white",
            "showbackground": true,
            "ticks": "",
            "zerolinecolor": "white"
           }
          },
          "shapedefaults": {
           "line": {
            "color": "#2a3f5f"
           }
          },
          "ternary": {
           "aaxis": {
            "gridcolor": "white",
            "linecolor": "white",
            "ticks": ""
           },
           "baxis": {
            "gridcolor": "white",
            "linecolor": "white",
            "ticks": ""
           },
           "bgcolor": "#E5ECF6",
           "caxis": {
            "gridcolor": "white",
            "linecolor": "white",
            "ticks": ""
           }
          },
          "title": {
           "x": 0.05
          },
          "xaxis": {
           "automargin": true,
           "gridcolor": "white",
           "linecolor": "white",
           "ticks": "",
           "title": {
            "standoff": 15
           },
           "zerolinecolor": "white",
           "zerolinewidth": 2
          },
          "yaxis": {
           "automargin": true,
           "gridcolor": "white",
           "linecolor": "white",
           "ticks": "",
           "title": {
            "standoff": 15
           },
           "zerolinecolor": "white",
           "zerolinewidth": 2
          }
         }
        },
        "xaxis": {
         "anchor": "y",
         "domain": [
          0,
          1
         ],
         "title": {
          "text": "0"
         }
        },
        "yaxis": {
         "anchor": "x",
         "domain": [
          0,
          1
         ],
         "title": {
          "text": "1"
         }
        }
       }
      }
     },
     "metadata": {},
     "output_type": "display_data"
    }
   ],
   "source": [
    "plotPCA1 = 0\n",
    "plotPCA2 = 1\n",
    "\n",
    "data2 = df.drop('Species', axis=1)\n",
    "X = data2\n",
    "\n",
    "pca = PCA(n_components=3)\n",
    "components = pca.fit_transform(X)\n",
    "\n",
    "loadings = pca.components_.T * np.sqrt(pca.explained_variance_)\n",
    "components2 = []\n",
    "for i in components:\n",
    "    components2.append([i[plotPCA1], i[plotPCA2]])\n",
    "\n",
    "fig = px.scatter(components2, x=0, y=1, color=df['Species'])\n",
    "\n",
    "for i, feature in enumerate(data2.columns):\n",
    "    fig.add_shape(\n",
    "        type='line',\n",
    "        x0=0, y0=0,\n",
    "        x1=loadings[i, plotPCA1],\n",
    "        y1=loadings[i, plotPCA2]\n",
    "    )\n",
    "    fig.add_annotation(\n",
    "        x=loadings[i, plotPCA1],\n",
    "        y=loadings[i, plotPCA2],\n",
    "        ax=0, ay=0,\n",
    "        xanchor=\"center\",\n",
    "        yanchor=\"bottom\",\n",
    "        text=feature,\n",
    "    )\n",
    "fig.show()"
   ]
  },
  {
   "cell_type": "code",
   "execution_count": 133,
   "metadata": {},
   "outputs": [
    {
     "data": {
      "application/vnd.plotly.v1+json": {
       "config": {
        "plotlyServerURL": "https://plot.ly"
       },
       "data": [
        {
         "hovertemplate": "color=hosei<br>PC 1=%{x}<br>PC 2=%{y}<br>PC 3=%{z}<extra></extra>",
         "legendgroup": "hosei",
         "marker": {
          "color": "#636efa",
          "symbol": "circle"
         },
         "mode": "markers",
         "name": "hosei",
         "scene": "scene",
         "showlegend": true,
         "type": "scatter3d",
         "x": [
          -134.22132415837285,
          -146.5358851879767,
          61.83034216590784,
          58.0771115464012,
          51.71931128585079
         ],
         "y": [
          -92.77180266606902,
          -98.65892371381877,
          -82.34964640864402,
          -86.56122315013823,
          -91.56742477391028
         ],
         "z": [
          27.845915840072585,
          28.07790286651777,
          16.970170421999768,
          9.026187036211194,
          6.074034959645785
         ]
        },
        {
         "hovertemplate": "color=rubicunda<br>PC 1=%{x}<br>PC 2=%{y}<br>PC 3=%{z}<extra></extra>",
         "legendgroup": "rubicunda",
         "marker": {
          "color": "#EF553B",
          "symbol": "circle"
         },
         "mode": "markers",
         "name": "rubicunda",
         "scene": "scene",
         "showlegend": true,
         "type": "scatter3d",
         "x": [
          -138.8739476147435,
          -142.61768682173843,
          -142.56794420602026,
          67.74055162474691,
          59.86913735537959,
          53.335851159149634,
          53.611817601030914,
          52.34768682362707
         ],
         "y": [
          -98.31490085230395,
          -98.45779361878641,
          -89.02757089835136,
          -82.76010389360994,
          -82.33318395396994,
          -86.23578528626801,
          -85.1532817208024,
          -89.6745097885364
         ],
         "z": [
          25.248510742186724,
          24.396487974195328,
          16.71203331879273,
          18.943734319690112,
          10.061123253350539,
          14.966157883207135,
          10.036144894543874,
          13.15839470048354
         ]
        },
        {
         "hovertemplate": "color=mitis<br>PC 1=%{x}<br>PC 2=%{y}<br>PC 3=%{z}<extra></extra>",
         "legendgroup": "mitis",
         "marker": {
          "color": "#00cc96",
          "symbol": "circle"
         },
         "mode": "markers",
         "name": "mitis",
         "scene": "scene",
         "showlegend": true,
         "type": "scatter3d",
         "x": [
          -127.70054630246803,
          -123.03805917197774,
          -130.66966699789626,
          -136.9046400437762,
          -140.41076059856653,
          -146.70314814069874,
          -141.58078738155376,
          -150.65947252116894,
          -142.62826041539543,
          -152.2109271309572
         ],
         "y": [
          -90.56680222881349,
          -85.66320421668183,
          -97.509834922684,
          -95.28504333999834,
          -93.61120007773863,
          -98.0082732091032,
          -97.00016937519291,
          -91.6660032242923,
          -98.19559577356468,
          -91.8954267224147
         ],
         "z": [
          23.377998254200318,
          23.207621649282284,
          20.247284244153708,
          15.609345258855367,
          17.09701233218458,
          9.411288584331372,
          21.166542087955886,
          13.58351246650656,
          17.84441295328822,
          1.9854759868050627
         ]
        },
        {
         "hovertemplate": "color=talapoin<br>PC 1=%{x}<br>PC 2=%{y}<br>PC 3=%{z}<extra></extra>",
         "legendgroup": "talapoin",
         "marker": {
          "color": "#ab63fa",
          "symbol": "circle"
         },
         "mode": "markers",
         "name": "talapoin",
         "scene": "scene",
         "showlegend": true,
         "type": "scatter3d",
         "x": [
          -154.67336064825065,
          -152.0217852399114,
          -167.18163475965562,
          -164.04168619384228,
          -163.0648918656636
         ],
         "y": [
          -75.83101009925363,
          -78.61300345139325,
          -92.66804095466998,
          -80.92597335955715,
          -83.26690559044042
         ],
         "z": [
          -0.31187548383255836,
          2.056602149450847,
          -7.389414379520971,
          -10.755735248452194,
          -5.380815000806628
         ]
        },
        {
         "hovertemplate": "color=albigena<br>PC 1=%{x}<br>PC 2=%{y}<br>PC 3=%{z}<extra></extra>",
         "legendgroup": "albigena",
         "marker": {
          "color": "#FFA15A",
          "symbol": "circle"
         },
         "mode": "markers",
         "name": "albigena",
         "scene": "scene",
         "showlegend": true,
         "type": "scatter3d",
         "x": [
          -176.69372979978263,
          -154.2792313195685,
          -173.16699439414512,
          -171.9961162240173,
          -149.1175880793301,
          -141.64449520752171
         ],
         "y": [
          46.0913122212873,
          53.11791850051964,
          49.6157533773064,
          57.62541769341915,
          -103.88819204854785,
          59.627547366172685
         ],
         "z": [
          -48.88582185742518,
          -48.89123078268903,
          -53.236640127290975,
          -48.20156043294596,
          9.4486075792337,
          -33.65813730621951
         ]
        },
        {
         "hovertemplate": "color=badius<br>PC 1=%{x}<br>PC 2=%{y}<br>PC 3=%{z}<extra></extra>",
         "legendgroup": "badius",
         "marker": {
          "color": "#19d3f3",
          "symbol": "circle"
         },
         "mode": "markers",
         "name": "badius",
         "scene": "scene",
         "showlegend": true,
         "type": "scatter3d",
         "x": [
          41.174466091443115,
          42.85429586363668,
          50.276745631728815,
          39.36469033359292,
          36.42443677579379,
          54.53979000172958,
          34.87693962329566,
          38.67726653810827,
          50.40025270405333,
          37.98237689486636
         ],
         "y": [
          -93.10819478437566,
          -91.66412501048495,
          -100.75457058849949,
          -91.70673053251438,
          -96.49209206490295,
          -104.07798007906983,
          -89.19483576588466,
          -97.46230819403132,
          -94.11933701119668,
          -94.44441195777569
         ],
         "z": [
          14.79466494810578,
          -11.747288817110517,
          -8.684845219614093,
          0.5446282537152014,
          5.9784012333928755,
          5.927388132057898,
          -3.7919466654540654,
          -2.6176851789942863,
          6.646038197357606,
          3.1925084315733137
         ]
        },
        {
         "hovertemplate": "color=patas<br>PC 1=%{x}<br>PC 2=%{y}<br>PC 3=%{z}<extra></extra>",
         "legendgroup": "patas",
         "marker": {
          "color": "#FF6692",
          "symbol": "circle"
         },
         "mode": "markers",
         "name": "patas",
         "scene": "scene",
         "showlegend": true,
         "type": "scatter3d",
         "x": [
          20.67245776563639,
          15.256620104866803,
          12.434070740490187,
          0.2766383398501958
         ],
         "y": [
          18.47202227805373,
          26.43298963335112,
          10.948797882379889,
          9.770079638149411
         ],
         "z": [
          -39.71931931127749,
          -48.156541701273305,
          -48.96765674318841,
          -54.643928825016914
         ]
        },
        {
         "hovertemplate": "color=fascicularis<br>PC 1=%{x}<br>PC 2=%{y}<br>PC 3=%{z}<extra></extra>",
         "legendgroup": "fascicularis",
         "marker": {
          "color": "#B6E880",
          "symbol": "circle"
         },
         "mode": "markers",
         "name": "fascicularis",
         "scene": "scene",
         "showlegend": true,
         "type": "scatter3d",
         "x": [
          23.536987891756286,
          13.043276033808885,
          28.054859375985146,
          15.258773369291276,
          10.41041509817061,
          17.872357174758296,
          10.100837852597419,
          16.7361815783711
         ],
         "y": [
          39.81430153461159,
          39.41468307628429,
          40.268411730184276,
          35.662812260930444,
          39.4514202552835,
          29.060112634011254,
          39.37996988638177,
          33.40868192891481
         ],
         "z": [
          -58.32908466651175,
          -62.78848640841438,
          -50.402141391818766,
          -58.30308049653619,
          -69.01188764891133,
          -51.72817959185793,
          -68.20184629453412,
          -60.2904296803781
         ]
        },
        {
         "hovertemplate": "color=sylvanus<br>PC 1=%{x}<br>PC 2=%{y}<br>PC 3=%{z}<extra></extra>",
         "legendgroup": "sylvanus",
         "marker": {
          "color": "#FF97FF",
          "symbol": "circle"
         },
         "mode": "markers",
         "name": "sylvanus",
         "scene": "scene",
         "showlegend": true,
         "type": "scatter3d",
         "x": [
          11.374089344046293,
          31.083822657563445
         ],
         "y": [
          19.392669780402006,
          11.962366572104733
         ],
         "z": [
          -54.32211139957745,
          -54.17428986562271
         ]
        },
        {
         "hovertemplate": "color=fuscata<br>PC 1=%{x}<br>PC 2=%{y}<br>PC 3=%{z}<extra></extra>",
         "legendgroup": "fuscata",
         "marker": {
          "color": "#FECB52",
          "symbol": "circle"
         },
         "mode": "markers",
         "name": "fuscata",
         "scene": "scene",
         "showlegend": true,
         "type": "scatter3d",
         "x": [
          3.8181697674085284,
          23.56083357310231
         ],
         "y": [
          23.355556272579225,
          10.140703186748649
         ],
         "z": [
          -75.06108160838482,
          -54.9488938330197
         ]
        },
        {
         "hovertemplate": "color=mulatta<br>PC 1=%{x}<br>PC 2=%{y}<br>PC 3=%{z}<extra></extra>",
         "legendgroup": "mulatta",
         "marker": {
          "color": "#636efa",
          "symbol": "circle"
         },
         "mode": "markers",
         "name": "mulatta",
         "scene": "scene",
         "showlegend": true,
         "type": "scatter3d",
         "x": [
          -0.6635877375924566,
          2.146697343596936,
          2.981391689679129
         ],
         "y": [
          27.510129654199137,
          19.335924982361234,
          15.807197857508363
         ],
         "z": [
          -72.29473748809734,
          -72.99230610059539,
          -58.889533720555086
         ]
        },
        {
         "hovertemplate": "color=cristata<br>PC 1=%{x}<br>PC 2=%{y}<br>PC 3=%{z}<extra></extra>",
         "legendgroup": "cristata",
         "marker": {
          "color": "#EF553B",
          "symbol": "circle"
         },
         "mode": "markers",
         "name": "cristata",
         "scene": "scene",
         "showlegend": true,
         "type": "scatter3d",
         "x": [
          -46.969756847734125,
          -52.96575223126138,
          -63.26095577015518,
          -66.23919036212553,
          -63.54791316897786,
          -61.42372353103916,
          -69.3701677816225,
          -80.88881592819077,
          -66.03810864863689,
          -92.65281938325315,
          104.1144134594605,
          100.10336979308096,
          92.78928874577434,
          94.27739567620807,
          96.39616851163565,
          95.46062368125004,
          91.52042705390481,
          87.51797034987939
         ],
         "y": [
          79.2121106390381,
          74.61246841772649,
          70.11093483220819,
          72.12758797572633,
          66.49944528178517,
          73.29214585018082,
          62.317241934829994,
          60.90282691715274,
          62.175869469810245,
          58.327154316293125,
          -10.063965373212994,
          -10.36884372128793,
          -13.797107646655132,
          -14.297307093155906,
          -18.978747099418268,
          -16.381557216047725,
          -18.351987682812876,
          -23.333503580373414
         ],
         "z": [
          54.15629796033571,
          31.962773540617658,
          37.583298959646015,
          36.91434584922454,
          32.246157991415274,
          30.608234353425896,
          25.243444300608346,
          19.065339146453947,
          14.105303815261133,
          12.905597103861302,
          122.29065267740329,
          124.17427082132106,
          125.95963115168271,
          111.8963974204364,
          109.72756603629094,
          111.54956300561194,
          100.09927701539256,
          88.75629363083699
         ]
        },
        {
         "hovertemplate": "color=polykomos<br>PC 1=%{x}<br>PC 2=%{y}<br>PC 3=%{z}<extra></extra>",
         "legendgroup": "polykomos",
         "marker": {
          "color": "#00cc96",
          "symbol": "circle"
         },
         "mode": "markers",
         "name": "polykomos",
         "scene": "scene",
         "showlegend": true,
         "type": "scatter3d",
         "x": [
          -75.23373288940147,
          -84.17016744109586,
          -81.13750439773877,
          -80.56820077362742,
          -82.85714940578627,
          -96.22368631366051,
          -97.17067857779824,
          -105.51418395645003,
          -123.57777751390452,
          -147.64801691574618
         ],
         "y": [
          49.43922391814513,
          62.16264374289962,
          54.20226763740166,
          54.519207836784545,
          44.68846836817296,
          55.636739047083616,
          43.025749000364605,
          42.042801584400294,
          45.47483516457712,
          32.34098174096547
         ],
         "z": [
          19.613643320684123,
          9.130285530861501,
          15.615391060853373,
          12.64055429928062,
          4.946959453236023,
          1.138342486649975,
          2.801565085490134,
          -2.8677850530703393,
          -13.585243824894151,
          -31.36065289128116
         ]
        },
        {
         "hovertemplate": "color=torquatus<br>PC 1=%{x}<br>PC 2=%{y}<br>PC 3=%{z}<extra></extra>",
         "legendgroup": "torquatus",
         "marker": {
          "color": "#ab63fa",
          "symbol": "circle"
         },
         "mode": "markers",
         "name": "torquatus",
         "scene": "scene",
         "showlegend": true,
         "type": "scatter3d",
         "x": [
          -76.49359391703334,
          -80.03746957595473,
          -88.6992124200171,
          -101.40498147583747,
          -82.43921647481021,
          -129.70520993600553,
          -101.03616793608235,
          -89.235653380941,
          -93.31325810630699
         ],
         "y": [
          47.405283832637025,
          29.72844109983561,
          24.34921619397034,
          24.582840336804697,
          28.30147994810285,
          21.27934864604977,
          20.87123631645581,
          29.649849175525077,
          26.419731988861237
         ],
         "z": [
          -8.668903771705182,
          3.961186724004811,
          -9.586026013695061,
          -17.42416041950744,
          -13.00184211284953,
          -36.79794774591261,
          -2.6504892662092807,
          -4.416677277486176,
          -10.82029211911588
         ]
        },
        {
         "hovertemplate": "color=gelada<br>PC 1=%{x}<br>PC 2=%{y}<br>PC 3=%{z}<extra></extra>",
         "legendgroup": "gelada",
         "marker": {
          "color": "#FFA15A",
          "symbol": "circle"
         },
         "mode": "markers",
         "name": "gelada",
         "scene": "scene",
         "showlegend": true,
         "type": "scatter3d",
         "x": [
          146.15320251995803
         ],
         "y": [
          177.79055240315898
         ],
         "z": [
          103.84642283045388
         ]
        },
        {
         "hovertemplate": "color=leucophaeus<br>PC 1=%{x}<br>PC 2=%{y}<br>PC 3=%{z}<extra></extra>",
         "legendgroup": "leucophaeus",
         "marker": {
          "color": "#19d3f3",
          "symbol": "circle"
         },
         "mode": "markers",
         "name": "leucophaeus",
         "scene": "scene",
         "showlegend": true,
         "type": "scatter3d",
         "x": [
          138.4406487592098,
          164.13988933534628,
          -162.7178944583021,
          23.90752406156797
         ],
         "y": [
          196.84042005142607,
          186.056072176911,
          443.30017894720464,
          -4.028931778755135
         ],
         "z": [
          114.26252170851043,
          93.74250210400547,
          -16.140910551477166,
          -29.22660800296954
         ]
        },
        {
         "hovertemplate": "color=sphinx<br>PC 1=%{x}<br>PC 2=%{y}<br>PC 3=%{z}<extra></extra>",
         "legendgroup": "sphinx",
         "marker": {
          "color": "#FF6692",
          "symbol": "circle"
         },
         "mode": "markers",
         "name": "sphinx",
         "scene": "scene",
         "showlegend": true,
         "type": "scatter3d",
         "x": [
          49.146006465517154,
          25.586814057993973
         ],
         "y": [
          54.64208590622471,
          -11.811221040234086
         ],
         "z": [
          87.66735611881215,
          -34.024920125060504
         ]
        },
        {
         "hovertemplate": "color=anubis<br>PC 1=%{x}<br>PC 2=%{y}<br>PC 3=%{z}<extra></extra>",
         "legendgroup": "anubis",
         "marker": {
          "color": "#B6E880",
          "symbol": "circle"
         },
         "mode": "markers",
         "name": "anubis",
         "scene": "scene",
         "showlegend": true,
         "type": "scatter3d",
         "x": [
          71.50719179816868,
          44.36431662443176,
          18.242432194514567,
          7.093795004816529,
          24.143881519911066,
          17.05637486965191,
          15.729916770579534,
          16.42048315347957,
          1.8410899174034991
         ],
         "y": [
          35.197861316690755,
          25.483864165139824,
          27.484730060524065,
          5.824584483682463,
          14.49270847047526,
          28.762016391714727,
          35.13888698028484,
          3.671308875829434,
          -11.338996894547224
         ],
         "z": [
          98.37213973760166,
          100.56528225265721,
          68.31285836058645,
          50.22447568127971,
          70.30494614936515,
          66.61313805434878,
          58.86892700836205,
          57.882186114177685,
          -33.36449405302149
         ]
        },
        {
         "hovertemplate": "color=larvatus<br>PC 1=%{x}<br>PC 2=%{y}<br>PC 3=%{z}<extra></extra>",
         "legendgroup": "larvatus",
         "marker": {
          "color": "#FF97FF",
          "symbol": "circle"
         },
         "mode": "markers",
         "name": "larvatus",
         "scene": "scene",
         "showlegend": true,
         "type": "scatter3d",
         "x": [
          6.423008063630589,
          -21.40046042335206,
          -27.030822197764643,
          -43.35115148432083,
          20.956359865989402,
          24.00486493253572,
          24.643534723040325,
          14.455786753291493,
          19.43226685662819
         ],
         "y": [
          55.622592808391886,
          50.02171734423863,
          47.80035895927714,
          44.694369477811996,
          54.49032382463324,
          52.4721369263583,
          55.28726366781323,
          53.83372642484333,
          50.708404182536576
         ],
         "z": [
          34.747765374186436,
          25.69364938855702,
          16.009462381019326,
          4.994651401818309,
          39.27917221620192,
          44.49873604435781,
          40.536705801390575,
          34.834298854547995,
          28.63482560413619
         ]
        },
        {
         "hovertemplate": "color=syndactylus<br>PC 1=%{x}<br>PC 2=%{y}<br>PC 3=%{z}<extra></extra>",
         "legendgroup": "syndactylus",
         "marker": {
          "color": "#FECB52",
          "symbol": "circle"
         },
         "mode": "markers",
         "name": "syndactylus",
         "scene": "scene",
         "showlegend": true,
         "type": "scatter3d",
         "x": [
          12.20086014491846,
          33.744784652181096
         ],
         "y": [
          20.483913872561214,
          27.49981791645419
         ],
         "z": [
          -39.27379893366779,
          -24.43659794958187
         ]
        },
        {
         "hovertemplate": "color=lar<br>PC 1=%{x}<br>PC 2=%{y}<br>PC 3=%{z}<extra></extra>",
         "legendgroup": "lar",
         "marker": {
          "color": "#636efa",
          "symbol": "circle"
         },
         "mode": "markers",
         "name": "lar",
         "scene": "scene",
         "showlegend": true,
         "type": "scatter3d",
         "x": [
          22.965870110009927,
          12.73823640815617,
          -4.002498981794241,
          5.522645404177018,
          -5.401551098106255,
          3.909087629864711,
          -13.915353590346482,
          -6.966856209074103,
          -1.5864916862321599,
          -16.405107451264985,
          -12.589257207895383,
          95.41768346223448,
          94.93888904117924,
          92.00013360818807,
          92.78859248879269,
          91.5233929146994,
          91.21371858841283,
          90.0113665853479
         ],
         "y": [
          38.81527050152923,
          32.7566342024676,
          24.30549455593604,
          25.693389405828537,
          20.012505604245117,
          27.16185931879843,
          28.64654813371185,
          21.701119713890208,
          23.574786513379763,
          24.68051939355321,
          16.660489542613313,
          -31.50189644015515,
          -41.354694631757646,
          -43.27349299364275,
          -36.703329399544,
          -38.43709193213681,
          -48.151128945714,
          -42.08628961357679
         ],
         "z": [
          -31.06757646782626,
          -38.21749646497571,
          -58.00899837057807,
          -44.286462801705056,
          -54.05062425324905,
          -47.49375930979609,
          -60.49333168182848,
          -48.497695362615346,
          -47.2231350768375,
          -62.919089426529176,
          -60.7930825451747,
          99.28143507837926,
          98.52244780147039,
          94.12098148914875,
          94.50217664679033,
          90.47581035925903,
          85.43948508608807,
          82.15958230677417
         ]
        },
        {
         "hovertemplate": "color=pygmaeus<br>PC 1=%{x}<br>PC 2=%{y}<br>PC 3=%{z}<extra></extra>",
         "legendgroup": "pygmaeus",
         "marker": {
          "color": "#EF553B",
          "symbol": "circle"
         },
         "mode": "markers",
         "name": "pygmaeus",
         "scene": "scene",
         "showlegend": true,
         "type": "scatter3d",
         "x": [
          148.916513330417,
          139.195091180747
         ],
         "y": [
          -1.9861885063767037,
          63.45171782020962
         ],
         "z": [
          -66.61044969930302,
          138.67353392004202
         ]
        },
        {
         "hovertemplate": "color=troglodytes<br>PC 1=%{x}<br>PC 2=%{y}<br>PC 3=%{z}<extra></extra>",
         "legendgroup": "troglodytes",
         "marker": {
          "color": "#00cc96",
          "symbol": "circle"
         },
         "mode": "markers",
         "name": "troglodytes",
         "scene": "scene",
         "showlegend": true,
         "type": "scatter3d",
         "x": [
          155.8712373751001,
          135.81482657657398,
          132.50341975731402,
          111.22682706411416,
          145.2351331942256,
          129.77940100349517,
          107.23817126808838,
          135.99702830943986,
          162.17869239163807
         ],
         "y": [
          -10.096138122099104,
          -19.351973506781032,
          -15.055858323720594,
          -16.199152419627485,
          -9.608865352437242,
          -1.1094073787139618,
          -19.377273726827124,
          -12.477338667675234,
          -6.679751731069931
         ],
         "z": [
          -62.293611991309746,
          -85.34823662354472,
          -91.06438565410485,
          -85.83209710337474,
          -79.64754988059079,
          -67.73583552089201,
          -84.31439123504057,
          -67.04041589739863,
          -85.70931454335944
         ]
        },
        {
         "hovertemplate": "color=paniscus<br>PC 1=%{x}<br>PC 2=%{y}<br>PC 3=%{z}<extra></extra>",
         "legendgroup": "paniscus",
         "marker": {
          "color": "#ab63fa",
          "symbol": "circle"
         },
         "mode": "markers",
         "name": "paniscus",
         "scene": "scene",
         "showlegend": true,
         "type": "scatter3d",
         "x": [
          153.13002113117088,
          162.34136299295443,
          154.0756254234084
         ],
         "y": [
          -3.0772867017952668,
          11.24630137616371,
          -5.136806654812171
         ],
         "z": [
          -74.6830607133044,
          -88.29628014306637,
          -92.70400141139726
         ]
        },
        {
         "hovertemplate": "color=gorilla<br>PC 1=%{x}<br>PC 2=%{y}<br>PC 3=%{z}<extra></extra>",
         "legendgroup": "gorilla",
         "marker": {
          "color": "#FFA15A",
          "symbol": "circle"
         },
         "mode": "markers",
         "name": "gorilla",
         "scene": "scene",
         "showlegend": true,
         "type": "scatter3d",
         "x": [
          196.27036166397156,
          208.1557101304621,
          185.03022037352082,
          197.59173941977122,
          190.59409534917327,
          191.3473337983098
         ],
         "y": [
          -27.894577143415678,
          -10.842048097450123,
          -21.988730523533906,
          -45.95302451606911,
          -36.427785920813406,
          -8.663727448909714
         ],
         "z": [
          -35.27763261369251,
          -61.33368004477077,
          -55.61700061484641,
          -48.92342722641037,
          -108.11704659863062,
          -97.77042690497647
         ]
        }
       ],
       "layout": {
        "legend": {
         "title": {
          "text": "color"
         },
         "tracegroupgap": 0
        },
        "scene": {
         "domain": {
          "x": [
           0,
           1
          ],
          "y": [
           0,
           1
          ]
         },
         "xaxis": {
          "title": {
           "text": "PC 1"
          }
         },
         "yaxis": {
          "title": {
           "text": "PC 2"
          }
         },
         "zaxis": {
          "title": {
           "text": "PC 3"
          }
         }
        },
        "template": {
         "data": {
          "bar": [
           {
            "error_x": {
             "color": "#2a3f5f"
            },
            "error_y": {
             "color": "#2a3f5f"
            },
            "marker": {
             "line": {
              "color": "#E5ECF6",
              "width": 0.5
             },
             "pattern": {
              "fillmode": "overlay",
              "size": 10,
              "solidity": 0.2
             }
            },
            "type": "bar"
           }
          ],
          "barpolar": [
           {
            "marker": {
             "line": {
              "color": "#E5ECF6",
              "width": 0.5
             },
             "pattern": {
              "fillmode": "overlay",
              "size": 10,
              "solidity": 0.2
             }
            },
            "type": "barpolar"
           }
          ],
          "carpet": [
           {
            "aaxis": {
             "endlinecolor": "#2a3f5f",
             "gridcolor": "white",
             "linecolor": "white",
             "minorgridcolor": "white",
             "startlinecolor": "#2a3f5f"
            },
            "baxis": {
             "endlinecolor": "#2a3f5f",
             "gridcolor": "white",
             "linecolor": "white",
             "minorgridcolor": "white",
             "startlinecolor": "#2a3f5f"
            },
            "type": "carpet"
           }
          ],
          "choropleth": [
           {
            "colorbar": {
             "outlinewidth": 0,
             "ticks": ""
            },
            "type": "choropleth"
           }
          ],
          "contour": [
           {
            "colorbar": {
             "outlinewidth": 0,
             "ticks": ""
            },
            "colorscale": [
             [
              0,
              "#0d0887"
             ],
             [
              0.1111111111111111,
              "#46039f"
             ],
             [
              0.2222222222222222,
              "#7201a8"
             ],
             [
              0.3333333333333333,
              "#9c179e"
             ],
             [
              0.4444444444444444,
              "#bd3786"
             ],
             [
              0.5555555555555556,
              "#d8576b"
             ],
             [
              0.6666666666666666,
              "#ed7953"
             ],
             [
              0.7777777777777778,
              "#fb9f3a"
             ],
             [
              0.8888888888888888,
              "#fdca26"
             ],
             [
              1,
              "#f0f921"
             ]
            ],
            "type": "contour"
           }
          ],
          "contourcarpet": [
           {
            "colorbar": {
             "outlinewidth": 0,
             "ticks": ""
            },
            "type": "contourcarpet"
           }
          ],
          "heatmap": [
           {
            "colorbar": {
             "outlinewidth": 0,
             "ticks": ""
            },
            "colorscale": [
             [
              0,
              "#0d0887"
             ],
             [
              0.1111111111111111,
              "#46039f"
             ],
             [
              0.2222222222222222,
              "#7201a8"
             ],
             [
              0.3333333333333333,
              "#9c179e"
             ],
             [
              0.4444444444444444,
              "#bd3786"
             ],
             [
              0.5555555555555556,
              "#d8576b"
             ],
             [
              0.6666666666666666,
              "#ed7953"
             ],
             [
              0.7777777777777778,
              "#fb9f3a"
             ],
             [
              0.8888888888888888,
              "#fdca26"
             ],
             [
              1,
              "#f0f921"
             ]
            ],
            "type": "heatmap"
           }
          ],
          "heatmapgl": [
           {
            "colorbar": {
             "outlinewidth": 0,
             "ticks": ""
            },
            "colorscale": [
             [
              0,
              "#0d0887"
             ],
             [
              0.1111111111111111,
              "#46039f"
             ],
             [
              0.2222222222222222,
              "#7201a8"
             ],
             [
              0.3333333333333333,
              "#9c179e"
             ],
             [
              0.4444444444444444,
              "#bd3786"
             ],
             [
              0.5555555555555556,
              "#d8576b"
             ],
             [
              0.6666666666666666,
              "#ed7953"
             ],
             [
              0.7777777777777778,
              "#fb9f3a"
             ],
             [
              0.8888888888888888,
              "#fdca26"
             ],
             [
              1,
              "#f0f921"
             ]
            ],
            "type": "heatmapgl"
           }
          ],
          "histogram": [
           {
            "marker": {
             "pattern": {
              "fillmode": "overlay",
              "size": 10,
              "solidity": 0.2
             }
            },
            "type": "histogram"
           }
          ],
          "histogram2d": [
           {
            "colorbar": {
             "outlinewidth": 0,
             "ticks": ""
            },
            "colorscale": [
             [
              0,
              "#0d0887"
             ],
             [
              0.1111111111111111,
              "#46039f"
             ],
             [
              0.2222222222222222,
              "#7201a8"
             ],
             [
              0.3333333333333333,
              "#9c179e"
             ],
             [
              0.4444444444444444,
              "#bd3786"
             ],
             [
              0.5555555555555556,
              "#d8576b"
             ],
             [
              0.6666666666666666,
              "#ed7953"
             ],
             [
              0.7777777777777778,
              "#fb9f3a"
             ],
             [
              0.8888888888888888,
              "#fdca26"
             ],
             [
              1,
              "#f0f921"
             ]
            ],
            "type": "histogram2d"
           }
          ],
          "histogram2dcontour": [
           {
            "colorbar": {
             "outlinewidth": 0,
             "ticks": ""
            },
            "colorscale": [
             [
              0,
              "#0d0887"
             ],
             [
              0.1111111111111111,
              "#46039f"
             ],
             [
              0.2222222222222222,
              "#7201a8"
             ],
             [
              0.3333333333333333,
              "#9c179e"
             ],
             [
              0.4444444444444444,
              "#bd3786"
             ],
             [
              0.5555555555555556,
              "#d8576b"
             ],
             [
              0.6666666666666666,
              "#ed7953"
             ],
             [
              0.7777777777777778,
              "#fb9f3a"
             ],
             [
              0.8888888888888888,
              "#fdca26"
             ],
             [
              1,
              "#f0f921"
             ]
            ],
            "type": "histogram2dcontour"
           }
          ],
          "mesh3d": [
           {
            "colorbar": {
             "outlinewidth": 0,
             "ticks": ""
            },
            "type": "mesh3d"
           }
          ],
          "parcoords": [
           {
            "line": {
             "colorbar": {
              "outlinewidth": 0,
              "ticks": ""
             }
            },
            "type": "parcoords"
           }
          ],
          "pie": [
           {
            "automargin": true,
            "type": "pie"
           }
          ],
          "scatter": [
           {
            "marker": {
             "colorbar": {
              "outlinewidth": 0,
              "ticks": ""
             }
            },
            "type": "scatter"
           }
          ],
          "scatter3d": [
           {
            "line": {
             "colorbar": {
              "outlinewidth": 0,
              "ticks": ""
             }
            },
            "marker": {
             "colorbar": {
              "outlinewidth": 0,
              "ticks": ""
             }
            },
            "type": "scatter3d"
           }
          ],
          "scattercarpet": [
           {
            "marker": {
             "colorbar": {
              "outlinewidth": 0,
              "ticks": ""
             }
            },
            "type": "scattercarpet"
           }
          ],
          "scattergeo": [
           {
            "marker": {
             "colorbar": {
              "outlinewidth": 0,
              "ticks": ""
             }
            },
            "type": "scattergeo"
           }
          ],
          "scattergl": [
           {
            "marker": {
             "colorbar": {
              "outlinewidth": 0,
              "ticks": ""
             }
            },
            "type": "scattergl"
           }
          ],
          "scattermapbox": [
           {
            "marker": {
             "colorbar": {
              "outlinewidth": 0,
              "ticks": ""
             }
            },
            "type": "scattermapbox"
           }
          ],
          "scatterpolar": [
           {
            "marker": {
             "colorbar": {
              "outlinewidth": 0,
              "ticks": ""
             }
            },
            "type": "scatterpolar"
           }
          ],
          "scatterpolargl": [
           {
            "marker": {
             "colorbar": {
              "outlinewidth": 0,
              "ticks": ""
             }
            },
            "type": "scatterpolargl"
           }
          ],
          "scatterternary": [
           {
            "marker": {
             "colorbar": {
              "outlinewidth": 0,
              "ticks": ""
             }
            },
            "type": "scatterternary"
           }
          ],
          "surface": [
           {
            "colorbar": {
             "outlinewidth": 0,
             "ticks": ""
            },
            "colorscale": [
             [
              0,
              "#0d0887"
             ],
             [
              0.1111111111111111,
              "#46039f"
             ],
             [
              0.2222222222222222,
              "#7201a8"
             ],
             [
              0.3333333333333333,
              "#9c179e"
             ],
             [
              0.4444444444444444,
              "#bd3786"
             ],
             [
              0.5555555555555556,
              "#d8576b"
             ],
             [
              0.6666666666666666,
              "#ed7953"
             ],
             [
              0.7777777777777778,
              "#fb9f3a"
             ],
             [
              0.8888888888888888,
              "#fdca26"
             ],
             [
              1,
              "#f0f921"
             ]
            ],
            "type": "surface"
           }
          ],
          "table": [
           {
            "cells": {
             "fill": {
              "color": "#EBF0F8"
             },
             "line": {
              "color": "white"
             }
            },
            "header": {
             "fill": {
              "color": "#C8D4E3"
             },
             "line": {
              "color": "white"
             }
            },
            "type": "table"
           }
          ]
         },
         "layout": {
          "annotationdefaults": {
           "arrowcolor": "#2a3f5f",
           "arrowhead": 0,
           "arrowwidth": 1
          },
          "autotypenumbers": "strict",
          "coloraxis": {
           "colorbar": {
            "outlinewidth": 0,
            "ticks": ""
           }
          },
          "colorscale": {
           "diverging": [
            [
             0,
             "#8e0152"
            ],
            [
             0.1,
             "#c51b7d"
            ],
            [
             0.2,
             "#de77ae"
            ],
            [
             0.3,
             "#f1b6da"
            ],
            [
             0.4,
             "#fde0ef"
            ],
            [
             0.5,
             "#f7f7f7"
            ],
            [
             0.6,
             "#e6f5d0"
            ],
            [
             0.7,
             "#b8e186"
            ],
            [
             0.8,
             "#7fbc41"
            ],
            [
             0.9,
             "#4d9221"
            ],
            [
             1,
             "#276419"
            ]
           ],
           "sequential": [
            [
             0,
             "#0d0887"
            ],
            [
             0.1111111111111111,
             "#46039f"
            ],
            [
             0.2222222222222222,
             "#7201a8"
            ],
            [
             0.3333333333333333,
             "#9c179e"
            ],
            [
             0.4444444444444444,
             "#bd3786"
            ],
            [
             0.5555555555555556,
             "#d8576b"
            ],
            [
             0.6666666666666666,
             "#ed7953"
            ],
            [
             0.7777777777777778,
             "#fb9f3a"
            ],
            [
             0.8888888888888888,
             "#fdca26"
            ],
            [
             1,
             "#f0f921"
            ]
           ],
           "sequentialminus": [
            [
             0,
             "#0d0887"
            ],
            [
             0.1111111111111111,
             "#46039f"
            ],
            [
             0.2222222222222222,
             "#7201a8"
            ],
            [
             0.3333333333333333,
             "#9c179e"
            ],
            [
             0.4444444444444444,
             "#bd3786"
            ],
            [
             0.5555555555555556,
             "#d8576b"
            ],
            [
             0.6666666666666666,
             "#ed7953"
            ],
            [
             0.7777777777777778,
             "#fb9f3a"
            ],
            [
             0.8888888888888888,
             "#fdca26"
            ],
            [
             1,
             "#f0f921"
            ]
           ]
          },
          "colorway": [
           "#636efa",
           "#EF553B",
           "#00cc96",
           "#ab63fa",
           "#FFA15A",
           "#19d3f3",
           "#FF6692",
           "#B6E880",
           "#FF97FF",
           "#FECB52"
          ],
          "font": {
           "color": "#2a3f5f"
          },
          "geo": {
           "bgcolor": "white",
           "lakecolor": "white",
           "landcolor": "#E5ECF6",
           "showlakes": true,
           "showland": true,
           "subunitcolor": "white"
          },
          "hoverlabel": {
           "align": "left"
          },
          "hovermode": "closest",
          "mapbox": {
           "style": "light"
          },
          "paper_bgcolor": "white",
          "plot_bgcolor": "#E5ECF6",
          "polar": {
           "angularaxis": {
            "gridcolor": "white",
            "linecolor": "white",
            "ticks": ""
           },
           "bgcolor": "#E5ECF6",
           "radialaxis": {
            "gridcolor": "white",
            "linecolor": "white",
            "ticks": ""
           }
          },
          "scene": {
           "xaxis": {
            "backgroundcolor": "#E5ECF6",
            "gridcolor": "white",
            "gridwidth": 2,
            "linecolor": "white",
            "showbackground": true,
            "ticks": "",
            "zerolinecolor": "white"
           },
           "yaxis": {
            "backgroundcolor": "#E5ECF6",
            "gridcolor": "white",
            "gridwidth": 2,
            "linecolor": "white",
            "showbackground": true,
            "ticks": "",
            "zerolinecolor": "white"
           },
           "zaxis": {
            "backgroundcolor": "#E5ECF6",
            "gridcolor": "white",
            "gridwidth": 2,
            "linecolor": "white",
            "showbackground": true,
            "ticks": "",
            "zerolinecolor": "white"
           }
          },
          "shapedefaults": {
           "line": {
            "color": "#2a3f5f"
           }
          },
          "ternary": {
           "aaxis": {
            "gridcolor": "white",
            "linecolor": "white",
            "ticks": ""
           },
           "baxis": {
            "gridcolor": "white",
            "linecolor": "white",
            "ticks": ""
           },
           "bgcolor": "#E5ECF6",
           "caxis": {
            "gridcolor": "white",
            "linecolor": "white",
            "ticks": ""
           }
          },
          "title": {
           "x": 0.05
          },
          "xaxis": {
           "automargin": true,
           "gridcolor": "white",
           "linecolor": "white",
           "ticks": "",
           "title": {
            "standoff": 15
           },
           "zerolinecolor": "white",
           "zerolinewidth": 2
          },
          "yaxis": {
           "automargin": true,
           "gridcolor": "white",
           "linecolor": "white",
           "ticks": "",
           "title": {
            "standoff": 15
           },
           "zerolinecolor": "white",
           "zerolinewidth": 2
          }
         }
        },
        "title": {
         "text": "Total Explained Variance: 96.30%"
        }
       }
      }
     },
     "metadata": {},
     "output_type": "display_data"
    }
   ],
   "source": [
    "import plotly.express as px\n",
    "from sklearn.decomposition import PCA\n",
    "\n",
    "pca = PCA(n_components=3)\n",
    "components = pca.fit_transform(data2)\n",
    "\n",
    "total_var = pca.explained_variance_ratio_.sum() * 100\n",
    "\n",
    "fig = px.scatter_3d(\n",
    "    components, x=0, y=1, z=2, color=df['Species'],\n",
    "    title=f'Total Explained Variance: {total_var:.2f}%',\n",
    "    labels={'0': 'PC 1', '1': 'PC 2', '2': 'PC 3'},\n",
    ")\n",
    "fig.show()"
   ]
  },
  {
   "cell_type": "markdown",
   "metadata": {},
   "source": [
    "### evaluation of PCA\n",
    "from the pca-plots, we can see that it is very dificult to cluster this data, a lot of the clusters are not very well seperated, which makes clustering very hard."
   ]
  },
  {
   "cell_type": "markdown",
   "metadata": {},
   "source": [
    "---"
   ]
  },
  {
   "cell_type": "markdown",
   "metadata": {},
   "source": [
    "# data selection\n",
    "as shown in the plots above, we can see that the data is not well seperated, so we need to select the data that is well seperated. i will first seperate the ten species with the most samples."
   ]
  },
  {
   "cell_type": "code",
   "execution_count": 134,
   "metadata": {},
   "outputs": [
    {
     "name": "stdout",
     "output_type": "stream",
     "text": [
      "Index(['lar', 'cristata', 'mitis', 'badius', 'polykomos', 'torquatus'], dtype='object', name='Species')\n"
     ]
    }
   ],
   "source": [
    "dups = df.pivot_table(index = ['Species'], aggfunc ='size')\n",
    "sorted_species = (dups.sort_values(ascending=False))[:6]\n",
    "print(sorted_species.keys())\n",
    "'''keep only rows containing the top # species'''\n",
    "df2 = df[df['Species'].isin(sorted_species.keys())]\n"
   ]
  },
  {
   "cell_type": "code",
   "execution_count": 135,
   "metadata": {},
   "outputs": [],
   "source": [
    "import plotly.express as px\n",
    "from sklearn.decomposition import PCA\n",
    "from sklearn import datasets\n",
    "from sklearn.preprocessing import StandardScaler\n",
    "\n",
    "species =  df2['Species']\n",
    "#df = px.data.iris()\n",
    "data2 = df2.drop('Species', axis=1)\n",
    "X = data2\n",
    "\n",
    "pca = PCA(n_components=2)\n",
    "components = pca.fit_transform(X)\n",
    "\n",
    "loadings = pca.components_.T * np.sqrt(pca.explained_variance_)\n",
    "#print(components)\n",
    "fig1 = px.scatter(components, x=0, y=1, color=species)\n",
    "\n",
    "for i, feature in enumerate(data2.columns):\n",
    "    fig1.add_shape(\n",
    "        type='line',\n",
    "        x0=0, y0=0,\n",
    "        x1=loadings[i, 0],\n",
    "        y1=loadings[i, 1]\n",
    "    )\n",
    "    fig1.add_annotation(\n",
    "        x=loadings[i, 0],\n",
    "        y=loadings[i, 1],\n",
    "        ax=0, ay=0,\n",
    "        xanchor=\"center\",\n",
    "        yanchor=\"bottom\",\n",
    "        text=feature[:3],\n",
    "    )\n"
   ]
  },
  {
   "cell_type": "code",
   "execution_count": 136,
   "metadata": {},
   "outputs": [
    {
     "name": "stdout",
     "output_type": "stream",
     "text": [
      "[[107.03712343422296, 30.492743756423636], [-92.38046844258017, -30.864687717250277], [138.72803785784885, -101.87316973103566], [10.137471122060749, 32.126951552056305], [-42.16630731930894, -91.01604189320307], [78.62315183992824, 58.42462716251437]]\n"
     ]
    },
    {
     "data": {
      "application/vnd.plotly.v1+json": {
       "config": {
        "plotlyServerURL": "https://plot.ly"
       },
       "data": [
        {
         "hovertemplate": "color=mitis<br>0=%{x}<br>1=%{y}<extra></extra>",
         "legendgroup": "mitis",
         "marker": {
          "color": "#636efa",
          "symbol": "circle"
         },
         "mode": "markers",
         "name": "mitis",
         "orientation": "v",
         "showlegend": true,
         "type": "scatter",
         "x": [
          -69.23491678208792,
          -65.73619901302652,
          -71.61894778793052,
          -79.25298017885532,
          -81.92005996760157,
          -89.94650323796584,
          -81.85632332085778,
          -92.66898557180845,
          -83.03164084946764,
          -98.03711888104853
         ],
         "xaxis": "x",
         "y": [
          106.0099559077373,
          99.35803375331429,
          113.63039542685526,
          112.98662682096366,
          111.68380170008439,
          118.42636849363731,
          116.25171676881112,
          112.23928840505586,
          117.1550859873826,
          112.7713393749415
         ],
         "yaxis": "y"
        },
        {
         "hovertemplate": "color=badius<br>0=%{x}<br>1=%{y}<extra></extra>",
         "legendgroup": "badius",
         "marker": {
          "color": "#EF553B",
          "symbol": "circle"
         },
         "mode": "markers",
         "name": "badius",
         "orientation": "v",
         "showlegend": true,
         "type": "scatter",
         "x": [
          80.68981843685415,
          73.6647455289341,
          82.76399435674351,
          74.86536197650796,
          74.6792431484696,
          92.10094233978187,
          68.58914240251409,
          73.83875453846977,
          86.9930634160888,
          75.2972934909901
         ],
         "xaxis": "x",
         "y": [
          65.8258645487408,
          63.198598698951635,
          70.9725857820142,
          64.02020265450727,
          70.23325615401575,
          72.9914064918793,
          63.85381677170303,
          70.7221426495792,
          63.85809199948361,
          66.52915215918372
         ],
         "yaxis": "y"
        },
        {
         "hovertemplate": "color=cristata<br>0=%{x}<br>1=%{y}<extra></extra>",
         "legendgroup": "cristata",
         "marker": {
          "color": "#00cc96",
          "symbol": "circle"
         },
         "mode": "markers",
         "name": "cristata",
         "orientation": "v",
         "showlegend": true,
         "type": "scatter",
         "x": [
          -26.008444421997048,
          -38.376316840030235,
          -44.66694619235016,
          -48.00290079969085,
          -45.86315617418357,
          -45.79424507428997,
          -52.36902198507457,
          -64.74100627859666,
          -52.995901074977624,
          -76.95573194622547,
          156.3846799055265,
          153.59054687736057,
          149.330272764518,
          144.8743341739085,
          147.27478427458038,
          146.47032061663091,
          139.55138872834075,
          133.47432735952805
         ],
         "xaxis": "x",
         "y": [
          -80.97032922981178,
          -74.72609004556713,
          -67.65676953777822,
          -68.89202057227887,
          -63.99308587892922,
          -71.3373291819844,
          -58.598996896381514,
          -53.99249684849065,
          -59.089041759412744,
          -48.25987844661136,
          -34.184586363249764,
          -33.29952415539151,
          -28.406522282580905,
          -27.40734617380576,
          -23.46434779448851,
          -25.689971969779002,
          -22.48340445482196,
          -16.85204962102185
         ],
         "yaxis": "y"
        },
        {
         "hovertemplate": "color=polykomos<br>0=%{x}<br>1=%{y}<extra></extra>",
         "legendgroup": "polykomos",
         "marker": {
          "color": "#ab63fa",
          "symbol": "circle"
         },
         "mode": "markers",
         "name": "polykomos",
         "orientation": "v",
         "showlegend": true,
         "type": "scatter",
         "x": [
          -57.7521094093098,
          -71.97498807537315,
          -65.21342632487722,
          -65.93264884817161,
          -68.7734713016768,
          -83.9454019475261,
          -81.75001434003248,
          -91.01772317701268,
          -111.68049201207648,
          -136.22188215836178
         ],
         "xaxis": "x",
         "y": [
          -42.98003165471119,
          -53.05575468983164,
          -46.207632474749964,
          -46.5890837165569,
          -35.9121644538792,
          -43.80554194183068,
          -30.934440996903408,
          -27.60896696494224,
          -26.6413567368118,
          -7.367368980015864
         ],
         "yaxis": "y"
        },
        {
         "hovertemplate": "color=torquatus<br>0=%{x}<br>1=%{y}<extra></extra>",
         "legendgroup": "torquatus",
         "marker": {
          "color": "#FFA15A",
          "symbol": "circle"
         },
         "mode": "markers",
         "name": "torquatus",
         "orientation": "v",
         "showlegend": true,
         "type": "scatter",
         "x": [
          -67.80160612659023,
          -63.72784699523271,
          -74.2847711681185,
          -88.42340926439803,
          -71.66083497370903,
          -119.47478277466031,
          -82.98436503539718,
          -74.29040497584394,
          -80.30146061813078
         ],
         "xaxis": "x",
         "y": [
          -40.06642561281561,
          -20.584698595734547,
          -13.631313458754285,
          -9.331745085326087,
          -18.19591594387477,
          0.6082326409175581,
          -6.731916104923345,
          -19.28610378223726,
          -13.587450820604545
         ],
         "yaxis": "y"
        },
        {
         "hovertemplate": "color=lar<br>0=%{x}<br>1=%{y}<extra></extra>",
         "legendgroup": "lar",
         "marker": {
          "color": "#19d3f3",
          "symbol": "circle"
         },
         "mode": "markers",
         "name": "lar",
         "orientation": "v",
         "showlegend": true,
         "type": "scatter",
         "x": [
          17.49675514225738,
          7.427460795319228,
          -12.64996049883522,
          0.23228370812448185,
          -11.617480917939542,
          -2.248476833195751,
          -23.077463214309272,
          -11.449168339631465,
          -6.599595926191094,
          -25.347827497710874,
          -19.129190055433423,
          145.6068712365149,
          147.01008928364203,
          143.527257435884,
          143.15445156981767,
          140.91361556414418,
          141.14583347142406,
          137.4605166449355
         ],
         "xaxis": "x",
         "y": [
          -57.8851645710848,
          -49.191309603646076,
          -36.565269061762706,
          -40.26292481385149,
          -31.931840661887783,
          -41.54753451408708,
          -36.946465925552204,
          -33.28650294386754,
          -36.326714608019074,
          -33.681804511360944,
          -26.838846098767526,
          -10.101191829931782,
          -0.595702638654081,
          2.1978523748031695,
          -4.678635469666983,
          -2.466955793500429,
          6.935871474619755,
          1.668879233346666
         ],
         "yaxis": "y"
        },
        {
         "hovertemplate": "0=%{x}<br>1=%{y}<extra></extra>",
         "legendgroup": "",
         "marker": {
          "color": "#636efa",
          "symbol": "circle"
         },
         "mode": "markers",
         "name": "",
         "orientation": "v",
         "showlegend": false,
         "type": "scatter",
         "x": [
          107.03712343422296,
          -92.38046844258017,
          138.72803785784885,
          10.137471122060749,
          -42.16630731930894,
          78.62315183992824
         ],
         "xaxis": "x",
         "y": [
          30.492743756423636,
          -30.864687717250277,
          -101.87316973103566,
          32.126951552056305,
          -91.01604189320307,
          58.42462716251437
         ],
         "yaxis": "y"
        }
       ],
       "layout": {
        "template": {
         "data": {
          "bar": [
           {
            "error_x": {
             "color": "#2a3f5f"
            },
            "error_y": {
             "color": "#2a3f5f"
            },
            "marker": {
             "line": {
              "color": "#E5ECF6",
              "width": 0.5
             },
             "pattern": {
              "fillmode": "overlay",
              "size": 10,
              "solidity": 0.2
             }
            },
            "type": "bar"
           }
          ],
          "barpolar": [
           {
            "marker": {
             "line": {
              "color": "#E5ECF6",
              "width": 0.5
             },
             "pattern": {
              "fillmode": "overlay",
              "size": 10,
              "solidity": 0.2
             }
            },
            "type": "barpolar"
           }
          ],
          "carpet": [
           {
            "aaxis": {
             "endlinecolor": "#2a3f5f",
             "gridcolor": "white",
             "linecolor": "white",
             "minorgridcolor": "white",
             "startlinecolor": "#2a3f5f"
            },
            "baxis": {
             "endlinecolor": "#2a3f5f",
             "gridcolor": "white",
             "linecolor": "white",
             "minorgridcolor": "white",
             "startlinecolor": "#2a3f5f"
            },
            "type": "carpet"
           }
          ],
          "choropleth": [
           {
            "colorbar": {
             "outlinewidth": 0,
             "ticks": ""
            },
            "type": "choropleth"
           }
          ],
          "contour": [
           {
            "colorbar": {
             "outlinewidth": 0,
             "ticks": ""
            },
            "colorscale": [
             [
              0,
              "#0d0887"
             ],
             [
              0.1111111111111111,
              "#46039f"
             ],
             [
              0.2222222222222222,
              "#7201a8"
             ],
             [
              0.3333333333333333,
              "#9c179e"
             ],
             [
              0.4444444444444444,
              "#bd3786"
             ],
             [
              0.5555555555555556,
              "#d8576b"
             ],
             [
              0.6666666666666666,
              "#ed7953"
             ],
             [
              0.7777777777777778,
              "#fb9f3a"
             ],
             [
              0.8888888888888888,
              "#fdca26"
             ],
             [
              1,
              "#f0f921"
             ]
            ],
            "type": "contour"
           }
          ],
          "contourcarpet": [
           {
            "colorbar": {
             "outlinewidth": 0,
             "ticks": ""
            },
            "type": "contourcarpet"
           }
          ],
          "heatmap": [
           {
            "colorbar": {
             "outlinewidth": 0,
             "ticks": ""
            },
            "colorscale": [
             [
              0,
              "#0d0887"
             ],
             [
              0.1111111111111111,
              "#46039f"
             ],
             [
              0.2222222222222222,
              "#7201a8"
             ],
             [
              0.3333333333333333,
              "#9c179e"
             ],
             [
              0.4444444444444444,
              "#bd3786"
             ],
             [
              0.5555555555555556,
              "#d8576b"
             ],
             [
              0.6666666666666666,
              "#ed7953"
             ],
             [
              0.7777777777777778,
              "#fb9f3a"
             ],
             [
              0.8888888888888888,
              "#fdca26"
             ],
             [
              1,
              "#f0f921"
             ]
            ],
            "type": "heatmap"
           }
          ],
          "heatmapgl": [
           {
            "colorbar": {
             "outlinewidth": 0,
             "ticks": ""
            },
            "colorscale": [
             [
              0,
              "#0d0887"
             ],
             [
              0.1111111111111111,
              "#46039f"
             ],
             [
              0.2222222222222222,
              "#7201a8"
             ],
             [
              0.3333333333333333,
              "#9c179e"
             ],
             [
              0.4444444444444444,
              "#bd3786"
             ],
             [
              0.5555555555555556,
              "#d8576b"
             ],
             [
              0.6666666666666666,
              "#ed7953"
             ],
             [
              0.7777777777777778,
              "#fb9f3a"
             ],
             [
              0.8888888888888888,
              "#fdca26"
             ],
             [
              1,
              "#f0f921"
             ]
            ],
            "type": "heatmapgl"
           }
          ],
          "histogram": [
           {
            "marker": {
             "pattern": {
              "fillmode": "overlay",
              "size": 10,
              "solidity": 0.2
             }
            },
            "type": "histogram"
           }
          ],
          "histogram2d": [
           {
            "colorbar": {
             "outlinewidth": 0,
             "ticks": ""
            },
            "colorscale": [
             [
              0,
              "#0d0887"
             ],
             [
              0.1111111111111111,
              "#46039f"
             ],
             [
              0.2222222222222222,
              "#7201a8"
             ],
             [
              0.3333333333333333,
              "#9c179e"
             ],
             [
              0.4444444444444444,
              "#bd3786"
             ],
             [
              0.5555555555555556,
              "#d8576b"
             ],
             [
              0.6666666666666666,
              "#ed7953"
             ],
             [
              0.7777777777777778,
              "#fb9f3a"
             ],
             [
              0.8888888888888888,
              "#fdca26"
             ],
             [
              1,
              "#f0f921"
             ]
            ],
            "type": "histogram2d"
           }
          ],
          "histogram2dcontour": [
           {
            "colorbar": {
             "outlinewidth": 0,
             "ticks": ""
            },
            "colorscale": [
             [
              0,
              "#0d0887"
             ],
             [
              0.1111111111111111,
              "#46039f"
             ],
             [
              0.2222222222222222,
              "#7201a8"
             ],
             [
              0.3333333333333333,
              "#9c179e"
             ],
             [
              0.4444444444444444,
              "#bd3786"
             ],
             [
              0.5555555555555556,
              "#d8576b"
             ],
             [
              0.6666666666666666,
              "#ed7953"
             ],
             [
              0.7777777777777778,
              "#fb9f3a"
             ],
             [
              0.8888888888888888,
              "#fdca26"
             ],
             [
              1,
              "#f0f921"
             ]
            ],
            "type": "histogram2dcontour"
           }
          ],
          "mesh3d": [
           {
            "colorbar": {
             "outlinewidth": 0,
             "ticks": ""
            },
            "type": "mesh3d"
           }
          ],
          "parcoords": [
           {
            "line": {
             "colorbar": {
              "outlinewidth": 0,
              "ticks": ""
             }
            },
            "type": "parcoords"
           }
          ],
          "pie": [
           {
            "automargin": true,
            "type": "pie"
           }
          ],
          "scatter": [
           {
            "marker": {
             "colorbar": {
              "outlinewidth": 0,
              "ticks": ""
             }
            },
            "type": "scatter"
           }
          ],
          "scatter3d": [
           {
            "line": {
             "colorbar": {
              "outlinewidth": 0,
              "ticks": ""
             }
            },
            "marker": {
             "colorbar": {
              "outlinewidth": 0,
              "ticks": ""
             }
            },
            "type": "scatter3d"
           }
          ],
          "scattercarpet": [
           {
            "marker": {
             "colorbar": {
              "outlinewidth": 0,
              "ticks": ""
             }
            },
            "type": "scattercarpet"
           }
          ],
          "scattergeo": [
           {
            "marker": {
             "colorbar": {
              "outlinewidth": 0,
              "ticks": ""
             }
            },
            "type": "scattergeo"
           }
          ],
          "scattergl": [
           {
            "marker": {
             "colorbar": {
              "outlinewidth": 0,
              "ticks": ""
             }
            },
            "type": "scattergl"
           }
          ],
          "scattermapbox": [
           {
            "marker": {
             "colorbar": {
              "outlinewidth": 0,
              "ticks": ""
             }
            },
            "type": "scattermapbox"
           }
          ],
          "scatterpolar": [
           {
            "marker": {
             "colorbar": {
              "outlinewidth": 0,
              "ticks": ""
             }
            },
            "type": "scatterpolar"
           }
          ],
          "scatterpolargl": [
           {
            "marker": {
             "colorbar": {
              "outlinewidth": 0,
              "ticks": ""
             }
            },
            "type": "scatterpolargl"
           }
          ],
          "scatterternary": [
           {
            "marker": {
             "colorbar": {
              "outlinewidth": 0,
              "ticks": ""
             }
            },
            "type": "scatterternary"
           }
          ],
          "surface": [
           {
            "colorbar": {
             "outlinewidth": 0,
             "ticks": ""
            },
            "colorscale": [
             [
              0,
              "#0d0887"
             ],
             [
              0.1111111111111111,
              "#46039f"
             ],
             [
              0.2222222222222222,
              "#7201a8"
             ],
             [
              0.3333333333333333,
              "#9c179e"
             ],
             [
              0.4444444444444444,
              "#bd3786"
             ],
             [
              0.5555555555555556,
              "#d8576b"
             ],
             [
              0.6666666666666666,
              "#ed7953"
             ],
             [
              0.7777777777777778,
              "#fb9f3a"
             ],
             [
              0.8888888888888888,
              "#fdca26"
             ],
             [
              1,
              "#f0f921"
             ]
            ],
            "type": "surface"
           }
          ],
          "table": [
           {
            "cells": {
             "fill": {
              "color": "#EBF0F8"
             },
             "line": {
              "color": "white"
             }
            },
            "header": {
             "fill": {
              "color": "#C8D4E3"
             },
             "line": {
              "color": "white"
             }
            },
            "type": "table"
           }
          ]
         },
         "layout": {
          "annotationdefaults": {
           "arrowcolor": "#2a3f5f",
           "arrowhead": 0,
           "arrowwidth": 1
          },
          "autotypenumbers": "strict",
          "coloraxis": {
           "colorbar": {
            "outlinewidth": 0,
            "ticks": ""
           }
          },
          "colorscale": {
           "diverging": [
            [
             0,
             "#8e0152"
            ],
            [
             0.1,
             "#c51b7d"
            ],
            [
             0.2,
             "#de77ae"
            ],
            [
             0.3,
             "#f1b6da"
            ],
            [
             0.4,
             "#fde0ef"
            ],
            [
             0.5,
             "#f7f7f7"
            ],
            [
             0.6,
             "#e6f5d0"
            ],
            [
             0.7,
             "#b8e186"
            ],
            [
             0.8,
             "#7fbc41"
            ],
            [
             0.9,
             "#4d9221"
            ],
            [
             1,
             "#276419"
            ]
           ],
           "sequential": [
            [
             0,
             "#0d0887"
            ],
            [
             0.1111111111111111,
             "#46039f"
            ],
            [
             0.2222222222222222,
             "#7201a8"
            ],
            [
             0.3333333333333333,
             "#9c179e"
            ],
            [
             0.4444444444444444,
             "#bd3786"
            ],
            [
             0.5555555555555556,
             "#d8576b"
            ],
            [
             0.6666666666666666,
             "#ed7953"
            ],
            [
             0.7777777777777778,
             "#fb9f3a"
            ],
            [
             0.8888888888888888,
             "#fdca26"
            ],
            [
             1,
             "#f0f921"
            ]
           ],
           "sequentialminus": [
            [
             0,
             "#0d0887"
            ],
            [
             0.1111111111111111,
             "#46039f"
            ],
            [
             0.2222222222222222,
             "#7201a8"
            ],
            [
             0.3333333333333333,
             "#9c179e"
            ],
            [
             0.4444444444444444,
             "#bd3786"
            ],
            [
             0.5555555555555556,
             "#d8576b"
            ],
            [
             0.6666666666666666,
             "#ed7953"
            ],
            [
             0.7777777777777778,
             "#fb9f3a"
            ],
            [
             0.8888888888888888,
             "#fdca26"
            ],
            [
             1,
             "#f0f921"
            ]
           ]
          },
          "colorway": [
           "#636efa",
           "#EF553B",
           "#00cc96",
           "#ab63fa",
           "#FFA15A",
           "#19d3f3",
           "#FF6692",
           "#B6E880",
           "#FF97FF",
           "#FECB52"
          ],
          "font": {
           "color": "#2a3f5f"
          },
          "geo": {
           "bgcolor": "white",
           "lakecolor": "white",
           "landcolor": "#E5ECF6",
           "showlakes": true,
           "showland": true,
           "subunitcolor": "white"
          },
          "hoverlabel": {
           "align": "left"
          },
          "hovermode": "closest",
          "mapbox": {
           "style": "light"
          },
          "paper_bgcolor": "white",
          "plot_bgcolor": "#E5ECF6",
          "polar": {
           "angularaxis": {
            "gridcolor": "white",
            "linecolor": "white",
            "ticks": ""
           },
           "bgcolor": "#E5ECF6",
           "radialaxis": {
            "gridcolor": "white",
            "linecolor": "white",
            "ticks": ""
           }
          },
          "scene": {
           "xaxis": {
            "backgroundcolor": "#E5ECF6",
            "gridcolor": "white",
            "gridwidth": 2,
            "linecolor": "white",
            "showbackground": true,
            "ticks": "",
            "zerolinecolor": "white"
           },
           "yaxis": {
            "backgroundcolor": "#E5ECF6",
            "gridcolor": "white",
            "gridwidth": 2,
            "linecolor": "white",
            "showbackground": true,
            "ticks": "",
            "zerolinecolor": "white"
           },
           "zaxis": {
            "backgroundcolor": "#E5ECF6",
            "gridcolor": "white",
            "gridwidth": 2,
            "linecolor": "white",
            "showbackground": true,
            "ticks": "",
            "zerolinecolor": "white"
           }
          },
          "shapedefaults": {
           "line": {
            "color": "#2a3f5f"
           }
          },
          "ternary": {
           "aaxis": {
            "gridcolor": "white",
            "linecolor": "white",
            "ticks": ""
           },
           "baxis": {
            "gridcolor": "white",
            "linecolor": "white",
            "ticks": ""
           },
           "bgcolor": "#E5ECF6",
           "caxis": {
            "gridcolor": "white",
            "linecolor": "white",
            "ticks": ""
           }
          },
          "title": {
           "x": 0.05
          },
          "xaxis": {
           "automargin": true,
           "gridcolor": "white",
           "linecolor": "white",
           "ticks": "",
           "title": {
            "standoff": 15
           },
           "zerolinecolor": "white",
           "zerolinewidth": 2
          },
          "yaxis": {
           "automargin": true,
           "gridcolor": "white",
           "linecolor": "white",
           "ticks": "",
           "title": {
            "standoff": 15
           },
           "zerolinecolor": "white",
           "zerolinewidth": 2
          }
         }
        }
       }
      }
     },
     "metadata": {},
     "output_type": "display_data"
    }
   ],
   "source": [
    "#Import required module\n",
    "from sklearn.cluster import KMeans\n",
    "import plotly.graph_objects as go\n",
    "#Initialize the class object\n",
    "kmeans = KMeans(n_clusters= 6)\n",
    " \n",
    "#predict the labels of clusters.\n",
    "kmeans.fit(data2)\n",
    "y_kmeans = kmeans.predict(data2)\n",
    "centers = kmeans.cluster_centers_\n",
    "\n",
    "centers2= []\n",
    "for i in centers:\n",
    "    centers2.append([i[0], i[1]])\n",
    "print(centers2)\n",
    "\n",
    "fig2 = px.scatter(centers2, x=0, y=1, range_color = [100, 500], size_max = 100)\n",
    "fig3 = go.Figure(data=fig1.data + fig2.data)\n",
    "fig3.show()"
   ]
  },
  {
   "cell_type": "markdown",
   "metadata": {},
   "source": [
    "### evaluation\n",
    "we can see that the chosen species are not very well seperated. this is a non-working approac. for example: the data of lar and cristana are seperated, which makes it dificult to cluster them. i will try to find species that are easier to cluster and run the same algorithm again. "
   ]
  },
  {
   "cell_type": "markdown",
   "metadata": {},
   "source": [
    "--------------------"
   ]
  },
  {
   "cell_type": "markdown",
   "metadata": {},
   "source": [
    "### Data selection 2\n",
    "from the PCA plots above, we can see that the following species well separated:\n",
    "- gorilla\n",
    "- albigena\n",
    "- talapoin\n",
    "- badius\n",
    "- anubis\n",
    "\n",
    "with this list of primates, i will continue."
   ]
  },
  {
   "cell_type": "code",
   "execution_count": 137,
   "metadata": {},
   "outputs": [
    {
     "data": {
      "application/vnd.plotly.v1+json": {
       "config": {
        "plotlyServerURL": "https://plot.ly"
       },
       "data": [
        {
         "hovertemplate": "color=talapoin<br>0=%{x}<br>1=%{y}<extra></extra>",
         "legendgroup": "talapoin",
         "marker": {
          "color": "#636efa",
          "symbol": "circle"
         },
         "mode": "markers",
         "name": "talapoin",
         "orientation": "v",
         "showlegend": true,
         "type": "scatter",
         "x": [
          -154.3548114932924,
          -152.0591143459721,
          -165.39844104358275,
          -163.35726251895008,
          -161.96844317870128
         ],
         "xaxis": "x",
         "y": [
          -51.61196249777456,
          -54.58438943718396,
          -68.29575561773589,
          -60.32751979583178,
          -59.43949596667024
         ],
         "yaxis": "y"
        },
        {
         "hovertemplate": "color=albigena<br>0=%{x}<br>1=%{y}<extra></extra>",
         "legendgroup": "albigena",
         "marker": {
          "color": "#EF553B",
          "symbol": "circle"
         },
         "mode": "markers",
         "name": "albigena",
         "orientation": "v",
         "showlegend": true,
         "type": "scatter",
         "x": [
          -179.82101187787262,
          -158.16236313284796,
          -176.54240798229554,
          -175.93968696721473,
          -145.60707500428907,
          -146.6631349092702
         ],
         "xaxis": "x",
         "y": [
          55.0952638546292,
          61.07887027705865,
          57.31646437039572,
          66.0943239093745,
          -67.78854157483752,
          71.71492445008796
         ],
         "yaxis": "y"
        },
        {
         "hovertemplate": "color=badius<br>0=%{x}<br>1=%{y}<extra></extra>",
         "legendgroup": "badius",
         "marker": {
          "color": "#00cc96",
          "symbol": "circle"
         },
         "mode": "markers",
         "name": "badius",
         "orientation": "v",
         "showlegend": true,
         "type": "scatter",
         "x": [
          41.20764248853953,
          42.85666230418667,
          51.37078463648968,
          38.94327863706201,
          36.64629866209996,
          55.643974469190404,
          34.383840192848616,
          39.32122331071956,
          50.175909712979426,
          37.76106304038281
         ],
         "xaxis": "x",
         "y": [
          -54.46931062389534,
          -62.89938034125865,
          -67.65343751665826,
          -59.958215423959274,
          -60.8723968876065,
          -66.4517474649388,
          -58.12957293839057,
          -63.71578418905017,
          -59.089137302534695,
          -62.3187234323806
         ],
         "yaxis": "y"
        },
        {
         "hovertemplate": "color=anubis<br>0=%{x}<br>1=%{y}<extra></extra>",
         "legendgroup": "anubis",
         "marker": {
          "color": "#ab63fa",
          "symbol": "circle"
         },
         "mode": "markers",
         "name": "anubis",
         "orientation": "v",
         "showlegend": true,
         "type": "scatter",
         "x": [
          64.40909050922471,
          37.85007642129867,
          12.3536284990864,
          3.5560918870449796,
          19.650079575534864,
          10.598256837246208,
          8.420146653302641,
          13.691679257734055,
          2.1159974292389654
         ],
         "xaxis": "x",
         "y": [
          98.26308161641418,
          89.70962746132027,
          79.62496527124496,
          56.354485223470014,
          71.3524608565543,
          78.6812687548816,
          79.41237392299543,
          60.86424432055941,
          18.380740740797606
         ],
         "yaxis": "y"
        },
        {
         "hovertemplate": "color=gorilla<br>0=%{x}<br>1=%{y}<extra></extra>",
         "legendgroup": "gorilla",
         "marker": {
          "color": "#FFA15A",
          "symbol": "circle"
         },
         "mode": "markers",
         "name": "gorilla",
         "orientation": "v",
         "showlegend": true,
         "type": "scatter",
         "x": [
          197.1410198460722,
          208.5619304896542,
          186.1497087446546,
          200.41570191987395,
          193.70985093704311,
          192.93981599278038
         ],
         "xaxis": "x",
         "y": [
          11.926509995434097,
          21.462178535466073,
          10.688533463071954,
          -8.32839743033382,
          -15.62885345408508,
          13.542304871369227
         ],
         "yaxis": "y"
        }
       ],
       "layout": {
        "annotations": [
         {
          "ax": 0,
          "ay": 0,
          "text": "0",
          "x": -124.37791619909085,
          "xanchor": "center",
          "y": -0.03153423092624375,
          "yanchor": "bottom"
         },
         {
          "ax": 0,
          "ay": 0,
          "text": "1",
          "x": 0.8653040465442832,
          "xanchor": "center",
          "y": 55.122411097993194,
          "yanchor": "bottom"
         },
         {
          "ax": 0,
          "ay": 0,
          "text": "2",
          "x": -8.54882429826644,
          "xanchor": "center",
          "y": 19.988284879264846,
          "yanchor": "bottom"
         },
         {
          "ax": 0,
          "ay": 0,
          "text": "3",
          "x": -7.34374991798628,
          "xanchor": "center",
          "y": -16.272610701826935,
          "yanchor": "bottom"
         },
         {
          "ax": 0,
          "ay": 0,
          "text": "4",
          "x": -2.3534233927555146,
          "xanchor": "center",
          "y": -0.528842980970703,
          "yanchor": "bottom"
         },
         {
          "ax": 0,
          "ay": 0,
          "text": "5",
          "x": -2.150940239911046,
          "xanchor": "center",
          "y": 0.036210743741663255,
          "yanchor": "bottom"
         },
         {
          "ax": 0,
          "ay": 0,
          "text": "6",
          "x": -0.0394372869439185,
          "xanchor": "center",
          "y": -0.9360510218141179,
          "yanchor": "bottom"
         },
         {
          "ax": 0,
          "ay": 0,
          "text": "7",
          "x": 1.9958114198798422,
          "xanchor": "center",
          "y": 0.2171613612934969,
          "yanchor": "bottom"
         },
         {
          "ax": 0,
          "ay": 0,
          "text": "8",
          "x": -1.0019867340114166,
          "xanchor": "center",
          "y": 0.515950988813035,
          "yanchor": "bottom"
         },
         {
          "ax": 0,
          "ay": 0,
          "text": "9",
          "x": 1.6007919049224912,
          "xanchor": "center",
          "y": -0.037811224112389116,
          "yanchor": "bottom"
         },
         {
          "ax": 0,
          "ay": 0,
          "text": "10",
          "x": 0.2068541350933341,
          "xanchor": "center",
          "y": -0.19436429710515973,
          "yanchor": "bottom"
         },
         {
          "ax": 0,
          "ay": 0,
          "text": "11",
          "x": 1.434011805364666,
          "xanchor": "center",
          "y": -0.38167406790890057,
          "yanchor": "bottom"
         },
         {
          "ax": 0,
          "ay": 0,
          "text": "12",
          "x": 0.7058743452968431,
          "xanchor": "center",
          "y": -0.3677227407470087,
          "yanchor": "bottom"
         },
         {
          "ax": 0,
          "ay": 0,
          "text": "13",
          "x": 0.245635509949921,
          "xanchor": "center",
          "y": 0.2228418502890601,
          "yanchor": "bottom"
         },
         {
          "ax": 0,
          "ay": 0,
          "text": "14",
          "x": -0.043325536687878946,
          "xanchor": "center",
          "y": -0.6106767138309342,
          "yanchor": "bottom"
         },
         {
          "ax": 0,
          "ay": 0,
          "text": "15",
          "x": 0.13276844141400065,
          "xanchor": "center",
          "y": -0.3795594918978935,
          "yanchor": "bottom"
         },
         {
          "ax": 0,
          "ay": 0,
          "text": "16",
          "x": 0.21613540218854707,
          "xanchor": "center",
          "y": -0.06410576877211469,
          "yanchor": "bottom"
         },
         {
          "ax": 0,
          "ay": 0,
          "text": "17",
          "x": -0.42459496358073745,
          "xanchor": "center",
          "y": 1.0664063257786034,
          "yanchor": "bottom"
         },
         {
          "ax": 0,
          "ay": 0,
          "text": "18",
          "x": 0.10214164717280046,
          "xanchor": "center",
          "y": -0.051452699107474076,
          "yanchor": "bottom"
         },
         {
          "ax": 0,
          "ay": 0,
          "text": "19",
          "x": -0.08685466082147067,
          "xanchor": "center",
          "y": 0.4186895213267857,
          "yanchor": "bottom"
         },
         {
          "ax": 0,
          "ay": 0,
          "text": "20",
          "x": 0.1340660116168141,
          "xanchor": "center",
          "y": 0.09320139375006817,
          "yanchor": "bottom"
         },
         {
          "ax": 0,
          "ay": 0,
          "text": "21",
          "x": -0.2590760433828636,
          "xanchor": "center",
          "y": -0.08020881183300882,
          "yanchor": "bottom"
         },
         {
          "ax": 0,
          "ay": 0,
          "text": "22",
          "x": -0.21528153774324113,
          "xanchor": "center",
          "y": -0.07021333168503921,
          "yanchor": "bottom"
         },
         {
          "ax": 0,
          "ay": 0,
          "text": "23",
          "x": -0.04604280332147064,
          "xanchor": "center",
          "y": -0.06024428053822756,
          "yanchor": "bottom"
         },
         {
          "ax": 0,
          "ay": 0,
          "text": "24",
          "x": 0.17760820175727896,
          "xanchor": "center",
          "y": -0.32049528125294274,
          "yanchor": "bottom"
         },
         {
          "ax": 0,
          "ay": 0,
          "text": "25",
          "x": -0.03267257100251036,
          "xanchor": "center",
          "y": -0.012126033395502465,
          "yanchor": "bottom"
         },
         {
          "ax": 0,
          "ay": 0,
          "text": "26",
          "x": 0.20076946296495835,
          "xanchor": "center",
          "y": 0.06391230179864976,
          "yanchor": "bottom"
         },
         {
          "ax": 0,
          "ay": 0,
          "text": "27",
          "x": -0.05103681550581661,
          "xanchor": "center",
          "y": -0.11928780588121803,
          "yanchor": "bottom"
         },
         {
          "ax": 0,
          "ay": 0,
          "text": "28",
          "x": 0.05110248574345366,
          "xanchor": "center",
          "y": -0.06207746844995853,
          "yanchor": "bottom"
         },
         {
          "ax": 0,
          "ay": 0,
          "text": "29",
          "x": -0.09559971301792292,
          "xanchor": "center",
          "y": -0.09613994538219589,
          "yanchor": "bottom"
         }
        ],
        "legend": {
         "title": {
          "text": "color"
         },
         "tracegroupgap": 0
        },
        "margin": {
         "t": 60
        },
        "shapes": [
         {
          "type": "line",
          "x0": 0,
          "x1": -124.37791619909085,
          "y0": 0,
          "y1": -0.03153423092624375
         },
         {
          "type": "line",
          "x0": 0,
          "x1": 0.8653040465442832,
          "y0": 0,
          "y1": 55.122411097993194
         },
         {
          "type": "line",
          "x0": 0,
          "x1": -8.54882429826644,
          "y0": 0,
          "y1": 19.988284879264846
         },
         {
          "type": "line",
          "x0": 0,
          "x1": -7.34374991798628,
          "y0": 0,
          "y1": -16.272610701826935
         },
         {
          "type": "line",
          "x0": 0,
          "x1": -2.3534233927555146,
          "y0": 0,
          "y1": -0.528842980970703
         },
         {
          "type": "line",
          "x0": 0,
          "x1": -2.150940239911046,
          "y0": 0,
          "y1": 0.036210743741663255
         },
         {
          "type": "line",
          "x0": 0,
          "x1": -0.0394372869439185,
          "y0": 0,
          "y1": -0.9360510218141179
         },
         {
          "type": "line",
          "x0": 0,
          "x1": 1.9958114198798422,
          "y0": 0,
          "y1": 0.2171613612934969
         },
         {
          "type": "line",
          "x0": 0,
          "x1": -1.0019867340114166,
          "y0": 0,
          "y1": 0.515950988813035
         },
         {
          "type": "line",
          "x0": 0,
          "x1": 1.6007919049224912,
          "y0": 0,
          "y1": -0.037811224112389116
         },
         {
          "type": "line",
          "x0": 0,
          "x1": 0.2068541350933341,
          "y0": 0,
          "y1": -0.19436429710515973
         },
         {
          "type": "line",
          "x0": 0,
          "x1": 1.434011805364666,
          "y0": 0,
          "y1": -0.38167406790890057
         },
         {
          "type": "line",
          "x0": 0,
          "x1": 0.7058743452968431,
          "y0": 0,
          "y1": -0.3677227407470087
         },
         {
          "type": "line",
          "x0": 0,
          "x1": 0.245635509949921,
          "y0": 0,
          "y1": 0.2228418502890601
         },
         {
          "type": "line",
          "x0": 0,
          "x1": -0.043325536687878946,
          "y0": 0,
          "y1": -0.6106767138309342
         },
         {
          "type": "line",
          "x0": 0,
          "x1": 0.13276844141400065,
          "y0": 0,
          "y1": -0.3795594918978935
         },
         {
          "type": "line",
          "x0": 0,
          "x1": 0.21613540218854707,
          "y0": 0,
          "y1": -0.06410576877211469
         },
         {
          "type": "line",
          "x0": 0,
          "x1": -0.42459496358073745,
          "y0": 0,
          "y1": 1.0664063257786034
         },
         {
          "type": "line",
          "x0": 0,
          "x1": 0.10214164717280046,
          "y0": 0,
          "y1": -0.051452699107474076
         },
         {
          "type": "line",
          "x0": 0,
          "x1": -0.08685466082147067,
          "y0": 0,
          "y1": 0.4186895213267857
         },
         {
          "type": "line",
          "x0": 0,
          "x1": 0.1340660116168141,
          "y0": 0,
          "y1": 0.09320139375006817
         },
         {
          "type": "line",
          "x0": 0,
          "x1": -0.2590760433828636,
          "y0": 0,
          "y1": -0.08020881183300882
         },
         {
          "type": "line",
          "x0": 0,
          "x1": -0.21528153774324113,
          "y0": 0,
          "y1": -0.07021333168503921
         },
         {
          "type": "line",
          "x0": 0,
          "x1": -0.04604280332147064,
          "y0": 0,
          "y1": -0.06024428053822756
         },
         {
          "type": "line",
          "x0": 0,
          "x1": 0.17760820175727896,
          "y0": 0,
          "y1": -0.32049528125294274
         },
         {
          "type": "line",
          "x0": 0,
          "x1": -0.03267257100251036,
          "y0": 0,
          "y1": -0.012126033395502465
         },
         {
          "type": "line",
          "x0": 0,
          "x1": 0.20076946296495835,
          "y0": 0,
          "y1": 0.06391230179864976
         },
         {
          "type": "line",
          "x0": 0,
          "x1": -0.05103681550581661,
          "y0": 0,
          "y1": -0.11928780588121803
         },
         {
          "type": "line",
          "x0": 0,
          "x1": 0.05110248574345366,
          "y0": 0,
          "y1": -0.06207746844995853
         },
         {
          "type": "line",
          "x0": 0,
          "x1": -0.09559971301792292,
          "y0": 0,
          "y1": -0.09613994538219589
         }
        ],
        "template": {
         "data": {
          "bar": [
           {
            "error_x": {
             "color": "#2a3f5f"
            },
            "error_y": {
             "color": "#2a3f5f"
            },
            "marker": {
             "line": {
              "color": "#E5ECF6",
              "width": 0.5
             },
             "pattern": {
              "fillmode": "overlay",
              "size": 10,
              "solidity": 0.2
             }
            },
            "type": "bar"
           }
          ],
          "barpolar": [
           {
            "marker": {
             "line": {
              "color": "#E5ECF6",
              "width": 0.5
             },
             "pattern": {
              "fillmode": "overlay",
              "size": 10,
              "solidity": 0.2
             }
            },
            "type": "barpolar"
           }
          ],
          "carpet": [
           {
            "aaxis": {
             "endlinecolor": "#2a3f5f",
             "gridcolor": "white",
             "linecolor": "white",
             "minorgridcolor": "white",
             "startlinecolor": "#2a3f5f"
            },
            "baxis": {
             "endlinecolor": "#2a3f5f",
             "gridcolor": "white",
             "linecolor": "white",
             "minorgridcolor": "white",
             "startlinecolor": "#2a3f5f"
            },
            "type": "carpet"
           }
          ],
          "choropleth": [
           {
            "colorbar": {
             "outlinewidth": 0,
             "ticks": ""
            },
            "type": "choropleth"
           }
          ],
          "contour": [
           {
            "colorbar": {
             "outlinewidth": 0,
             "ticks": ""
            },
            "colorscale": [
             [
              0,
              "#0d0887"
             ],
             [
              0.1111111111111111,
              "#46039f"
             ],
             [
              0.2222222222222222,
              "#7201a8"
             ],
             [
              0.3333333333333333,
              "#9c179e"
             ],
             [
              0.4444444444444444,
              "#bd3786"
             ],
             [
              0.5555555555555556,
              "#d8576b"
             ],
             [
              0.6666666666666666,
              "#ed7953"
             ],
             [
              0.7777777777777778,
              "#fb9f3a"
             ],
             [
              0.8888888888888888,
              "#fdca26"
             ],
             [
              1,
              "#f0f921"
             ]
            ],
            "type": "contour"
           }
          ],
          "contourcarpet": [
           {
            "colorbar": {
             "outlinewidth": 0,
             "ticks": ""
            },
            "type": "contourcarpet"
           }
          ],
          "heatmap": [
           {
            "colorbar": {
             "outlinewidth": 0,
             "ticks": ""
            },
            "colorscale": [
             [
              0,
              "#0d0887"
             ],
             [
              0.1111111111111111,
              "#46039f"
             ],
             [
              0.2222222222222222,
              "#7201a8"
             ],
             [
              0.3333333333333333,
              "#9c179e"
             ],
             [
              0.4444444444444444,
              "#bd3786"
             ],
             [
              0.5555555555555556,
              "#d8576b"
             ],
             [
              0.6666666666666666,
              "#ed7953"
             ],
             [
              0.7777777777777778,
              "#fb9f3a"
             ],
             [
              0.8888888888888888,
              "#fdca26"
             ],
             [
              1,
              "#f0f921"
             ]
            ],
            "type": "heatmap"
           }
          ],
          "heatmapgl": [
           {
            "colorbar": {
             "outlinewidth": 0,
             "ticks": ""
            },
            "colorscale": [
             [
              0,
              "#0d0887"
             ],
             [
              0.1111111111111111,
              "#46039f"
             ],
             [
              0.2222222222222222,
              "#7201a8"
             ],
             [
              0.3333333333333333,
              "#9c179e"
             ],
             [
              0.4444444444444444,
              "#bd3786"
             ],
             [
              0.5555555555555556,
              "#d8576b"
             ],
             [
              0.6666666666666666,
              "#ed7953"
             ],
             [
              0.7777777777777778,
              "#fb9f3a"
             ],
             [
              0.8888888888888888,
              "#fdca26"
             ],
             [
              1,
              "#f0f921"
             ]
            ],
            "type": "heatmapgl"
           }
          ],
          "histogram": [
           {
            "marker": {
             "pattern": {
              "fillmode": "overlay",
              "size": 10,
              "solidity": 0.2
             }
            },
            "type": "histogram"
           }
          ],
          "histogram2d": [
           {
            "colorbar": {
             "outlinewidth": 0,
             "ticks": ""
            },
            "colorscale": [
             [
              0,
              "#0d0887"
             ],
             [
              0.1111111111111111,
              "#46039f"
             ],
             [
              0.2222222222222222,
              "#7201a8"
             ],
             [
              0.3333333333333333,
              "#9c179e"
             ],
             [
              0.4444444444444444,
              "#bd3786"
             ],
             [
              0.5555555555555556,
              "#d8576b"
             ],
             [
              0.6666666666666666,
              "#ed7953"
             ],
             [
              0.7777777777777778,
              "#fb9f3a"
             ],
             [
              0.8888888888888888,
              "#fdca26"
             ],
             [
              1,
              "#f0f921"
             ]
            ],
            "type": "histogram2d"
           }
          ],
          "histogram2dcontour": [
           {
            "colorbar": {
             "outlinewidth": 0,
             "ticks": ""
            },
            "colorscale": [
             [
              0,
              "#0d0887"
             ],
             [
              0.1111111111111111,
              "#46039f"
             ],
             [
              0.2222222222222222,
              "#7201a8"
             ],
             [
              0.3333333333333333,
              "#9c179e"
             ],
             [
              0.4444444444444444,
              "#bd3786"
             ],
             [
              0.5555555555555556,
              "#d8576b"
             ],
             [
              0.6666666666666666,
              "#ed7953"
             ],
             [
              0.7777777777777778,
              "#fb9f3a"
             ],
             [
              0.8888888888888888,
              "#fdca26"
             ],
             [
              1,
              "#f0f921"
             ]
            ],
            "type": "histogram2dcontour"
           }
          ],
          "mesh3d": [
           {
            "colorbar": {
             "outlinewidth": 0,
             "ticks": ""
            },
            "type": "mesh3d"
           }
          ],
          "parcoords": [
           {
            "line": {
             "colorbar": {
              "outlinewidth": 0,
              "ticks": ""
             }
            },
            "type": "parcoords"
           }
          ],
          "pie": [
           {
            "automargin": true,
            "type": "pie"
           }
          ],
          "scatter": [
           {
            "marker": {
             "colorbar": {
              "outlinewidth": 0,
              "ticks": ""
             }
            },
            "type": "scatter"
           }
          ],
          "scatter3d": [
           {
            "line": {
             "colorbar": {
              "outlinewidth": 0,
              "ticks": ""
             }
            },
            "marker": {
             "colorbar": {
              "outlinewidth": 0,
              "ticks": ""
             }
            },
            "type": "scatter3d"
           }
          ],
          "scattercarpet": [
           {
            "marker": {
             "colorbar": {
              "outlinewidth": 0,
              "ticks": ""
             }
            },
            "type": "scattercarpet"
           }
          ],
          "scattergeo": [
           {
            "marker": {
             "colorbar": {
              "outlinewidth": 0,
              "ticks": ""
             }
            },
            "type": "scattergeo"
           }
          ],
          "scattergl": [
           {
            "marker": {
             "colorbar": {
              "outlinewidth": 0,
              "ticks": ""
             }
            },
            "type": "scattergl"
           }
          ],
          "scattermapbox": [
           {
            "marker": {
             "colorbar": {
              "outlinewidth": 0,
              "ticks": ""
             }
            },
            "type": "scattermapbox"
           }
          ],
          "scatterpolar": [
           {
            "marker": {
             "colorbar": {
              "outlinewidth": 0,
              "ticks": ""
             }
            },
            "type": "scatterpolar"
           }
          ],
          "scatterpolargl": [
           {
            "marker": {
             "colorbar": {
              "outlinewidth": 0,
              "ticks": ""
             }
            },
            "type": "scatterpolargl"
           }
          ],
          "scatterternary": [
           {
            "marker": {
             "colorbar": {
              "outlinewidth": 0,
              "ticks": ""
             }
            },
            "type": "scatterternary"
           }
          ],
          "surface": [
           {
            "colorbar": {
             "outlinewidth": 0,
             "ticks": ""
            },
            "colorscale": [
             [
              0,
              "#0d0887"
             ],
             [
              0.1111111111111111,
              "#46039f"
             ],
             [
              0.2222222222222222,
              "#7201a8"
             ],
             [
              0.3333333333333333,
              "#9c179e"
             ],
             [
              0.4444444444444444,
              "#bd3786"
             ],
             [
              0.5555555555555556,
              "#d8576b"
             ],
             [
              0.6666666666666666,
              "#ed7953"
             ],
             [
              0.7777777777777778,
              "#fb9f3a"
             ],
             [
              0.8888888888888888,
              "#fdca26"
             ],
             [
              1,
              "#f0f921"
             ]
            ],
            "type": "surface"
           }
          ],
          "table": [
           {
            "cells": {
             "fill": {
              "color": "#EBF0F8"
             },
             "line": {
              "color": "white"
             }
            },
            "header": {
             "fill": {
              "color": "#C8D4E3"
             },
             "line": {
              "color": "white"
             }
            },
            "type": "table"
           }
          ]
         },
         "layout": {
          "annotationdefaults": {
           "arrowcolor": "#2a3f5f",
           "arrowhead": 0,
           "arrowwidth": 1
          },
          "autotypenumbers": "strict",
          "coloraxis": {
           "colorbar": {
            "outlinewidth": 0,
            "ticks": ""
           }
          },
          "colorscale": {
           "diverging": [
            [
             0,
             "#8e0152"
            ],
            [
             0.1,
             "#c51b7d"
            ],
            [
             0.2,
             "#de77ae"
            ],
            [
             0.3,
             "#f1b6da"
            ],
            [
             0.4,
             "#fde0ef"
            ],
            [
             0.5,
             "#f7f7f7"
            ],
            [
             0.6,
             "#e6f5d0"
            ],
            [
             0.7,
             "#b8e186"
            ],
            [
             0.8,
             "#7fbc41"
            ],
            [
             0.9,
             "#4d9221"
            ],
            [
             1,
             "#276419"
            ]
           ],
           "sequential": [
            [
             0,
             "#0d0887"
            ],
            [
             0.1111111111111111,
             "#46039f"
            ],
            [
             0.2222222222222222,
             "#7201a8"
            ],
            [
             0.3333333333333333,
             "#9c179e"
            ],
            [
             0.4444444444444444,
             "#bd3786"
            ],
            [
             0.5555555555555556,
             "#d8576b"
            ],
            [
             0.6666666666666666,
             "#ed7953"
            ],
            [
             0.7777777777777778,
             "#fb9f3a"
            ],
            [
             0.8888888888888888,
             "#fdca26"
            ],
            [
             1,
             "#f0f921"
            ]
           ],
           "sequentialminus": [
            [
             0,
             "#0d0887"
            ],
            [
             0.1111111111111111,
             "#46039f"
            ],
            [
             0.2222222222222222,
             "#7201a8"
            ],
            [
             0.3333333333333333,
             "#9c179e"
            ],
            [
             0.4444444444444444,
             "#bd3786"
            ],
            [
             0.5555555555555556,
             "#d8576b"
            ],
            [
             0.6666666666666666,
             "#ed7953"
            ],
            [
             0.7777777777777778,
             "#fb9f3a"
            ],
            [
             0.8888888888888888,
             "#fdca26"
            ],
            [
             1,
             "#f0f921"
            ]
           ]
          },
          "colorway": [
           "#636efa",
           "#EF553B",
           "#00cc96",
           "#ab63fa",
           "#FFA15A",
           "#19d3f3",
           "#FF6692",
           "#B6E880",
           "#FF97FF",
           "#FECB52"
          ],
          "font": {
           "color": "#2a3f5f"
          },
          "geo": {
           "bgcolor": "white",
           "lakecolor": "white",
           "landcolor": "#E5ECF6",
           "showlakes": true,
           "showland": true,
           "subunitcolor": "white"
          },
          "hoverlabel": {
           "align": "left"
          },
          "hovermode": "closest",
          "mapbox": {
           "style": "light"
          },
          "paper_bgcolor": "white",
          "plot_bgcolor": "#E5ECF6",
          "polar": {
           "angularaxis": {
            "gridcolor": "white",
            "linecolor": "white",
            "ticks": ""
           },
           "bgcolor": "#E5ECF6",
           "radialaxis": {
            "gridcolor": "white",
            "linecolor": "white",
            "ticks": ""
           }
          },
          "scene": {
           "xaxis": {
            "backgroundcolor": "#E5ECF6",
            "gridcolor": "white",
            "gridwidth": 2,
            "linecolor": "white",
            "showbackground": true,
            "ticks": "",
            "zerolinecolor": "white"
           },
           "yaxis": {
            "backgroundcolor": "#E5ECF6",
            "gridcolor": "white",
            "gridwidth": 2,
            "linecolor": "white",
            "showbackground": true,
            "ticks": "",
            "zerolinecolor": "white"
           },
           "zaxis": {
            "backgroundcolor": "#E5ECF6",
            "gridcolor": "white",
            "gridwidth": 2,
            "linecolor": "white",
            "showbackground": true,
            "ticks": "",
            "zerolinecolor": "white"
           }
          },
          "shapedefaults": {
           "line": {
            "color": "#2a3f5f"
           }
          },
          "ternary": {
           "aaxis": {
            "gridcolor": "white",
            "linecolor": "white",
            "ticks": ""
           },
           "baxis": {
            "gridcolor": "white",
            "linecolor": "white",
            "ticks": ""
           },
           "bgcolor": "#E5ECF6",
           "caxis": {
            "gridcolor": "white",
            "linecolor": "white",
            "ticks": ""
           }
          },
          "title": {
           "x": 0.05
          },
          "xaxis": {
           "automargin": true,
           "gridcolor": "white",
           "linecolor": "white",
           "ticks": "",
           "title": {
            "standoff": 15
           },
           "zerolinecolor": "white",
           "zerolinewidth": 2
          },
          "yaxis": {
           "automargin": true,
           "gridcolor": "white",
           "linecolor": "white",
           "ticks": "",
           "title": {
            "standoff": 15
           },
           "zerolinecolor": "white",
           "zerolinewidth": 2
          }
         }
        },
        "xaxis": {
         "anchor": "y",
         "domain": [
          0,
          1
         ],
         "title": {
          "text": "0"
         }
        },
        "yaxis": {
         "anchor": "x",
         "domain": [
          0,
          1
         ],
         "scaleanchor": "x",
         "scaleratio": 1,
         "title": {
          "text": "1"
         }
        }
       }
      }
     },
     "metadata": {},
     "output_type": "display_data"
    }
   ],
   "source": [
    "import plotly.express as px\n",
    "from sklearn.decomposition import PCA\n",
    "from sklearn import datasets\n",
    "from sklearn.preprocessing import StandardScaler\n",
    "\n",
    "plotPCA1 = 0\n",
    "plotPCA2 = 1\n",
    "\n",
    "list_of_desired_species = ['gorilla', 'albigena', 'talapoin', 'badius', 'anubis']\n",
    "\n",
    "\n",
    "\n",
    "df2 = df[df['Species'].isin(list_of_desired_species)]\n",
    "\n",
    "data2 = df2.drop('Species', axis=1)\n",
    "X = data2\n",
    "\n",
    "pca = PCA(n_components=3)\n",
    "components = pca.fit_transform(X)\n",
    "\n",
    "loadings = pca.components_.T * np.sqrt(pca.explained_variance_)\n",
    "components2 = []\n",
    "for i in components:\n",
    "    components2.append([i[plotPCA1], i[plotPCA2]])\n",
    "\n",
    "fig = px.scatter(components2, x=0, y=1, color=df2['Species'])\n",
    "\n",
    "fig.update_yaxes(\n",
    "scaleanchor = \"x\",\n",
    "scaleratio = 1,\n",
    ")\n",
    "\n",
    "for i, feature in enumerate(data2.columns):\n",
    "    fig.add_shape(\n",
    "        type='line',\n",
    "        x0=0, y0=0,\n",
    "        x1=loadings[i, plotPCA1],\n",
    "        y1=loadings[i, plotPCA2]\n",
    "    )\n",
    "    fig.add_annotation(\n",
    "        x=loadings[i, plotPCA1],\n",
    "        y=loadings[i, plotPCA2],\n",
    "        ax=0, ay=0,\n",
    "        xanchor=\"center\",\n",
    "        yanchor=\"bottom\",\n",
    "        text=feature,\n",
    "    )\n",
    "fig.show()"
   ]
  },
  {
   "cell_type": "markdown",
   "metadata": {},
   "source": [
    "### evaluation\n",
    "we can see that with the chosen animals, the clusters are suitably separated. the only point of confusion could be the albigene, which is close to the talapoin."
   ]
  },
  {
   "cell_type": "code",
   "execution_count": 138,
   "metadata": {},
   "outputs": [
    {
     "name": "stderr",
     "output_type": "stream",
     "text": [
      "/var/folders/z7/01ndtdr56pn86m2ys1lwmlnh0000gn/T/ipykernel_41383/752081229.py:4: SettingWithCopyWarning:\n",
      "\n",
      "\n",
      "A value is trying to be set on a copy of a slice from a DataFrame.\n",
      "Try using .loc[row_indexer,col_indexer] = value instead\n",
      "\n",
      "See the caveats in the documentation: https://pandas.pydata.org/pandas-docs/stable/user_guide/indexing.html#returning-a-view-versus-a-copy\n",
      "\n",
      "/var/folders/z7/01ndtdr56pn86m2ys1lwmlnh0000gn/T/ipykernel_41383/752081229.py:5: SettingWithCopyWarning:\n",
      "\n",
      "\n",
      "A value is trying to be set on a copy of a slice from a DataFrame.\n",
      "Try using .loc[row_indexer,col_indexer] = value instead\n",
      "\n",
      "See the caveats in the documentation: https://pandas.pydata.org/pandas-docs/stable/user_guide/indexing.html#returning-a-view-versus-a-copy\n",
      "\n"
     ]
    },
    {
     "data": {
      "text/html": [
       "<div>\n",
       "<style scoped>\n",
       "    .dataframe tbody tr th:only-of-type {\n",
       "        vertical-align: middle;\n",
       "    }\n",
       "\n",
       "    .dataframe tbody tr th {\n",
       "        vertical-align: top;\n",
       "    }\n",
       "\n",
       "    .dataframe thead th {\n",
       "        text-align: right;\n",
       "    }\n",
       "</style>\n",
       "<table border=\"1\" class=\"dataframe\">\n",
       "  <thead>\n",
       "    <tr style=\"text-align: right;\">\n",
       "      <th></th>\n",
       "      <th>0</th>\n",
       "      <th>1</th>\n",
       "      <th>2</th>\n",
       "      <th>3</th>\n",
       "      <th>4</th>\n",
       "      <th>5</th>\n",
       "      <th>6</th>\n",
       "      <th>7</th>\n",
       "      <th>8</th>\n",
       "      <th>9</th>\n",
       "      <th>...</th>\n",
       "      <th>21</th>\n",
       "      <th>22</th>\n",
       "      <th>23</th>\n",
       "      <th>24</th>\n",
       "      <th>25</th>\n",
       "      <th>26</th>\n",
       "      <th>27</th>\n",
       "      <th>28</th>\n",
       "      <th>29</th>\n",
       "      <th>Species</th>\n",
       "    </tr>\n",
       "  </thead>\n",
       "  <tbody>\n",
       "    <tr>\n",
       "      <th>15</th>\n",
       "      <td>155.887844</td>\n",
       "      <td>-82.907261</td>\n",
       "      <td>-5.148445</td>\n",
       "      <td>6.597369</td>\n",
       "      <td>2.731860</td>\n",
       "      <td>-3.810235</td>\n",
       "      <td>-0.819725</td>\n",
       "      <td>0.850604</td>\n",
       "      <td>-0.157577</td>\n",
       "      <td>-0.052748</td>\n",
       "      <td>...</td>\n",
       "      <td>0.029231</td>\n",
       "      <td>1.212677</td>\n",
       "      <td>-0.463466</td>\n",
       "      <td>0.345521</td>\n",
       "      <td>1.120565</td>\n",
       "      <td>-0.359339</td>\n",
       "      <td>0.018604</td>\n",
       "      <td>0.307960</td>\n",
       "      <td>0.268744</td>\n",
       "      <td>4</td>\n",
       "    </tr>\n",
       "    <tr>\n",
       "      <th>16</th>\n",
       "      <td>153.083389</td>\n",
       "      <td>-85.735742</td>\n",
       "      <td>-3.255175</td>\n",
       "      <td>10.349544</td>\n",
       "      <td>6.696116</td>\n",
       "      <td>-4.461611</td>\n",
       "      <td>-1.503843</td>\n",
       "      <td>-1.093252</td>\n",
       "      <td>1.760146</td>\n",
       "      <td>-0.547969</td>\n",
       "      <td>...</td>\n",
       "      <td>0.066467</td>\n",
       "      <td>0.500971</td>\n",
       "      <td>-0.253714</td>\n",
       "      <td>0.401869</td>\n",
       "      <td>-0.303178</td>\n",
       "      <td>0.025247</td>\n",
       "      <td>0.220553</td>\n",
       "      <td>0.155178</td>\n",
       "      <td>0.510207</td>\n",
       "      <td>4</td>\n",
       "    </tr>\n",
       "    <tr>\n",
       "      <th>17</th>\n",
       "      <td>167.552306</td>\n",
       "      <td>-99.653398</td>\n",
       "      <td>-13.551779</td>\n",
       "      <td>1.769345</td>\n",
       "      <td>4.609142</td>\n",
       "      <td>-0.301289</td>\n",
       "      <td>-0.838139</td>\n",
       "      <td>-4.281979</td>\n",
       "      <td>0.254833</td>\n",
       "      <td>-0.316636</td>\n",
       "      <td>...</td>\n",
       "      <td>0.724975</td>\n",
       "      <td>-0.057630</td>\n",
       "      <td>0.754196</td>\n",
       "      <td>-0.394274</td>\n",
       "      <td>0.295847</td>\n",
       "      <td>0.188395</td>\n",
       "      <td>0.044689</td>\n",
       "      <td>-0.401908</td>\n",
       "      <td>-0.134499</td>\n",
       "      <td>4</td>\n",
       "    </tr>\n",
       "    <tr>\n",
       "      <th>18</th>\n",
       "      <td>165.318889</td>\n",
       "      <td>-87.389364</td>\n",
       "      <td>-15.970493</td>\n",
       "      <td>10.783070</td>\n",
       "      <td>2.353209</td>\n",
       "      <td>-0.534187</td>\n",
       "      <td>-2.654530</td>\n",
       "      <td>0.658179</td>\n",
       "      <td>-0.057433</td>\n",
       "      <td>-1.395649</td>\n",
       "      <td>...</td>\n",
       "      <td>0.118089</td>\n",
       "      <td>0.377068</td>\n",
       "      <td>0.280485</td>\n",
       "      <td>-0.785905</td>\n",
       "      <td>1.123303</td>\n",
       "      <td>0.514168</td>\n",
       "      <td>0.273705</td>\n",
       "      <td>-0.031242</td>\n",
       "      <td>0.388325</td>\n",
       "      <td>4</td>\n",
       "    </tr>\n",
       "    <tr>\n",
       "      <th>19</th>\n",
       "      <td>163.951435</td>\n",
       "      <td>-90.264580</td>\n",
       "      <td>-10.711944</td>\n",
       "      <td>4.082730</td>\n",
       "      <td>0.805236</td>\n",
       "      <td>0.212165</td>\n",
       "      <td>-1.540209</td>\n",
       "      <td>-1.276854</td>\n",
       "      <td>-0.320377</td>\n",
       "      <td>-1.350304</td>\n",
       "      <td>...</td>\n",
       "      <td>-0.965179</td>\n",
       "      <td>0.270429</td>\n",
       "      <td>-0.830071</td>\n",
       "      <td>-0.059577</td>\n",
       "      <td>0.975433</td>\n",
       "      <td>0.065369</td>\n",
       "      <td>0.191521</td>\n",
       "      <td>0.117691</td>\n",
       "      <td>0.480637</td>\n",
       "      <td>4</td>\n",
       "    </tr>\n",
       "  </tbody>\n",
       "</table>\n",
       "<p>5 rows × 31 columns</p>\n",
       "</div>"
      ],
      "text/plain": [
       "             0          1          2          3         4         5         6  \\\n",
       "15  155.887844 -82.907261  -5.148445   6.597369  2.731860 -3.810235 -0.819725   \n",
       "16  153.083389 -85.735742  -3.255175  10.349544  6.696116 -4.461611 -1.503843   \n",
       "17  167.552306 -99.653398 -13.551779   1.769345  4.609142 -0.301289 -0.838139   \n",
       "18  165.318889 -87.389364 -15.970493  10.783070  2.353209 -0.534187 -2.654530   \n",
       "19  163.951435 -90.264580 -10.711944   4.082730  0.805236  0.212165 -1.540209   \n",
       "\n",
       "           7         8         9  ...        21        22        23        24  \\\n",
       "15  0.850604 -0.157577 -0.052748  ...  0.029231  1.212677 -0.463466  0.345521   \n",
       "16 -1.093252  1.760146 -0.547969  ...  0.066467  0.500971 -0.253714  0.401869   \n",
       "17 -4.281979  0.254833 -0.316636  ...  0.724975 -0.057630  0.754196 -0.394274   \n",
       "18  0.658179 -0.057433 -1.395649  ...  0.118089  0.377068  0.280485 -0.785905   \n",
       "19 -1.276854 -0.320377 -1.350304  ... -0.965179  0.270429 -0.830071 -0.059577   \n",
       "\n",
       "          25        26        27        28        29  Species  \n",
       "15  1.120565 -0.359339  0.018604  0.307960  0.268744        4  \n",
       "16 -0.303178  0.025247  0.220553  0.155178  0.510207        4  \n",
       "17  0.295847  0.188395  0.044689 -0.401908 -0.134499        4  \n",
       "18  1.123303  0.514168  0.273705 -0.031242  0.388325        4  \n",
       "19  0.975433  0.065369  0.191521  0.117691  0.480637        4  \n",
       "\n",
       "[5 rows x 31 columns]"
      ]
     },
     "execution_count": 138,
     "metadata": {},
     "output_type": "execute_result"
    }
   ],
   "source": [
    "#this piece of code is to enumarate the species in the dataframe, since some algorithms have dificulties with the species names.\n",
    "\n",
    "species_series = df2.Species\n",
    "df2.Species = pd.Categorical(df2.Species)\n",
    "df2.Species = df2.Species.cat.codes\n",
    "df2.head()"
   ]
  },
  {
   "cell_type": "code",
   "execution_count": 139,
   "metadata": {},
   "outputs": [],
   "source": [
    "clustering_data = df2.drop('Species', axis=1)"
   ]
  },
  {
   "cell_type": "markdown",
   "metadata": {},
   "source": [
    "--------"
   ]
  },
  {
   "cell_type": "markdown",
   "metadata": {},
   "source": [
    "# DBscan\n",
    "i chose DBscan, since it is pretty robust to outliers and can dicover weridly shaped clusters. first, i will try to find the best parameters for this algorithm, after which i implement it and evaluate it."
   ]
  },
  {
   "cell_type": "code",
   "execution_count": 140,
   "metadata": {},
   "outputs": [
    {
     "data": {
      "image/png": "[encoded data removed]",
      "text/plain": [
       "<Figure size 360x216 with 1 Axes>"
      ]
     },
     "metadata": {
      "needs_background": "light"
     },
     "output_type": "display_data"
    }
   ],
   "source": [
    "from sklearn.neighbors import NearestNeighbors # importing the library\n",
    "neighb = NearestNeighbors(n_neighbors=2) # creating an object of the NearestNeighbors class\n",
    "nbrs=neighb.fit(clustering_data) # fitting the data to the object\n",
    "distances,indices=nbrs.kneighbors(clustering_data) # finding the nearest neighbours\n",
    "\n",
    "# Sort and plot the distances results\n",
    "distances = np.sort(distances, axis = 0) # sorting the distances\n",
    "distances = distances[:, 1] # taking the second column of the sorted distances\n",
    "plt.rcParams['figure.figsize'] = (5,3) # setting the figure size\n",
    "plt.plot(distances) # plotting the distances\n",
    "plt.show() # showing the plot"
   ]
  },
  {
   "cell_type": "markdown",
   "metadata": {},
   "source": [
    "We can see that the elbow point is at 34, so we will normally use this as our eps values in the db-scan. however, using trial and error, I found that using 50 is a better value."
   ]
  },
  {
   "cell_type": "code",
   "execution_count": 141,
   "metadata": {},
   "outputs": [
    {
     "data": {
      "application/vnd.plotly.v1+json": {
       "config": {
        "plotlyServerURL": "https://plot.ly"
       },
       "data": [
        {
         "hovertemplate": "0=%{x}<br>1=%{y}<br>color=%{marker.color}<extra></extra>",
         "legendgroup": "",
         "marker": {
          "color": [
           0,
           0,
           0,
           0,
           0,
           1,
           1,
           1,
           1,
           0,
           1,
           2,
           2,
           2,
           2,
           2,
           2,
           2,
           2,
           2,
           2,
           -1,
           3,
           3,
           3,
           3,
           3,
           3,
           3,
           -1,
           -1,
           -1,
           -1,
           -1,
           -1,
           -1
          ],
          "coloraxis": "coloraxis",
          "symbol": "circle"
         },
         "mode": "markers",
         "name": "",
         "orientation": "v",
         "showlegend": false,
         "type": "scatter",
         "x": [
          -154.3548114932924,
          -152.0591143459721,
          -165.39844104358275,
          -163.35726251895008,
          -161.96844317870128,
          -179.82101187787262,
          -158.16236313284796,
          -176.54240798229554,
          -175.93968696721473,
          -145.60707500428907,
          -146.6631349092702,
          41.20764248853953,
          42.85666230418667,
          51.37078463648968,
          38.94327863706201,
          36.64629866209996,
          55.643974469190404,
          34.383840192848616,
          39.32122331071956,
          50.175909712979426,
          37.76106304038281,
          64.40909050922471,
          37.85007642129867,
          12.3536284990864,
          3.5560918870449796,
          19.650079575534864,
          10.598256837246208,
          8.420146653302641,
          13.691679257734055,
          2.1159974292389654,
          197.1410198460722,
          208.5619304896542,
          186.1497087446546,
          200.41570191987395,
          193.70985093704311,
          192.93981599278038
         ],
         "xaxis": "x",
         "y": [
          -51.61196249777456,
          -54.58438943718396,
          -68.29575561773589,
          -60.32751979583178,
          -59.43949596667024,
          55.0952638546292,
          61.07887027705865,
          57.31646437039572,
          66.0943239093745,
          -67.78854157483752,
          71.71492445008796,
          -54.46931062389534,
          -62.89938034125865,
          -67.65343751665826,
          -59.958215423959274,
          -60.8723968876065,
          -66.4517474649388,
          -58.12957293839057,
          -63.71578418905017,
          -59.089137302534695,
          -62.3187234323806,
          98.26308161641418,
          89.70962746132027,
          79.62496527124496,
          56.354485223470014,
          71.3524608565543,
          78.6812687548816,
          79.41237392299543,
          60.86424432055941,
          18.380740740797606,
          11.926509995434097,
          21.462178535466073,
          10.688533463071954,
          -8.32839743033382,
          -15.62885345408508,
          13.542304871369227
         ],
         "yaxis": "y"
        }
       ],
       "layout": {
        "coloraxis": {
         "colorbar": {
          "title": {
           "text": "color"
          }
         },
         "colorscale": [
          [
           0,
           "#0d0887"
          ],
          [
           0.1111111111111111,
           "#46039f"
          ],
          [
           0.2222222222222222,
           "#7201a8"
          ],
          [
           0.3333333333333333,
           "#9c179e"
          ],
          [
           0.4444444444444444,
           "#bd3786"
          ],
          [
           0.5555555555555556,
           "#d8576b"
          ],
          [
           0.6666666666666666,
           "#ed7953"
          ],
          [
           0.7777777777777778,
           "#fb9f3a"
          ],
          [
           0.8888888888888888,
           "#fdca26"
          ],
          [
           1,
           "#f0f921"
          ]
         ]
        },
        "legend": {
         "tracegroupgap": 0
        },
        "margin": {
         "t": 60
        },
        "template": {
         "data": {
          "bar": [
           {
            "error_x": {
             "color": "#2a3f5f"
            },
            "error_y": {
             "color": "#2a3f5f"
            },
            "marker": {
             "line": {
              "color": "#E5ECF6",
              "width": 0.5
             },
             "pattern": {
              "fillmode": "overlay",
              "size": 10,
              "solidity": 0.2
             }
            },
            "type": "bar"
           }
          ],
          "barpolar": [
           {
            "marker": {
             "line": {
              "color": "#E5ECF6",
              "width": 0.5
             },
             "pattern": {
              "fillmode": "overlay",
              "size": 10,
              "solidity": 0.2
             }
            },
            "type": "barpolar"
           }
          ],
          "carpet": [
           {
            "aaxis": {
             "endlinecolor": "#2a3f5f",
             "gridcolor": "white",
             "linecolor": "white",
             "minorgridcolor": "white",
             "startlinecolor": "#2a3f5f"
            },
            "baxis": {
             "endlinecolor": "#2a3f5f",
             "gridcolor": "white",
             "linecolor": "white",
             "minorgridcolor": "white",
             "startlinecolor": "#2a3f5f"
            },
            "type": "carpet"
           }
          ],
          "choropleth": [
           {
            "colorbar": {
             "outlinewidth": 0,
             "ticks": ""
            },
            "type": "choropleth"
           }
          ],
          "contour": [
           {
            "colorbar": {
             "outlinewidth": 0,
             "ticks": ""
            },
            "colorscale": [
             [
              0,
              "#0d0887"
             ],
             [
              0.1111111111111111,
              "#46039f"
             ],
             [
              0.2222222222222222,
              "#7201a8"
             ],
             [
              0.3333333333333333,
              "#9c179e"
             ],
             [
              0.4444444444444444,
              "#bd3786"
             ],
             [
              0.5555555555555556,
              "#d8576b"
             ],
             [
              0.6666666666666666,
              "#ed7953"
             ],
             [
              0.7777777777777778,
              "#fb9f3a"
             ],
             [
              0.8888888888888888,
              "#fdca26"
             ],
             [
              1,
              "#f0f921"
             ]
            ],
            "type": "contour"
           }
          ],
          "contourcarpet": [
           {
            "colorbar": {
             "outlinewidth": 0,
             "ticks": ""
            },
            "type": "contourcarpet"
           }
          ],
          "heatmap": [
           {
            "colorbar": {
             "outlinewidth": 0,
             "ticks": ""
            },
            "colorscale": [
             [
              0,
              "#0d0887"
             ],
             [
              0.1111111111111111,
              "#46039f"
             ],
             [
              0.2222222222222222,
              "#7201a8"
             ],
             [
              0.3333333333333333,
              "#9c179e"
             ],
             [
              0.4444444444444444,
              "#bd3786"
             ],
             [
              0.5555555555555556,
              "#d8576b"
             ],
             [
              0.6666666666666666,
              "#ed7953"
             ],
             [
              0.7777777777777778,
              "#fb9f3a"
             ],
             [
              0.8888888888888888,
              "#fdca26"
             ],
             [
              1,
              "#f0f921"
             ]
            ],
            "type": "heatmap"
           }
          ],
          "heatmapgl": [
           {
            "colorbar": {
             "outlinewidth": 0,
             "ticks": ""
            },
            "colorscale": [
             [
              0,
              "#0d0887"
             ],
             [
              0.1111111111111111,
              "#46039f"
             ],
             [
              0.2222222222222222,
              "#7201a8"
             ],
             [
              0.3333333333333333,
              "#9c179e"
             ],
             [
              0.4444444444444444,
              "#bd3786"
             ],
             [
              0.5555555555555556,
              "#d8576b"
             ],
             [
              0.6666666666666666,
              "#ed7953"
             ],
             [
              0.7777777777777778,
              "#fb9f3a"
             ],
             [
              0.8888888888888888,
              "#fdca26"
             ],
             [
              1,
              "#f0f921"
             ]
            ],
            "type": "heatmapgl"
           }
          ],
          "histogram": [
           {
            "marker": {
             "pattern": {
              "fillmode": "overlay",
              "size": 10,
              "solidity": 0.2
             }
            },
            "type": "histogram"
           }
          ],
          "histogram2d": [
           {
            "colorbar": {
             "outlinewidth": 0,
             "ticks": ""
            },
            "colorscale": [
             [
              0,
              "#0d0887"
             ],
             [
              0.1111111111111111,
              "#46039f"
             ],
             [
              0.2222222222222222,
              "#7201a8"
             ],
             [
              0.3333333333333333,
              "#9c179e"
             ],
             [
              0.4444444444444444,
              "#bd3786"
             ],
             [
              0.5555555555555556,
              "#d8576b"
             ],
             [
              0.6666666666666666,
              "#ed7953"
             ],
             [
              0.7777777777777778,
              "#fb9f3a"
             ],
             [
              0.8888888888888888,
              "#fdca26"
             ],
             [
              1,
              "#f0f921"
             ]
            ],
            "type": "histogram2d"
           }
          ],
          "histogram2dcontour": [
           {
            "colorbar": {
             "outlinewidth": 0,
             "ticks": ""
            },
            "colorscale": [
             [
              0,
              "#0d0887"
             ],
             [
              0.1111111111111111,
              "#46039f"
             ],
             [
              0.2222222222222222,
              "#7201a8"
             ],
             [
              0.3333333333333333,
              "#9c179e"
             ],
             [
              0.4444444444444444,
              "#bd3786"
             ],
             [
              0.5555555555555556,
              "#d8576b"
             ],
             [
              0.6666666666666666,
              "#ed7953"
             ],
             [
              0.7777777777777778,
              "#fb9f3a"
             ],
             [
              0.8888888888888888,
              "#fdca26"
             ],
             [
              1,
              "#f0f921"
             ]
            ],
            "type": "histogram2dcontour"
           }
          ],
          "mesh3d": [
           {
            "colorbar": {
             "outlinewidth": 0,
             "ticks": ""
            },
            "type": "mesh3d"
           }
          ],
          "parcoords": [
           {
            "line": {
             "colorbar": {
              "outlinewidth": 0,
              "ticks": ""
             }
            },
            "type": "parcoords"
           }
          ],
          "pie": [
           {
            "automargin": true,
            "type": "pie"
           }
          ],
          "scatter": [
           {
            "marker": {
             "colorbar": {
              "outlinewidth": 0,
              "ticks": ""
             }
            },
            "type": "scatter"
           }
          ],
          "scatter3d": [
           {
            "line": {
             "colorbar": {
              "outlinewidth": 0,
              "ticks": ""
             }
            },
            "marker": {
             "colorbar": {
              "outlinewidth": 0,
              "ticks": ""
             }
            },
            "type": "scatter3d"
           }
          ],
          "scattercarpet": [
           {
            "marker": {
             "colorbar": {
              "outlinewidth": 0,
              "ticks": ""
             }
            },
            "type": "scattercarpet"
           }
          ],
          "scattergeo": [
           {
            "marker": {
             "colorbar": {
              "outlinewidth": 0,
              "ticks": ""
             }
            },
            "type": "scattergeo"
           }
          ],
          "scattergl": [
           {
            "marker": {
             "colorbar": {
              "outlinewidth": 0,
              "ticks": ""
             }
            },
            "type": "scattergl"
           }
          ],
          "scattermapbox": [
           {
            "marker": {
             "colorbar": {
              "outlinewidth": 0,
              "ticks": ""
             }
            },
            "type": "scattermapbox"
           }
          ],
          "scatterpolar": [
           {
            "marker": {
             "colorbar": {
              "outlinewidth": 0,
              "ticks": ""
             }
            },
            "type": "scatterpolar"
           }
          ],
          "scatterpolargl": [
           {
            "marker": {
             "colorbar": {
              "outlinewidth": 0,
              "ticks": ""
             }
            },
            "type": "scatterpolargl"
           }
          ],
          "scatterternary": [
           {
            "marker": {
             "colorbar": {
              "outlinewidth": 0,
              "ticks": ""
             }
            },
            "type": "scatterternary"
           }
          ],
          "surface": [
           {
            "colorbar": {
             "outlinewidth": 0,
             "ticks": ""
            },
            "colorscale": [
             [
              0,
              "#0d0887"
             ],
             [
              0.1111111111111111,
              "#46039f"
             ],
             [
              0.2222222222222222,
              "#7201a8"
             ],
             [
              0.3333333333333333,
              "#9c179e"
             ],
             [
              0.4444444444444444,
              "#bd3786"
             ],
             [
              0.5555555555555556,
              "#d8576b"
             ],
             [
              0.6666666666666666,
              "#ed7953"
             ],
             [
              0.7777777777777778,
              "#fb9f3a"
             ],
             [
              0.8888888888888888,
              "#fdca26"
             ],
             [
              1,
              "#f0f921"
             ]
            ],
            "type": "surface"
           }
          ],
          "table": [
           {
            "cells": {
             "fill": {
              "color": "#EBF0F8"
             },
             "line": {
              "color": "white"
             }
            },
            "header": {
             "fill": {
              "color": "#C8D4E3"
             },
             "line": {
              "color": "white"
             }
            },
            "type": "table"
           }
          ]
         },
         "layout": {
          "annotationdefaults": {
           "arrowcolor": "#2a3f5f",
           "arrowhead": 0,
           "arrowwidth": 1
          },
          "autotypenumbers": "strict",
          "coloraxis": {
           "colorbar": {
            "outlinewidth": 0,
            "ticks": ""
           }
          },
          "colorscale": {
           "diverging": [
            [
             0,
             "#8e0152"
            ],
            [
             0.1,
             "#c51b7d"
            ],
            [
             0.2,
             "#de77ae"
            ],
            [
             0.3,
             "#f1b6da"
            ],
            [
             0.4,
             "#fde0ef"
            ],
            [
             0.5,
             "#f7f7f7"
            ],
            [
             0.6,
             "#e6f5d0"
            ],
            [
             0.7,
             "#b8e186"
            ],
            [
             0.8,
             "#7fbc41"
            ],
            [
             0.9,
             "#4d9221"
            ],
            [
             1,
             "#276419"
            ]
           ],
           "sequential": [
            [
             0,
             "#0d0887"
            ],
            [
             0.1111111111111111,
             "#46039f"
            ],
            [
             0.2222222222222222,
             "#7201a8"
            ],
            [
             0.3333333333333333,
             "#9c179e"
            ],
            [
             0.4444444444444444,
             "#bd3786"
            ],
            [
             0.5555555555555556,
             "#d8576b"
            ],
            [
             0.6666666666666666,
             "#ed7953"
            ],
            [
             0.7777777777777778,
             "#fb9f3a"
            ],
            [
             0.8888888888888888,
             "#fdca26"
            ],
            [
             1,
             "#f0f921"
            ]
           ],
           "sequentialminus": [
            [
             0,
             "#0d0887"
            ],
            [
             0.1111111111111111,
             "#46039f"
            ],
            [
             0.2222222222222222,
             "#7201a8"
            ],
            [
             0.3333333333333333,
             "#9c179e"
            ],
            [
             0.4444444444444444,
             "#bd3786"
            ],
            [
             0.5555555555555556,
             "#d8576b"
            ],
            [
             0.6666666666666666,
             "#ed7953"
            ],
            [
             0.7777777777777778,
             "#fb9f3a"
            ],
            [
             0.8888888888888888,
             "#fdca26"
            ],
            [
             1,
             "#f0f921"
            ]
           ]
          },
          "colorway": [
           "#636efa",
           "#EF553B",
           "#00cc96",
           "#ab63fa",
           "#FFA15A",
           "#19d3f3",
           "#FF6692",
           "#B6E880",
           "#FF97FF",
           "#FECB52"
          ],
          "font": {
           "color": "#2a3f5f"
          },
          "geo": {
           "bgcolor": "white",
           "lakecolor": "white",
           "landcolor": "#E5ECF6",
           "showlakes": true,
           "showland": true,
           "subunitcolor": "white"
          },
          "hoverlabel": {
           "align": "left"
          },
          "hovermode": "closest",
          "mapbox": {
           "style": "light"
          },
          "paper_bgcolor": "white",
          "plot_bgcolor": "#E5ECF6",
          "polar": {
           "angularaxis": {
            "gridcolor": "white",
            "linecolor": "white",
            "ticks": ""
           },
           "bgcolor": "#E5ECF6",
           "radialaxis": {
            "gridcolor": "white",
            "linecolor": "white",
            "ticks": ""
           }
          },
          "scene": {
           "xaxis": {
            "backgroundcolor": "#E5ECF6",
            "gridcolor": "white",
            "gridwidth": 2,
            "linecolor": "white",
            "showbackground": true,
            "ticks": "",
            "zerolinecolor": "white"
           },
           "yaxis": {
            "backgroundcolor": "#E5ECF6",
            "gridcolor": "white",
            "gridwidth": 2,
            "linecolor": "white",
            "showbackground": true,
            "ticks": "",
            "zerolinecolor": "white"
           },
           "zaxis": {
            "backgroundcolor": "#E5ECF6",
            "gridcolor": "white",
            "gridwidth": 2,
            "linecolor": "white",
            "showbackground": true,
            "ticks": "",
            "zerolinecolor": "white"
           }
          },
          "shapedefaults": {
           "line": {
            "color": "#2a3f5f"
           }
          },
          "ternary": {
           "aaxis": {
            "gridcolor": "white",
            "linecolor": "white",
            "ticks": ""
           },
           "baxis": {
            "gridcolor": "white",
            "linecolor": "white",
            "ticks": ""
           },
           "bgcolor": "#E5ECF6",
           "caxis": {
            "gridcolor": "white",
            "linecolor": "white",
            "ticks": ""
           }
          },
          "title": {
           "x": 0.05
          },
          "xaxis": {
           "automargin": true,
           "gridcolor": "white",
           "linecolor": "white",
           "ticks": "",
           "title": {
            "standoff": 15
           },
           "zerolinecolor": "white",
           "zerolinewidth": 2
          },
          "yaxis": {
           "automargin": true,
           "gridcolor": "white",
           "linecolor": "white",
           "ticks": "",
           "title": {
            "standoff": 15
           },
           "zerolinecolor": "white",
           "zerolinewidth": 2
          }
         }
        },
        "xaxis": {
         "anchor": "y",
         "domain": [
          0,
          1
         ],
         "title": {
          "text": "0"
         }
        },
        "yaxis": {
         "anchor": "x",
         "domain": [
          0,
          1
         ],
         "title": {
          "text": "1"
         }
        }
       }
      }
     },
     "metadata": {},
     "output_type": "display_data"
    },
    {
     "data": {
      "application/vnd.plotly.v1+json": {
       "config": {
        "plotlyServerURL": "https://plot.ly"
       },
       "data": [
        {
         "hovertemplate": "color=talapoin<br>0=%{x}<br>1=%{y}<extra></extra>",
         "legendgroup": "talapoin",
         "marker": {
          "color": "#636efa",
          "symbol": "circle"
         },
         "mode": "markers",
         "name": "talapoin",
         "orientation": "v",
         "showlegend": true,
         "type": "scatter",
         "x": [
          -154.3548114932924,
          -152.0591143459721,
          -165.39844104358275,
          -163.35726251895008,
          -161.96844317870128
         ],
         "xaxis": "x",
         "y": [
          -51.61196249777456,
          -54.58438943718396,
          -68.29575561773589,
          -60.32751979583178,
          -59.43949596667024
         ],
         "yaxis": "y"
        },
        {
         "hovertemplate": "color=albigena<br>0=%{x}<br>1=%{y}<extra></extra>",
         "legendgroup": "albigena",
         "marker": {
          "color": "#EF553B",
          "symbol": "circle"
         },
         "mode": "markers",
         "name": "albigena",
         "orientation": "v",
         "showlegend": true,
         "type": "scatter",
         "x": [
          -179.82101187787262,
          -158.16236313284796,
          -176.54240798229554,
          -175.93968696721473,
          -145.60707500428907,
          -146.6631349092702
         ],
         "xaxis": "x",
         "y": [
          55.0952638546292,
          61.07887027705865,
          57.31646437039572,
          66.0943239093745,
          -67.78854157483752,
          71.71492445008796
         ],
         "yaxis": "y"
        },
        {
         "hovertemplate": "color=badius<br>0=%{x}<br>1=%{y}<extra></extra>",
         "legendgroup": "badius",
         "marker": {
          "color": "#00cc96",
          "symbol": "circle"
         },
         "mode": "markers",
         "name": "badius",
         "orientation": "v",
         "showlegend": true,
         "type": "scatter",
         "x": [
          41.20764248853953,
          42.85666230418667,
          51.37078463648968,
          38.94327863706201,
          36.64629866209996,
          55.643974469190404,
          34.383840192848616,
          39.32122331071956,
          50.175909712979426,
          37.76106304038281
         ],
         "xaxis": "x",
         "y": [
          -54.46931062389534,
          -62.89938034125865,
          -67.65343751665826,
          -59.958215423959274,
          -60.8723968876065,
          -66.4517474649388,
          -58.12957293839057,
          -63.71578418905017,
          -59.089137302534695,
          -62.3187234323806
         ],
         "yaxis": "y"
        },
        {
         "hovertemplate": "color=anubis<br>0=%{x}<br>1=%{y}<extra></extra>",
         "legendgroup": "anubis",
         "marker": {
          "color": "#ab63fa",
          "symbol": "circle"
         },
         "mode": "markers",
         "name": "anubis",
         "orientation": "v",
         "showlegend": true,
         "type": "scatter",
         "x": [
          64.40909050922471,
          37.85007642129867,
          12.3536284990864,
          3.5560918870449796,
          19.650079575534864,
          10.598256837246208,
          8.420146653302641,
          13.691679257734055,
          2.1159974292389654
         ],
         "xaxis": "x",
         "y": [
          98.26308161641418,
          89.70962746132027,
          79.62496527124496,
          56.354485223470014,
          71.3524608565543,
          78.6812687548816,
          79.41237392299543,
          60.86424432055941,
          18.380740740797606
         ],
         "yaxis": "y"
        },
        {
         "hovertemplate": "color=gorilla<br>0=%{x}<br>1=%{y}<extra></extra>",
         "legendgroup": "gorilla",
         "marker": {
          "color": "#FFA15A",
          "symbol": "circle"
         },
         "mode": "markers",
         "name": "gorilla",
         "orientation": "v",
         "showlegend": true,
         "type": "scatter",
         "x": [
          197.1410198460722,
          208.5619304896542,
          186.1497087446546,
          200.41570191987395,
          193.70985093704311,
          192.93981599278038
         ],
         "xaxis": "x",
         "y": [
          11.926509995434097,
          21.462178535466073,
          10.688533463071954,
          -8.32839743033382,
          -15.62885345408508,
          13.542304871369227
         ],
         "yaxis": "y"
        }
       ],
       "layout": {
        "legend": {
         "title": {
          "text": "color"
         },
         "tracegroupgap": 0
        },
        "margin": {
         "t": 60
        },
        "template": {
         "data": {
          "bar": [
           {
            "error_x": {
             "color": "#2a3f5f"
            },
            "error_y": {
             "color": "#2a3f5f"
            },
            "marker": {
             "line": {
              "color": "#E5ECF6",
              "width": 0.5
             },
             "pattern": {
              "fillmode": "overlay",
              "size": 10,
              "solidity": 0.2
             }
            },
            "type": "bar"
           }
          ],
          "barpolar": [
           {
            "marker": {
             "line": {
              "color": "#E5ECF6",
              "width": 0.5
             },
             "pattern": {
              "fillmode": "overlay",
              "size": 10,
              "solidity": 0.2
             }
            },
            "type": "barpolar"
           }
          ],
          "carpet": [
           {
            "aaxis": {
             "endlinecolor": "#2a3f5f",
             "gridcolor": "white",
             "linecolor": "white",
             "minorgridcolor": "white",
             "startlinecolor": "#2a3f5f"
            },
            "baxis": {
             "endlinecolor": "#2a3f5f",
             "gridcolor": "white",
             "linecolor": "white",
             "minorgridcolor": "white",
             "startlinecolor": "#2a3f5f"
            },
            "type": "carpet"
           }
          ],
          "choropleth": [
           {
            "colorbar": {
             "outlinewidth": 0,
             "ticks": ""
            },
            "type": "choropleth"
           }
          ],
          "contour": [
           {
            "colorbar": {
             "outlinewidth": 0,
             "ticks": ""
            },
            "colorscale": [
             [
              0,
              "#0d0887"
             ],
             [
              0.1111111111111111,
              "#46039f"
             ],
             [
              0.2222222222222222,
              "#7201a8"
             ],
             [
              0.3333333333333333,
              "#9c179e"
             ],
             [
              0.4444444444444444,
              "#bd3786"
             ],
             [
              0.5555555555555556,
              "#d8576b"
             ],
             [
              0.6666666666666666,
              "#ed7953"
             ],
             [
              0.7777777777777778,
              "#fb9f3a"
             ],
             [
              0.8888888888888888,
              "#fdca26"
             ],
             [
              1,
              "#f0f921"
             ]
            ],
            "type": "contour"
           }
          ],
          "contourcarpet": [
           {
            "colorbar": {
             "outlinewidth": 0,
             "ticks": ""
            },
            "type": "contourcarpet"
           }
          ],
          "heatmap": [
           {
            "colorbar": {
             "outlinewidth": 0,
             "ticks": ""
            },
            "colorscale": [
             [
              0,
              "#0d0887"
             ],
             [
              0.1111111111111111,
              "#46039f"
             ],
             [
              0.2222222222222222,
              "#7201a8"
             ],
             [
              0.3333333333333333,
              "#9c179e"
             ],
             [
              0.4444444444444444,
              "#bd3786"
             ],
             [
              0.5555555555555556,
              "#d8576b"
             ],
             [
              0.6666666666666666,
              "#ed7953"
             ],
             [
              0.7777777777777778,
              "#fb9f3a"
             ],
             [
              0.8888888888888888,
              "#fdca26"
             ],
             [
              1,
              "#f0f921"
             ]
            ],
            "type": "heatmap"
           }
          ],
          "heatmapgl": [
           {
            "colorbar": {
             "outlinewidth": 0,
             "ticks": ""
            },
            "colorscale": [
             [
              0,
              "#0d0887"
             ],
             [
              0.1111111111111111,
              "#46039f"
             ],
             [
              0.2222222222222222,
              "#7201a8"
             ],
             [
              0.3333333333333333,
              "#9c179e"
             ],
             [
              0.4444444444444444,
              "#bd3786"
             ],
             [
              0.5555555555555556,
              "#d8576b"
             ],
             [
              0.6666666666666666,
              "#ed7953"
             ],
             [
              0.7777777777777778,
              "#fb9f3a"
             ],
             [
              0.8888888888888888,
              "#fdca26"
             ],
             [
              1,
              "#f0f921"
             ]
            ],
            "type": "heatmapgl"
           }
          ],
          "histogram": [
           {
            "marker": {
             "pattern": {
              "fillmode": "overlay",
              "size": 10,
              "solidity": 0.2
             }
            },
            "type": "histogram"
           }
          ],
          "histogram2d": [
           {
            "colorbar": {
             "outlinewidth": 0,
             "ticks": ""
            },
            "colorscale": [
             [
              0,
              "#0d0887"
             ],
             [
              0.1111111111111111,
              "#46039f"
             ],
             [
              0.2222222222222222,
              "#7201a8"
             ],
             [
              0.3333333333333333,
              "#9c179e"
             ],
             [
              0.4444444444444444,
              "#bd3786"
             ],
             [
              0.5555555555555556,
              "#d8576b"
             ],
             [
              0.6666666666666666,
              "#ed7953"
             ],
             [
              0.7777777777777778,
              "#fb9f3a"
             ],
             [
              0.8888888888888888,
              "#fdca26"
             ],
             [
              1,
              "#f0f921"
             ]
            ],
            "type": "histogram2d"
           }
          ],
          "histogram2dcontour": [
           {
            "colorbar": {
             "outlinewidth": 0,
             "ticks": ""
            },
            "colorscale": [
             [
              0,
              "#0d0887"
             ],
             [
              0.1111111111111111,
              "#46039f"
             ],
             [
              0.2222222222222222,
              "#7201a8"
             ],
             [
              0.3333333333333333,
              "#9c179e"
             ],
             [
              0.4444444444444444,
              "#bd3786"
             ],
             [
              0.5555555555555556,
              "#d8576b"
             ],
             [
              0.6666666666666666,
              "#ed7953"
             ],
             [
              0.7777777777777778,
              "#fb9f3a"
             ],
             [
              0.8888888888888888,
              "#fdca26"
             ],
             [
              1,
              "#f0f921"
             ]
            ],
            "type": "histogram2dcontour"
           }
          ],
          "mesh3d": [
           {
            "colorbar": {
             "outlinewidth": 0,
             "ticks": ""
            },
            "type": "mesh3d"
           }
          ],
          "parcoords": [
           {
            "line": {
             "colorbar": {
              "outlinewidth": 0,
              "ticks": ""
             }
            },
            "type": "parcoords"
           }
          ],
          "pie": [
           {
            "automargin": true,
            "type": "pie"
           }
          ],
          "scatter": [
           {
            "marker": {
             "colorbar": {
              "outlinewidth": 0,
              "ticks": ""
             }
            },
            "type": "scatter"
           }
          ],
          "scatter3d": [
           {
            "line": {
             "colorbar": {
              "outlinewidth": 0,
              "ticks": ""
             }
            },
            "marker": {
             "colorbar": {
              "outlinewidth": 0,
              "ticks": ""
             }
            },
            "type": "scatter3d"
           }
          ],
          "scattercarpet": [
           {
            "marker": {
             "colorbar": {
              "outlinewidth": 0,
              "ticks": ""
             }
            },
            "type": "scattercarpet"
           }
          ],
          "scattergeo": [
           {
            "marker": {
             "colorbar": {
              "outlinewidth": 0,
              "ticks": ""
             }
            },
            "type": "scattergeo"
           }
          ],
          "scattergl": [
           {
            "marker": {
             "colorbar": {
              "outlinewidth": 0,
              "ticks": ""
             }
            },
            "type": "scattergl"
           }
          ],
          "scattermapbox": [
           {
            "marker": {
             "colorbar": {
              "outlinewidth": 0,
              "ticks": ""
             }
            },
            "type": "scattermapbox"
           }
          ],
          "scatterpolar": [
           {
            "marker": {
             "colorbar": {
              "outlinewidth": 0,
              "ticks": ""
             }
            },
            "type": "scatterpolar"
           }
          ],
          "scatterpolargl": [
           {
            "marker": {
             "colorbar": {
              "outlinewidth": 0,
              "ticks": ""
             }
            },
            "type": "scatterpolargl"
           }
          ],
          "scatterternary": [
           {
            "marker": {
             "colorbar": {
              "outlinewidth": 0,
              "ticks": ""
             }
            },
            "type": "scatterternary"
           }
          ],
          "surface": [
           {
            "colorbar": {
             "outlinewidth": 0,
             "ticks": ""
            },
            "colorscale": [
             [
              0,
              "#0d0887"
             ],
             [
              0.1111111111111111,
              "#46039f"
             ],
             [
              0.2222222222222222,
              "#7201a8"
             ],
             [
              0.3333333333333333,
              "#9c179e"
             ],
             [
              0.4444444444444444,
              "#bd3786"
             ],
             [
              0.5555555555555556,
              "#d8576b"
             ],
             [
              0.6666666666666666,
              "#ed7953"
             ],
             [
              0.7777777777777778,
              "#fb9f3a"
             ],
             [
              0.8888888888888888,
              "#fdca26"
             ],
             [
              1,
              "#f0f921"
             ]
            ],
            "type": "surface"
           }
          ],
          "table": [
           {
            "cells": {
             "fill": {
              "color": "#EBF0F8"
             },
             "line": {
              "color": "white"
             }
            },
            "header": {
             "fill": {
              "color": "#C8D4E3"
             },
             "line": {
              "color": "white"
             }
            },
            "type": "table"
           }
          ]
         },
         "layout": {
          "annotationdefaults": {
           "arrowcolor": "#2a3f5f",
           "arrowhead": 0,
           "arrowwidth": 1
          },
          "autotypenumbers": "strict",
          "coloraxis": {
           "colorbar": {
            "outlinewidth": 0,
            "ticks": ""
           }
          },
          "colorscale": {
           "diverging": [
            [
             0,
             "#8e0152"
            ],
            [
             0.1,
             "#c51b7d"
            ],
            [
             0.2,
             "#de77ae"
            ],
            [
             0.3,
             "#f1b6da"
            ],
            [
             0.4,
             "#fde0ef"
            ],
            [
             0.5,
             "#f7f7f7"
            ],
            [
             0.6,
             "#e6f5d0"
            ],
            [
             0.7,
             "#b8e186"
            ],
            [
             0.8,
             "#7fbc41"
            ],
            [
             0.9,
             "#4d9221"
            ],
            [
             1,
             "#276419"
            ]
           ],
           "sequential": [
            [
             0,
             "#0d0887"
            ],
            [
             0.1111111111111111,
             "#46039f"
            ],
            [
             0.2222222222222222,
             "#7201a8"
            ],
            [
             0.3333333333333333,
             "#9c179e"
            ],
            [
             0.4444444444444444,
             "#bd3786"
            ],
            [
             0.5555555555555556,
             "#d8576b"
            ],
            [
             0.6666666666666666,
             "#ed7953"
            ],
            [
             0.7777777777777778,
             "#fb9f3a"
            ],
            [
             0.8888888888888888,
             "#fdca26"
            ],
            [
             1,
             "#f0f921"
            ]
           ],
           "sequentialminus": [
            [
             0,
             "#0d0887"
            ],
            [
             0.1111111111111111,
             "#46039f"
            ],
            [
             0.2222222222222222,
             "#7201a8"
            ],
            [
             0.3333333333333333,
             "#9c179e"
            ],
            [
             0.4444444444444444,
             "#bd3786"
            ],
            [
             0.5555555555555556,
             "#d8576b"
            ],
            [
             0.6666666666666666,
             "#ed7953"
            ],
            [
             0.7777777777777778,
             "#fb9f3a"
            ],
            [
             0.8888888888888888,
             "#fdca26"
            ],
            [
             1,
             "#f0f921"
            ]
           ]
          },
          "colorway": [
           "#636efa",
           "#EF553B",
           "#00cc96",
           "#ab63fa",
           "#FFA15A",
           "#19d3f3",
           "#FF6692",
           "#B6E880",
           "#FF97FF",
           "#FECB52"
          ],
          "font": {
           "color": "#2a3f5f"
          },
          "geo": {
           "bgcolor": "white",
           "lakecolor": "white",
           "landcolor": "#E5ECF6",
           "showlakes": true,
           "showland": true,
           "subunitcolor": "white"
          },
          "hoverlabel": {
           "align": "left"
          },
          "hovermode": "closest",
          "mapbox": {
           "style": "light"
          },
          "paper_bgcolor": "white",
          "plot_bgcolor": "#E5ECF6",
          "polar": {
           "angularaxis": {
            "gridcolor": "white",
            "linecolor": "white",
            "ticks": ""
           },
           "bgcolor": "#E5ECF6",
           "radialaxis": {
            "gridcolor": "white",
            "linecolor": "white",
            "ticks": ""
           }
          },
          "scene": {
           "xaxis": {
            "backgroundcolor": "#E5ECF6",
            "gridcolor": "white",
            "gridwidth": 2,
            "linecolor": "white",
            "showbackground": true,
            "ticks": "",
            "zerolinecolor": "white"
           },
           "yaxis": {
            "backgroundcolor": "#E5ECF6",
            "gridcolor": "white",
            "gridwidth": 2,
            "linecolor": "white",
            "showbackground": true,
            "ticks": "",
            "zerolinecolor": "white"
           },
           "zaxis": {
            "backgroundcolor": "#E5ECF6",
            "gridcolor": "white",
            "gridwidth": 2,
            "linecolor": "white",
            "showbackground": true,
            "ticks": "",
            "zerolinecolor": "white"
           }
          },
          "shapedefaults": {
           "line": {
            "color": "#2a3f5f"
           }
          },
          "ternary": {
           "aaxis": {
            "gridcolor": "white",
            "linecolor": "white",
            "ticks": ""
           },
           "baxis": {
            "gridcolor": "white",
            "linecolor": "white",
            "ticks": ""
           },
           "bgcolor": "#E5ECF6",
           "caxis": {
            "gridcolor": "white",
            "linecolor": "white",
            "ticks": ""
           }
          },
          "title": {
           "x": 0.05
          },
          "xaxis": {
           "automargin": true,
           "gridcolor": "white",
           "linecolor": "white",
           "ticks": "",
           "title": {
            "standoff": 15
           },
           "zerolinecolor": "white",
           "zerolinewidth": 2
          },
          "yaxis": {
           "automargin": true,
           "gridcolor": "white",
           "linecolor": "white",
           "ticks": "",
           "title": {
            "standoff": 15
           },
           "zerolinecolor": "white",
           "zerolinewidth": 2
          }
         }
        },
        "xaxis": {
         "anchor": "y",
         "domain": [
          0,
          1
         ],
         "title": {
          "text": "0"
         }
        },
        "yaxis": {
         "anchor": "x",
         "domain": [
          0,
          1
         ],
         "title": {
          "text": "1"
         }
        }
       }
      }
     },
     "metadata": {},
     "output_type": "display_data"
    }
   ],
   "source": [
    "'''DBscan'''\n",
    "from sklearn.cluster import DBSCAN\n",
    "dbscan = DBSCAN(eps=50, min_samples=5).fit(clustering_data)\n",
    "identified_clusters = dbscan.fit_predict(clustering_data)\n",
    "labels = dbscan.labels_\n",
    "\n",
    "data_with_clusters = clustering_data.copy()\n",
    "data_with_clusters['Clusters'] = identified_clusters\n",
    "\n",
    "plotPCA1 = 0\n",
    "plotPCA2 = 1\n",
    "\n",
    "pca = PCA(n_components=3)\n",
    "components = pca.fit_transform(X)\n",
    "\n",
    "loadings = pca.components_.T * np.sqrt(pca.explained_variance_)\n",
    "components2 = []\n",
    "for i in components:\n",
    "    components2.append([i[plotPCA1], i[plotPCA2]])\n",
    "\n",
    "fig = px.scatter(components2, x=0, y=1, color=data_with_clusters['Clusters'])\n",
    "fig.show()\n",
    "\n",
    "fig = px.scatter(components, x=0, y=1, color=species_series)\n",
    "fig.show()"
   ]
  },
  {
   "cell_type": "markdown",
   "metadata": {},
   "source": [
    "### evaluation of the dbscan\n",
    "we can see that the clusters are well separated, however, the DB-scan makes 3 clustering mistakes. it assumes the  outliers of anubis belong to the gorilla cluster, which is not right. it also assumes the albigena outlier belongs to the talapoin, which is predictable, since this outlier seem to way better fit in the talapoin cluster."
   ]
  },
  {
   "cell_type": "markdown",
   "metadata": {},
   "source": [
    "__________"
   ]
  },
  {
   "cell_type": "markdown",
   "metadata": {},
   "source": [
    "# Kmeans Clustering\n",
    "i chose to use the kmeans clustering algorithm, since it is an model perfectly suitable for finding groups in a dataset, with unlabeled data. the downside of k-means clustering is that it has trouble clustering data where clusters are of varying sizes and density, which is not the case in our dataset."
   ]
  },
  {
   "cell_type": "code",
   "execution_count": 87,
   "metadata": {},
   "outputs": [],
   "source": [
    "kmeans = KMeans(5)\n",
    "kmeans.fit(clustering_data)\n",
    "\n",
    "identified_clusters = kmeans.fit_predict(clustering_data)\n",
    "identified_clusters\n",
    "\n",
    "data_with_clusters = clustering_data.copy()\n",
    "data_with_clusters['Clusters'] = identified_clusters\n",
    "\n"
   ]
  },
  {
   "cell_type": "code",
   "execution_count": 84,
   "metadata": {},
   "outputs": [
    {
     "data": {
      "application/vnd.plotly.v1+json": {
       "config": {
        "plotlyServerURL": "https://plot.ly"
       },
       "data": [
        {
         "hovertemplate": "0=%{x}<br>1=%{y}<br>color=%{marker.color}<extra></extra>",
         "legendgroup": "",
         "marker": {
          "color": [
           1,
           1,
           1,
           1,
           1,
           4,
           4,
           4,
           4,
           1,
           4,
           2,
           2,
           2,
           2,
           2,
           2,
           2,
           2,
           2,
           2,
           3,
           3,
           3,
           3,
           3,
           3,
           3,
           3,
           2,
           0,
           0,
           0,
           0,
           0,
           0
          ],
          "coloraxis": "coloraxis",
          "symbol": "circle"
         },
         "mode": "markers",
         "name": "",
         "orientation": "v",
         "showlegend": false,
         "type": "scatter",
         "x": [
          -154.3548114932924,
          -152.0591143459721,
          -165.39844104358275,
          -163.35726251895008,
          -161.96844317870128,
          -179.82101187787262,
          -158.16236313284796,
          -176.54240798229554,
          -175.93968696721473,
          -145.60707500428907,
          -146.6631349092702,
          41.20764248853953,
          42.85666230418667,
          51.37078463648968,
          38.94327863706201,
          36.64629866209996,
          55.643974469190404,
          34.383840192848616,
          39.32122331071956,
          50.175909712979426,
          37.76106304038281,
          64.40909050922471,
          37.85007642129867,
          12.3536284990864,
          3.5560918870449796,
          19.650079575534864,
          10.598256837246208,
          8.420146653302641,
          13.691679257734055,
          2.1159974292389654,
          197.1410198460722,
          208.5619304896542,
          186.1497087446546,
          200.41570191987395,
          193.70985093704311,
          192.93981599278038
         ],
         "xaxis": "x",
         "y": [
          -51.61196249777456,
          -54.58438943718396,
          -68.29575561773589,
          -60.32751979583178,
          -59.43949596667024,
          55.0952638546292,
          61.07887027705865,
          57.31646437039572,
          66.0943239093745,
          -67.78854157483752,
          71.71492445008796,
          -54.46931062389534,
          -62.89938034125865,
          -67.65343751665826,
          -59.958215423959274,
          -60.8723968876065,
          -66.4517474649388,
          -58.12957293839057,
          -63.71578418905017,
          -59.089137302534695,
          -62.3187234323806,
          98.26308161641418,
          89.70962746132027,
          79.62496527124496,
          56.354485223470014,
          71.3524608565543,
          78.6812687548816,
          79.41237392299543,
          60.86424432055941,
          18.380740740797606,
          11.926509995434097,
          21.462178535466073,
          10.688533463071954,
          -8.32839743033382,
          -15.62885345408508,
          13.542304871369227
         ],
         "yaxis": "y"
        }
       ],
       "layout": {
        "coloraxis": {
         "colorbar": {
          "title": {
           "text": "color"
          }
         },
         "colorscale": [
          [
           0,
           "#0d0887"
          ],
          [
           0.1111111111111111,
           "#46039f"
          ],
          [
           0.2222222222222222,
           "#7201a8"
          ],
          [
           0.3333333333333333,
           "#9c179e"
          ],
          [
           0.4444444444444444,
           "#bd3786"
          ],
          [
           0.5555555555555556,
           "#d8576b"
          ],
          [
           0.6666666666666666,
           "#ed7953"
          ],
          [
           0.7777777777777778,
           "#fb9f3a"
          ],
          [
           0.8888888888888888,
           "#fdca26"
          ],
          [
           1,
           "#f0f921"
          ]
         ]
        },
        "legend": {
         "tracegroupgap": 0
        },
        "margin": {
         "t": 60
        },
        "template": {
         "data": {
          "bar": [
           {
            "error_x": {
             "color": "#2a3f5f"
            },
            "error_y": {
             "color": "#2a3f5f"
            },
            "marker": {
             "line": {
              "color": "#E5ECF6",
              "width": 0.5
             },
             "pattern": {
              "fillmode": "overlay",
              "size": 10,
              "solidity": 0.2
             }
            },
            "type": "bar"
           }
          ],
          "barpolar": [
           {
            "marker": {
             "line": {
              "color": "#E5ECF6",
              "width": 0.5
             },
             "pattern": {
              "fillmode": "overlay",
              "size": 10,
              "solidity": 0.2
             }
            },
            "type": "barpolar"
           }
          ],
          "carpet": [
           {
            "aaxis": {
             "endlinecolor": "#2a3f5f",
             "gridcolor": "white",
             "linecolor": "white",
             "minorgridcolor": "white",
             "startlinecolor": "#2a3f5f"
            },
            "baxis": {
             "endlinecolor": "#2a3f5f",
             "gridcolor": "white",
             "linecolor": "white",
             "minorgridcolor": "white",
             "startlinecolor": "#2a3f5f"
            },
            "type": "carpet"
           }
          ],
          "choropleth": [
           {
            "colorbar": {
             "outlinewidth": 0,
             "ticks": ""
            },
            "type": "choropleth"
           }
          ],
          "contour": [
           {
            "colorbar": {
             "outlinewidth": 0,
             "ticks": ""
            },
            "colorscale": [
             [
              0,
              "#0d0887"
             ],
             [
              0.1111111111111111,
              "#46039f"
             ],
             [
              0.2222222222222222,
              "#7201a8"
             ],
             [
              0.3333333333333333,
              "#9c179e"
             ],
             [
              0.4444444444444444,
              "#bd3786"
             ],
             [
              0.5555555555555556,
              "#d8576b"
             ],
             [
              0.6666666666666666,
              "#ed7953"
             ],
             [
              0.7777777777777778,
              "#fb9f3a"
             ],
             [
              0.8888888888888888,
              "#fdca26"
             ],
             [
              1,
              "#f0f921"
             ]
            ],
            "type": "contour"
           }
          ],
          "contourcarpet": [
           {
            "colorbar": {
             "outlinewidth": 0,
             "ticks": ""
            },
            "type": "contourcarpet"
           }
          ],
          "heatmap": [
           {
            "colorbar": {
             "outlinewidth": 0,
             "ticks": ""
            },
            "colorscale": [
             [
              0,
              "#0d0887"
             ],
             [
              0.1111111111111111,
              "#46039f"
             ],
             [
              0.2222222222222222,
              "#7201a8"
             ],
             [
              0.3333333333333333,
              "#9c179e"
             ],
             [
              0.4444444444444444,
              "#bd3786"
             ],
             [
              0.5555555555555556,
              "#d8576b"
             ],
             [
              0.6666666666666666,
              "#ed7953"
             ],
             [
              0.7777777777777778,
              "#fb9f3a"
             ],
             [
              0.8888888888888888,
              "#fdca26"
             ],
             [
              1,
              "#f0f921"
             ]
            ],
            "type": "heatmap"
           }
          ],
          "heatmapgl": [
           {
            "colorbar": {
             "outlinewidth": 0,
             "ticks": ""
            },
            "colorscale": [
             [
              0,
              "#0d0887"
             ],
             [
              0.1111111111111111,
              "#46039f"
             ],
             [
              0.2222222222222222,
              "#7201a8"
             ],
             [
              0.3333333333333333,
              "#9c179e"
             ],
             [
              0.4444444444444444,
              "#bd3786"
             ],
             [
              0.5555555555555556,
              "#d8576b"
             ],
             [
              0.6666666666666666,
              "#ed7953"
             ],
             [
              0.7777777777777778,
              "#fb9f3a"
             ],
             [
              0.8888888888888888,
              "#fdca26"
             ],
             [
              1,
              "#f0f921"
             ]
            ],
            "type": "heatmapgl"
           }
          ],
          "histogram": [
           {
            "marker": {
             "pattern": {
              "fillmode": "overlay",
              "size": 10,
              "solidity": 0.2
             }
            },
            "type": "histogram"
           }
          ],
          "histogram2d": [
           {
            "colorbar": {
             "outlinewidth": 0,
             "ticks": ""
            },
            "colorscale": [
             [
              0,
              "#0d0887"
             ],
             [
              0.1111111111111111,
              "#46039f"
             ],
             [
              0.2222222222222222,
              "#7201a8"
             ],
             [
              0.3333333333333333,
              "#9c179e"
             ],
             [
              0.4444444444444444,
              "#bd3786"
             ],
             [
              0.5555555555555556,
              "#d8576b"
             ],
             [
              0.6666666666666666,
              "#ed7953"
             ],
             [
              0.7777777777777778,
              "#fb9f3a"
             ],
             [
              0.8888888888888888,
              "#fdca26"
             ],
             [
              1,
              "#f0f921"
             ]
            ],
            "type": "histogram2d"
           }
          ],
          "histogram2dcontour": [
           {
            "colorbar": {
             "outlinewidth": 0,
             "ticks": ""
            },
            "colorscale": [
             [
              0,
              "#0d0887"
             ],
             [
              0.1111111111111111,
              "#46039f"
             ],
             [
              0.2222222222222222,
              "#7201a8"
             ],
             [
              0.3333333333333333,
              "#9c179e"
             ],
             [
              0.4444444444444444,
              "#bd3786"
             ],
             [
              0.5555555555555556,
              "#d8576b"
             ],
             [
              0.6666666666666666,
              "#ed7953"
             ],
             [
              0.7777777777777778,
              "#fb9f3a"
             ],
             [
              0.8888888888888888,
              "#fdca26"
             ],
             [
              1,
              "#f0f921"
             ]
            ],
            "type": "histogram2dcontour"
           }
          ],
          "mesh3d": [
           {
            "colorbar": {
             "outlinewidth": 0,
             "ticks": ""
            },
            "type": "mesh3d"
           }
          ],
          "parcoords": [
           {
            "line": {
             "colorbar": {
              "outlinewidth": 0,
              "ticks": ""
             }
            },
            "type": "parcoords"
           }
          ],
          "pie": [
           {
            "automargin": true,
            "type": "pie"
           }
          ],
          "scatter": [
           {
            "marker": {
             "colorbar": {
              "outlinewidth": 0,
              "ticks": ""
             }
            },
            "type": "scatter"
           }
          ],
          "scatter3d": [
           {
            "line": {
             "colorbar": {
              "outlinewidth": 0,
              "ticks": ""
             }
            },
            "marker": {
             "colorbar": {
              "outlinewidth": 0,
              "ticks": ""
             }
            },
            "type": "scatter3d"
           }
          ],
          "scattercarpet": [
           {
            "marker": {
             "colorbar": {
              "outlinewidth": 0,
              "ticks": ""
             }
            },
            "type": "scattercarpet"
           }
          ],
          "scattergeo": [
           {
            "marker": {
             "colorbar": {
              "outlinewidth": 0,
              "ticks": ""
             }
            },
            "type": "scattergeo"
           }
          ],
          "scattergl": [
           {
            "marker": {
             "colorbar": {
              "outlinewidth": 0,
              "ticks": ""
             }
            },
            "type": "scattergl"
           }
          ],
          "scattermapbox": [
           {
            "marker": {
             "colorbar": {
              "outlinewidth": 0,
              "ticks": ""
             }
            },
            "type": "scattermapbox"
           }
          ],
          "scatterpolar": [
           {
            "marker": {
             "colorbar": {
              "outlinewidth": 0,
              "ticks": ""
             }
            },
            "type": "scatterpolar"
           }
          ],
          "scatterpolargl": [
           {
            "marker": {
             "colorbar": {
              "outlinewidth": 0,
              "ticks": ""
             }
            },
            "type": "scatterpolargl"
           }
          ],
          "scatterternary": [
           {
            "marker": {
             "colorbar": {
              "outlinewidth": 0,
              "ticks": ""
             }
            },
            "type": "scatterternary"
           }
          ],
          "surface": [
           {
            "colorbar": {
             "outlinewidth": 0,
             "ticks": ""
            },
            "colorscale": [
             [
              0,
              "#0d0887"
             ],
             [
              0.1111111111111111,
              "#46039f"
             ],
             [
              0.2222222222222222,
              "#7201a8"
             ],
             [
              0.3333333333333333,
              "#9c179e"
             ],
             [
              0.4444444444444444,
              "#bd3786"
             ],
             [
              0.5555555555555556,
              "#d8576b"
             ],
             [
              0.6666666666666666,
              "#ed7953"
             ],
             [
              0.7777777777777778,
              "#fb9f3a"
             ],
             [
              0.8888888888888888,
              "#fdca26"
             ],
             [
              1,
              "#f0f921"
             ]
            ],
            "type": "surface"
           }
          ],
          "table": [
           {
            "cells": {
             "fill": {
              "color": "#EBF0F8"
             },
             "line": {
              "color": "white"
             }
            },
            "header": {
             "fill": {
              "color": "#C8D4E3"
             },
             "line": {
              "color": "white"
             }
            },
            "type": "table"
           }
          ]
         },
         "layout": {
          "annotationdefaults": {
           "arrowcolor": "#2a3f5f",
           "arrowhead": 0,
           "arrowwidth": 1
          },
          "autotypenumbers": "strict",
          "coloraxis": {
           "colorbar": {
            "outlinewidth": 0,
            "ticks": ""
           }
          },
          "colorscale": {
           "diverging": [
            [
             0,
             "#8e0152"
            ],
            [
             0.1,
             "#c51b7d"
            ],
            [
             0.2,
             "#de77ae"
            ],
            [
             0.3,
             "#f1b6da"
            ],
            [
             0.4,
             "#fde0ef"
            ],
            [
             0.5,
             "#f7f7f7"
            ],
            [
             0.6,
             "#e6f5d0"
            ],
            [
             0.7,
             "#b8e186"
            ],
            [
             0.8,
             "#7fbc41"
            ],
            [
             0.9,
             "#4d9221"
            ],
            [
             1,
             "#276419"
            ]
           ],
           "sequential": [
            [
             0,
             "#0d0887"
            ],
            [
             0.1111111111111111,
             "#46039f"
            ],
            [
             0.2222222222222222,
             "#7201a8"
            ],
            [
             0.3333333333333333,
             "#9c179e"
            ],
            [
             0.4444444444444444,
             "#bd3786"
            ],
            [
             0.5555555555555556,
             "#d8576b"
            ],
            [
             0.6666666666666666,
             "#ed7953"
            ],
            [
             0.7777777777777778,
             "#fb9f3a"
            ],
            [
             0.8888888888888888,
             "#fdca26"
            ],
            [
             1,
             "#f0f921"
            ]
           ],
           "sequentialminus": [
            [
             0,
             "#0d0887"
            ],
            [
             0.1111111111111111,
             "#46039f"
            ],
            [
             0.2222222222222222,
             "#7201a8"
            ],
            [
             0.3333333333333333,
             "#9c179e"
            ],
            [
             0.4444444444444444,
             "#bd3786"
            ],
            [
             0.5555555555555556,
             "#d8576b"
            ],
            [
             0.6666666666666666,
             "#ed7953"
            ],
            [
             0.7777777777777778,
             "#fb9f3a"
            ],
            [
             0.8888888888888888,
             "#fdca26"
            ],
            [
             1,
             "#f0f921"
            ]
           ]
          },
          "colorway": [
           "#636efa",
           "#EF553B",
           "#00cc96",
           "#ab63fa",
           "#FFA15A",
           "#19d3f3",
           "#FF6692",
           "#B6E880",
           "#FF97FF",
           "#FECB52"
          ],
          "font": {
           "color": "#2a3f5f"
          },
          "geo": {
           "bgcolor": "white",
           "lakecolor": "white",
           "landcolor": "#E5ECF6",
           "showlakes": true,
           "showland": true,
           "subunitcolor": "white"
          },
          "hoverlabel": {
           "align": "left"
          },
          "hovermode": "closest",
          "mapbox": {
           "style": "light"
          },
          "paper_bgcolor": "white",
          "plot_bgcolor": "#E5ECF6",
          "polar": {
           "angularaxis": {
            "gridcolor": "white",
            "linecolor": "white",
            "ticks": ""
           },
           "bgcolor": "#E5ECF6",
           "radialaxis": {
            "gridcolor": "white",
            "linecolor": "white",
            "ticks": ""
           }
          },
          "scene": {
           "xaxis": {
            "backgroundcolor": "#E5ECF6",
            "gridcolor": "white",
            "gridwidth": 2,
            "linecolor": "white",
            "showbackground": true,
            "ticks": "",
            "zerolinecolor": "white"
           },
           "yaxis": {
            "backgroundcolor": "#E5ECF6",
            "gridcolor": "white",
            "gridwidth": 2,
            "linecolor": "white",
            "showbackground": true,
            "ticks": "",
            "zerolinecolor": "white"
           },
           "zaxis": {
            "backgroundcolor": "#E5ECF6",
            "gridcolor": "white",
            "gridwidth": 2,
            "linecolor": "white",
            "showbackground": true,
            "ticks": "",
            "zerolinecolor": "white"
           }
          },
          "shapedefaults": {
           "line": {
            "color": "#2a3f5f"
           }
          },
          "ternary": {
           "aaxis": {
            "gridcolor": "white",
            "linecolor": "white",
            "ticks": ""
           },
           "baxis": {
            "gridcolor": "white",
            "linecolor": "white",
            "ticks": ""
           },
           "bgcolor": "#E5ECF6",
           "caxis": {
            "gridcolor": "white",
            "linecolor": "white",
            "ticks": ""
           }
          },
          "title": {
           "x": 0.05
          },
          "xaxis": {
           "automargin": true,
           "gridcolor": "white",
           "linecolor": "white",
           "ticks": "",
           "title": {
            "standoff": 15
           },
           "zerolinecolor": "white",
           "zerolinewidth": 2
          },
          "yaxis": {
           "automargin": true,
           "gridcolor": "white",
           "linecolor": "white",
           "ticks": "",
           "title": {
            "standoff": 15
           },
           "zerolinecolor": "white",
           "zerolinewidth": 2
          }
         }
        },
        "xaxis": {
         "anchor": "y",
         "domain": [
          0,
          1
         ],
         "title": {
          "text": "0"
         }
        },
        "yaxis": {
         "anchor": "x",
         "domain": [
          0,
          1
         ],
         "title": {
          "text": "1"
         }
        }
       }
      }
     },
     "metadata": {},
     "output_type": "display_data"
    },
    {
     "data": {
      "application/vnd.plotly.v1+json": {
       "config": {
        "plotlyServerURL": "https://plot.ly"
       },
       "data": [
        {
         "hovertemplate": "color=talapoin<br>0=%{x}<br>1=%{y}<extra></extra>",
         "legendgroup": "talapoin",
         "marker": {
          "color": "#636efa",
          "symbol": "circle"
         },
         "mode": "markers",
         "name": "talapoin",
         "orientation": "v",
         "showlegend": true,
         "type": "scatter",
         "x": [
          -154.3548114932924,
          -152.0591143459721,
          -165.39844104358275,
          -163.35726251895008,
          -161.96844317870128
         ],
         "xaxis": "x",
         "y": [
          -51.61196249777456,
          -54.58438943718396,
          -68.29575561773589,
          -60.32751979583178,
          -59.43949596667024
         ],
         "yaxis": "y"
        },
        {
         "hovertemplate": "color=albigena<br>0=%{x}<br>1=%{y}<extra></extra>",
         "legendgroup": "albigena",
         "marker": {
          "color": "#EF553B",
          "symbol": "circle"
         },
         "mode": "markers",
         "name": "albigena",
         "orientation": "v",
         "showlegend": true,
         "type": "scatter",
         "x": [
          -179.82101187787262,
          -158.16236313284796,
          -176.54240798229554,
          -175.93968696721473,
          -145.60707500428907,
          -146.6631349092702
         ],
         "xaxis": "x",
         "y": [
          55.0952638546292,
          61.07887027705865,
          57.31646437039572,
          66.0943239093745,
          -67.78854157483752,
          71.71492445008796
         ],
         "yaxis": "y"
        },
        {
         "hovertemplate": "color=badius<br>0=%{x}<br>1=%{y}<extra></extra>",
         "legendgroup": "badius",
         "marker": {
          "color": "#00cc96",
          "symbol": "circle"
         },
         "mode": "markers",
         "name": "badius",
         "orientation": "v",
         "showlegend": true,
         "type": "scatter",
         "x": [
          41.20764248853953,
          42.85666230418667,
          51.37078463648968,
          38.94327863706201,
          36.64629866209996,
          55.643974469190404,
          34.383840192848616,
          39.32122331071956,
          50.175909712979426,
          37.76106304038281
         ],
         "xaxis": "x",
         "y": [
          -54.46931062389534,
          -62.89938034125865,
          -67.65343751665826,
          -59.958215423959274,
          -60.8723968876065,
          -66.4517474649388,
          -58.12957293839057,
          -63.71578418905017,
          -59.089137302534695,
          -62.3187234323806
         ],
         "yaxis": "y"
        },
        {
         "hovertemplate": "color=anubis<br>0=%{x}<br>1=%{y}<extra></extra>",
         "legendgroup": "anubis",
         "marker": {
          "color": "#ab63fa",
          "symbol": "circle"
         },
         "mode": "markers",
         "name": "anubis",
         "orientation": "v",
         "showlegend": true,
         "type": "scatter",
         "x": [
          64.40909050922471,
          37.85007642129867,
          12.3536284990864,
          3.5560918870449796,
          19.650079575534864,
          10.598256837246208,
          8.420146653302641,
          13.691679257734055,
          2.1159974292389654
         ],
         "xaxis": "x",
         "y": [
          98.26308161641418,
          89.70962746132027,
          79.62496527124496,
          56.354485223470014,
          71.3524608565543,
          78.6812687548816,
          79.41237392299543,
          60.86424432055941,
          18.380740740797606
         ],
         "yaxis": "y"
        },
        {
         "hovertemplate": "color=gorilla<br>0=%{x}<br>1=%{y}<extra></extra>",
         "legendgroup": "gorilla",
         "marker": {
          "color": "#FFA15A",
          "symbol": "circle"
         },
         "mode": "markers",
         "name": "gorilla",
         "orientation": "v",
         "showlegend": true,
         "type": "scatter",
         "x": [
          197.1410198460722,
          208.5619304896542,
          186.1497087446546,
          200.41570191987395,
          193.70985093704311,
          192.93981599278038
         ],
         "xaxis": "x",
         "y": [
          11.926509995434097,
          21.462178535466073,
          10.688533463071954,
          -8.32839743033382,
          -15.62885345408508,
          13.542304871369227
         ],
         "yaxis": "y"
        }
       ],
       "layout": {
        "legend": {
         "title": {
          "text": "color"
         },
         "tracegroupgap": 0
        },
        "margin": {
         "t": 60
        },
        "template": {
         "data": {
          "bar": [
           {
            "error_x": {
             "color": "#2a3f5f"
            },
            "error_y": {
             "color": "#2a3f5f"
            },
            "marker": {
             "line": {
              "color": "#E5ECF6",
              "width": 0.5
             },
             "pattern": {
              "fillmode": "overlay",
              "size": 10,
              "solidity": 0.2
             }
            },
            "type": "bar"
           }
          ],
          "barpolar": [
           {
            "marker": {
             "line": {
              "color": "#E5ECF6",
              "width": 0.5
             },
             "pattern": {
              "fillmode": "overlay",
              "size": 10,
              "solidity": 0.2
             }
            },
            "type": "barpolar"
           }
          ],
          "carpet": [
           {
            "aaxis": {
             "endlinecolor": "#2a3f5f",
             "gridcolor": "white",
             "linecolor": "white",
             "minorgridcolor": "white",
             "startlinecolor": "#2a3f5f"
            },
            "baxis": {
             "endlinecolor": "#2a3f5f",
             "gridcolor": "white",
             "linecolor": "white",
             "minorgridcolor": "white",
             "startlinecolor": "#2a3f5f"
            },
            "type": "carpet"
           }
          ],
          "choropleth": [
           {
            "colorbar": {
             "outlinewidth": 0,
             "ticks": ""
            },
            "type": "choropleth"
           }
          ],
          "contour": [
           {
            "colorbar": {
             "outlinewidth": 0,
             "ticks": ""
            },
            "colorscale": [
             [
              0,
              "#0d0887"
             ],
             [
              0.1111111111111111,
              "#46039f"
             ],
             [
              0.2222222222222222,
              "#7201a8"
             ],
             [
              0.3333333333333333,
              "#9c179e"
             ],
             [
              0.4444444444444444,
              "#bd3786"
             ],
             [
              0.5555555555555556,
              "#d8576b"
             ],
             [
              0.6666666666666666,
              "#ed7953"
             ],
             [
              0.7777777777777778,
              "#fb9f3a"
             ],
             [
              0.8888888888888888,
              "#fdca26"
             ],
             [
              1,
              "#f0f921"
             ]
            ],
            "type": "contour"
           }
          ],
          "contourcarpet": [
           {
            "colorbar": {
             "outlinewidth": 0,
             "ticks": ""
            },
            "type": "contourcarpet"
           }
          ],
          "heatmap": [
           {
            "colorbar": {
             "outlinewidth": 0,
             "ticks": ""
            },
            "colorscale": [
             [
              0,
              "#0d0887"
             ],
             [
              0.1111111111111111,
              "#46039f"
             ],
             [
              0.2222222222222222,
              "#7201a8"
             ],
             [
              0.3333333333333333,
              "#9c179e"
             ],
             [
              0.4444444444444444,
              "#bd3786"
             ],
             [
              0.5555555555555556,
              "#d8576b"
             ],
             [
              0.6666666666666666,
              "#ed7953"
             ],
             [
              0.7777777777777778,
              "#fb9f3a"
             ],
             [
              0.8888888888888888,
              "#fdca26"
             ],
             [
              1,
              "#f0f921"
             ]
            ],
            "type": "heatmap"
           }
          ],
          "heatmapgl": [
           {
            "colorbar": {
             "outlinewidth": 0,
             "ticks": ""
            },
            "colorscale": [
             [
              0,
              "#0d0887"
             ],
             [
              0.1111111111111111,
              "#46039f"
             ],
             [
              0.2222222222222222,
              "#7201a8"
             ],
             [
              0.3333333333333333,
              "#9c179e"
             ],
             [
              0.4444444444444444,
              "#bd3786"
             ],
             [
              0.5555555555555556,
              "#d8576b"
             ],
             [
              0.6666666666666666,
              "#ed7953"
             ],
             [
              0.7777777777777778,
              "#fb9f3a"
             ],
             [
              0.8888888888888888,
              "#fdca26"
             ],
             [
              1,
              "#f0f921"
             ]
            ],
            "type": "heatmapgl"
           }
          ],
          "histogram": [
           {
            "marker": {
             "pattern": {
              "fillmode": "overlay",
              "size": 10,
              "solidity": 0.2
             }
            },
            "type": "histogram"
           }
          ],
          "histogram2d": [
           {
            "colorbar": {
             "outlinewidth": 0,
             "ticks": ""
            },
            "colorscale": [
             [
              0,
              "#0d0887"
             ],
             [
              0.1111111111111111,
              "#46039f"
             ],
             [
              0.2222222222222222,
              "#7201a8"
             ],
             [
              0.3333333333333333,
              "#9c179e"
             ],
             [
              0.4444444444444444,
              "#bd3786"
             ],
             [
              0.5555555555555556,
              "#d8576b"
             ],
             [
              0.6666666666666666,
              "#ed7953"
             ],
             [
              0.7777777777777778,
              "#fb9f3a"
             ],
             [
              0.8888888888888888,
              "#fdca26"
             ],
             [
              1,
              "#f0f921"
             ]
            ],
            "type": "histogram2d"
           }
          ],
          "histogram2dcontour": [
           {
            "colorbar": {
             "outlinewidth": 0,
             "ticks": ""
            },
            "colorscale": [
             [
              0,
              "#0d0887"
             ],
             [
              0.1111111111111111,
              "#46039f"
             ],
             [
              0.2222222222222222,
              "#7201a8"
             ],
             [
              0.3333333333333333,
              "#9c179e"
             ],
             [
              0.4444444444444444,
              "#bd3786"
             ],
             [
              0.5555555555555556,
              "#d8576b"
             ],
             [
              0.6666666666666666,
              "#ed7953"
             ],
             [
              0.7777777777777778,
              "#fb9f3a"
             ],
             [
              0.8888888888888888,
              "#fdca26"
             ],
             [
              1,
              "#f0f921"
             ]
            ],
            "type": "histogram2dcontour"
           }
          ],
          "mesh3d": [
           {
            "colorbar": {
             "outlinewidth": 0,
             "ticks": ""
            },
            "type": "mesh3d"
           }
          ],
          "parcoords": [
           {
            "line": {
             "colorbar": {
              "outlinewidth": 0,
              "ticks": ""
             }
            },
            "type": "parcoords"
           }
          ],
          "pie": [
           {
            "automargin": true,
            "type": "pie"
           }
          ],
          "scatter": [
           {
            "marker": {
             "colorbar": {
              "outlinewidth": 0,
              "ticks": ""
             }
            },
            "type": "scatter"
           }
          ],
          "scatter3d": [
           {
            "line": {
             "colorbar": {
              "outlinewidth": 0,
              "ticks": ""
             }
            },
            "marker": {
             "colorbar": {
              "outlinewidth": 0,
              "ticks": ""
             }
            },
            "type": "scatter3d"
           }
          ],
          "scattercarpet": [
           {
            "marker": {
             "colorbar": {
              "outlinewidth": 0,
              "ticks": ""
             }
            },
            "type": "scattercarpet"
           }
          ],
          "scattergeo": [
           {
            "marker": {
             "colorbar": {
              "outlinewidth": 0,
              "ticks": ""
             }
            },
            "type": "scattergeo"
           }
          ],
          "scattergl": [
           {
            "marker": {
             "colorbar": {
              "outlinewidth": 0,
              "ticks": ""
             }
            },
            "type": "scattergl"
           }
          ],
          "scattermapbox": [
           {
            "marker": {
             "colorbar": {
              "outlinewidth": 0,
              "ticks": ""
             }
            },
            "type": "scattermapbox"
           }
          ],
          "scatterpolar": [
           {
            "marker": {
             "colorbar": {
              "outlinewidth": 0,
              "ticks": ""
             }
            },
            "type": "scatterpolar"
           }
          ],
          "scatterpolargl": [
           {
            "marker": {
             "colorbar": {
              "outlinewidth": 0,
              "ticks": ""
             }
            },
            "type": "scatterpolargl"
           }
          ],
          "scatterternary": [
           {
            "marker": {
             "colorbar": {
              "outlinewidth": 0,
              "ticks": ""
             }
            },
            "type": "scatterternary"
           }
          ],
          "surface": [
           {
            "colorbar": {
             "outlinewidth": 0,
             "ticks": ""
            },
            "colorscale": [
             [
              0,
              "#0d0887"
             ],
             [
              0.1111111111111111,
              "#46039f"
             ],
             [
              0.2222222222222222,
              "#7201a8"
             ],
             [
              0.3333333333333333,
              "#9c179e"
             ],
             [
              0.4444444444444444,
              "#bd3786"
             ],
             [
              0.5555555555555556,
              "#d8576b"
             ],
             [
              0.6666666666666666,
              "#ed7953"
             ],
             [
              0.7777777777777778,
              "#fb9f3a"
             ],
             [
              0.8888888888888888,
              "#fdca26"
             ],
             [
              1,
              "#f0f921"
             ]
            ],
            "type": "surface"
           }
          ],
          "table": [
           {
            "cells": {
             "fill": {
              "color": "#EBF0F8"
             },
             "line": {
              "color": "white"
             }
            },
            "header": {
             "fill": {
              "color": "#C8D4E3"
             },
             "line": {
              "color": "white"
             }
            },
            "type": "table"
           }
          ]
         },
         "layout": {
          "annotationdefaults": {
           "arrowcolor": "#2a3f5f",
           "arrowhead": 0,
           "arrowwidth": 1
          },
          "autotypenumbers": "strict",
          "coloraxis": {
           "colorbar": {
            "outlinewidth": 0,
            "ticks": ""
           }
          },
          "colorscale": {
           "diverging": [
            [
             0,
             "#8e0152"
            ],
            [
             0.1,
             "#c51b7d"
            ],
            [
             0.2,
             "#de77ae"
            ],
            [
             0.3,
             "#f1b6da"
            ],
            [
             0.4,
             "#fde0ef"
            ],
            [
             0.5,
             "#f7f7f7"
            ],
            [
             0.6,
             "#e6f5d0"
            ],
            [
             0.7,
             "#b8e186"
            ],
            [
             0.8,
             "#7fbc41"
            ],
            [
             0.9,
             "#4d9221"
            ],
            [
             1,
             "#276419"
            ]
           ],
           "sequential": [
            [
             0,
             "#0d0887"
            ],
            [
             0.1111111111111111,
             "#46039f"
            ],
            [
             0.2222222222222222,
             "#7201a8"
            ],
            [
             0.3333333333333333,
             "#9c179e"
            ],
            [
             0.4444444444444444,
             "#bd3786"
            ],
            [
             0.5555555555555556,
             "#d8576b"
            ],
            [
             0.6666666666666666,
             "#ed7953"
            ],
            [
             0.7777777777777778,
             "#fb9f3a"
            ],
            [
             0.8888888888888888,
             "#fdca26"
            ],
            [
             1,
             "#f0f921"
            ]
           ],
           "sequentialminus": [
            [
             0,
             "#0d0887"
            ],
            [
             0.1111111111111111,
             "#46039f"
            ],
            [
             0.2222222222222222,
             "#7201a8"
            ],
            [
             0.3333333333333333,
             "#9c179e"
            ],
            [
             0.4444444444444444,
             "#bd3786"
            ],
            [
             0.5555555555555556,
             "#d8576b"
            ],
            [
             0.6666666666666666,
             "#ed7953"
            ],
            [
             0.7777777777777778,
             "#fb9f3a"
            ],
            [
             0.8888888888888888,
             "#fdca26"
            ],
            [
             1,
             "#f0f921"
            ]
           ]
          },
          "colorway": [
           "#636efa",
           "#EF553B",
           "#00cc96",
           "#ab63fa",
           "#FFA15A",
           "#19d3f3",
           "#FF6692",
           "#B6E880",
           "#FF97FF",
           "#FECB52"
          ],
          "font": {
           "color": "#2a3f5f"
          },
          "geo": {
           "bgcolor": "white",
           "lakecolor": "white",
           "landcolor": "#E5ECF6",
           "showlakes": true,
           "showland": true,
           "subunitcolor": "white"
          },
          "hoverlabel": {
           "align": "left"
          },
          "hovermode": "closest",
          "mapbox": {
           "style": "light"
          },
          "paper_bgcolor": "white",
          "plot_bgcolor": "#E5ECF6",
          "polar": {
           "angularaxis": {
            "gridcolor": "white",
            "linecolor": "white",
            "ticks": ""
           },
           "bgcolor": "#E5ECF6",
           "radialaxis": {
            "gridcolor": "white",
            "linecolor": "white",
            "ticks": ""
           }
          },
          "scene": {
           "xaxis": {
            "backgroundcolor": "#E5ECF6",
            "gridcolor": "white",
            "gridwidth": 2,
            "linecolor": "white",
            "showbackground": true,
            "ticks": "",
            "zerolinecolor": "white"
           },
           "yaxis": {
            "backgroundcolor": "#E5ECF6",
            "gridcolor": "white",
            "gridwidth": 2,
            "linecolor": "white",
            "showbackground": true,
            "ticks": "",
            "zerolinecolor": "white"
           },
           "zaxis": {
            "backgroundcolor": "#E5ECF6",
            "gridcolor": "white",
            "gridwidth": 2,
            "linecolor": "white",
            "showbackground": true,
            "ticks": "",
            "zerolinecolor": "white"
           }
          },
          "shapedefaults": {
           "line": {
            "color": "#2a3f5f"
           }
          },
          "ternary": {
           "aaxis": {
            "gridcolor": "white",
            "linecolor": "white",
            "ticks": ""
           },
           "baxis": {
            "gridcolor": "white",
            "linecolor": "white",
            "ticks": ""
           },
           "bgcolor": "#E5ECF6",
           "caxis": {
            "gridcolor": "white",
            "linecolor": "white",
            "ticks": ""
           }
          },
          "title": {
           "x": 0.05
          },
          "xaxis": {
           "automargin": true,
           "gridcolor": "white",
           "linecolor": "white",
           "ticks": "",
           "title": {
            "standoff": 15
           },
           "zerolinecolor": "white",
           "zerolinewidth": 2
          },
          "yaxis": {
           "automargin": true,
           "gridcolor": "white",
           "linecolor": "white",
           "ticks": "",
           "title": {
            "standoff": 15
           },
           "zerolinecolor": "white",
           "zerolinewidth": 2
          }
         }
        },
        "xaxis": {
         "anchor": "y",
         "domain": [
          0,
          1
         ],
         "title": {
          "text": "0"
         }
        },
        "yaxis": {
         "anchor": "x",
         "domain": [
          0,
          1
         ],
         "title": {
          "text": "1"
         }
        }
       }
      }
     },
     "metadata": {},
     "output_type": "display_data"
    }
   ],
   "source": [
    "plotPCA1 = 0\n",
    "plotPCA2 = 1\n",
    "\n",
    "pca = PCA(n_components=3)\n",
    "components = pca.fit_transform(X)\n",
    "\n",
    "loadings = pca.components_.T * np.sqrt(pca.explained_variance_)\n",
    "components2 = []\n",
    "for i in components:\n",
    "    components2.append([i[plotPCA1], i[plotPCA2]])\n",
    "\n",
    "fig = px.scatter(components2, x=0, y=1, color=data_with_clusters['Clusters'])\n",
    "fig.show()\n",
    "\n",
    "fig = px.scatter(components, x=0, y=1, color=species_series)\n",
    "fig.show()"
   ]
  },
  {
   "cell_type": "markdown",
   "metadata": {},
   "source": [
    "### evaluation of k-means clustering\n",
    "We can see that K-clustering on the chosen species works very good, it makes two mistakes, by clustering the albigena at (-145.6, -67.8) and the anubis at (2.1, 18.4) wrong. this is understandable, since these are outliers of the normal cluster."
   ]
  },
  {
   "cell_type": "markdown",
   "metadata": {},
   "source": [
    "__________________________________________________________"
   ]
  },
  {
   "cell_type": "markdown",
   "metadata": {},
   "source": [
    "# XGboost\n",
    "i chose to use the XGboost algorithm, since it is one of the most popular algorithm in the machine learning community. it has proven itself on multiple machine learning contests, so it is interesting to test this boosting algorithm out. boosting is a technique that is used to improve the performance of a model by adding seperate models together."
   ]
  },
  {
   "cell_type": "code",
   "execution_count": 119,
   "metadata": {},
   "outputs": [],
   "source": [
    "'''xgboost'''\n",
    "from xgboost import XGBClassifier\n",
    "xgb = XGBClassifier().fit(clustering_data, df2.Species)\n",
    "identified_clusters = xgb.predict(clustering_data)\n",
    "\n",
    "data_with_clusters = clustering_data.copy()\n",
    "data_with_clusters['Clusters'] = identified_clusters"
   ]
  },
  {
   "cell_type": "code",
   "execution_count": 120,
   "metadata": {},
   "outputs": [
    {
     "data": {
      "application/vnd.plotly.v1+json": {
       "config": {
        "plotlyServerURL": "https://plot.ly"
       },
       "data": [
        {
         "hovertemplate": "0=%{x}<br>1=%{y}<br>color=%{marker.color}<extra></extra>",
         "legendgroup": "",
         "marker": {
          "color": [
           4,
           4,
           4,
           4,
           4,
           0,
           0,
           0,
           0,
           0,
           0,
           2,
           2,
           2,
           2,
           2,
           2,
           2,
           2,
           2,
           2,
           1,
           1,
           1,
           1,
           1,
           1,
           1,
           1,
           1,
           3,
           3,
           3,
           3,
           3,
           3
          ],
          "coloraxis": "coloraxis",
          "symbol": "circle"
         },
         "mode": "markers",
         "name": "",
         "orientation": "v",
         "showlegend": false,
         "type": "scatter",
         "x": [
          -154.3548114932924,
          -152.0591143459721,
          -165.39844104358275,
          -163.35726251895008,
          -161.96844317870128,
          -179.82101187787262,
          -158.16236313284796,
          -176.54240798229554,
          -175.93968696721473,
          -145.60707500428907,
          -146.6631349092702,
          41.20764248853953,
          42.85666230418667,
          51.37078463648968,
          38.94327863706201,
          36.64629866209996,
          55.643974469190404,
          34.383840192848616,
          39.32122331071956,
          50.175909712979426,
          37.76106304038281,
          64.40909050922471,
          37.85007642129867,
          12.3536284990864,
          3.5560918870449796,
          19.650079575534864,
          10.598256837246208,
          8.420146653302641,
          13.691679257734055,
          2.1159974292389654,
          197.1410198460722,
          208.5619304896542,
          186.1497087446546,
          200.41570191987395,
          193.70985093704311,
          192.93981599278038
         ],
         "xaxis": "x",
         "y": [
          -51.61196249777456,
          -54.58438943718396,
          -68.29575561773589,
          -60.32751979583178,
          -59.43949596667024,
          55.0952638546292,
          61.07887027705865,
          57.31646437039572,
          66.0943239093745,
          -67.78854157483752,
          71.71492445008796,
          -54.46931062389534,
          -62.89938034125865,
          -67.65343751665826,
          -59.958215423959274,
          -60.8723968876065,
          -66.4517474649388,
          -58.12957293839057,
          -63.71578418905017,
          -59.089137302534695,
          -62.3187234323806,
          98.26308161641418,
          89.70962746132027,
          79.62496527124496,
          56.354485223470014,
          71.3524608565543,
          78.6812687548816,
          79.41237392299543,
          60.86424432055941,
          18.380740740797606,
          11.926509995434097,
          21.462178535466073,
          10.688533463071954,
          -8.32839743033382,
          -15.62885345408508,
          13.542304871369227
         ],
         "yaxis": "y"
        }
       ],
       "layout": {
        "coloraxis": {
         "colorbar": {
          "title": {
           "text": "color"
          }
         },
         "colorscale": [
          [
           0,
           "#0d0887"
          ],
          [
           0.1111111111111111,
           "#46039f"
          ],
          [
           0.2222222222222222,
           "#7201a8"
          ],
          [
           0.3333333333333333,
           "#9c179e"
          ],
          [
           0.4444444444444444,
           "#bd3786"
          ],
          [
           0.5555555555555556,
           "#d8576b"
          ],
          [
           0.6666666666666666,
           "#ed7953"
          ],
          [
           0.7777777777777778,
           "#fb9f3a"
          ],
          [
           0.8888888888888888,
           "#fdca26"
          ],
          [
           1,
           "#f0f921"
          ]
         ]
        },
        "legend": {
         "tracegroupgap": 0
        },
        "margin": {
         "t": 60
        },
        "template": {
         "data": {
          "bar": [
           {
            "error_x": {
             "color": "#2a3f5f"
            },
            "error_y": {
             "color": "#2a3f5f"
            },
            "marker": {
             "line": {
              "color": "#E5ECF6",
              "width": 0.5
             },
             "pattern": {
              "fillmode": "overlay",
              "size": 10,
              "solidity": 0.2
             }
            },
            "type": "bar"
           }
          ],
          "barpolar": [
           {
            "marker": {
             "line": {
              "color": "#E5ECF6",
              "width": 0.5
             },
             "pattern": {
              "fillmode": "overlay",
              "size": 10,
              "solidity": 0.2
             }
            },
            "type": "barpolar"
           }
          ],
          "carpet": [
           {
            "aaxis": {
             "endlinecolor": "#2a3f5f",
             "gridcolor": "white",
             "linecolor": "white",
             "minorgridcolor": "white",
             "startlinecolor": "#2a3f5f"
            },
            "baxis": {
             "endlinecolor": "#2a3f5f",
             "gridcolor": "white",
             "linecolor": "white",
             "minorgridcolor": "white",
             "startlinecolor": "#2a3f5f"
            },
            "type": "carpet"
           }
          ],
          "choropleth": [
           {
            "colorbar": {
             "outlinewidth": 0,
             "ticks": ""
            },
            "type": "choropleth"
           }
          ],
          "contour": [
           {
            "colorbar": {
             "outlinewidth": 0,
             "ticks": ""
            },
            "colorscale": [
             [
              0,
              "#0d0887"
             ],
             [
              0.1111111111111111,
              "#46039f"
             ],
             [
              0.2222222222222222,
              "#7201a8"
             ],
             [
              0.3333333333333333,
              "#9c179e"
             ],
             [
              0.4444444444444444,
              "#bd3786"
             ],
             [
              0.5555555555555556,
              "#d8576b"
             ],
             [
              0.6666666666666666,
              "#ed7953"
             ],
             [
              0.7777777777777778,
              "#fb9f3a"
             ],
             [
              0.8888888888888888,
              "#fdca26"
             ],
             [
              1,
              "#f0f921"
             ]
            ],
            "type": "contour"
           }
          ],
          "contourcarpet": [
           {
            "colorbar": {
             "outlinewidth": 0,
             "ticks": ""
            },
            "type": "contourcarpet"
           }
          ],
          "heatmap": [
           {
            "colorbar": {
             "outlinewidth": 0,
             "ticks": ""
            },
            "colorscale": [
             [
              0,
              "#0d0887"
             ],
             [
              0.1111111111111111,
              "#46039f"
             ],
             [
              0.2222222222222222,
              "#7201a8"
             ],
             [
              0.3333333333333333,
              "#9c179e"
             ],
             [
              0.4444444444444444,
              "#bd3786"
             ],
             [
              0.5555555555555556,
              "#d8576b"
             ],
             [
              0.6666666666666666,
              "#ed7953"
             ],
             [
              0.7777777777777778,
              "#fb9f3a"
             ],
             [
              0.8888888888888888,
              "#fdca26"
             ],
             [
              1,
              "#f0f921"
             ]
            ],
            "type": "heatmap"
           }
          ],
          "heatmapgl": [
           {
            "colorbar": {
             "outlinewidth": 0,
             "ticks": ""
            },
            "colorscale": [
             [
              0,
              "#0d0887"
             ],
             [
              0.1111111111111111,
              "#46039f"
             ],
             [
              0.2222222222222222,
              "#7201a8"
             ],
             [
              0.3333333333333333,
              "#9c179e"
             ],
             [
              0.4444444444444444,
              "#bd3786"
             ],
             [
              0.5555555555555556,
              "#d8576b"
             ],
             [
              0.6666666666666666,
              "#ed7953"
             ],
             [
              0.7777777777777778,
              "#fb9f3a"
             ],
             [
              0.8888888888888888,
              "#fdca26"
             ],
             [
              1,
              "#f0f921"
             ]
            ],
            "type": "heatmapgl"
           }
          ],
          "histogram": [
           {
            "marker": {
             "pattern": {
              "fillmode": "overlay",
              "size": 10,
              "solidity": 0.2
             }
            },
            "type": "histogram"
           }
          ],
          "histogram2d": [
           {
            "colorbar": {
             "outlinewidth": 0,
             "ticks": ""
            },
            "colorscale": [
             [
              0,
              "#0d0887"
             ],
             [
              0.1111111111111111,
              "#46039f"
             ],
             [
              0.2222222222222222,
              "#7201a8"
             ],
             [
              0.3333333333333333,
              "#9c179e"
             ],
             [
              0.4444444444444444,
              "#bd3786"
             ],
             [
              0.5555555555555556,
              "#d8576b"
             ],
             [
              0.6666666666666666,
              "#ed7953"
             ],
             [
              0.7777777777777778,
              "#fb9f3a"
             ],
             [
              0.8888888888888888,
              "#fdca26"
             ],
             [
              1,
              "#f0f921"
             ]
            ],
            "type": "histogram2d"
           }
          ],
          "histogram2dcontour": [
           {
            "colorbar": {
             "outlinewidth": 0,
             "ticks": ""
            },
            "colorscale": [
             [
              0,
              "#0d0887"
             ],
             [
              0.1111111111111111,
              "#46039f"
             ],
             [
              0.2222222222222222,
              "#7201a8"
             ],
             [
              0.3333333333333333,
              "#9c179e"
             ],
             [
              0.4444444444444444,
              "#bd3786"
             ],
             [
              0.5555555555555556,
              "#d8576b"
             ],
             [
              0.6666666666666666,
              "#ed7953"
             ],
             [
              0.7777777777777778,
              "#fb9f3a"
             ],
             [
              0.8888888888888888,
              "#fdca26"
             ],
             [
              1,
              "#f0f921"
             ]
            ],
            "type": "histogram2dcontour"
           }
          ],
          "mesh3d": [
           {
            "colorbar": {
             "outlinewidth": 0,
             "ticks": ""
            },
            "type": "mesh3d"
           }
          ],
          "parcoords": [
           {
            "line": {
             "colorbar": {
              "outlinewidth": 0,
              "ticks": ""
             }
            },
            "type": "parcoords"
           }
          ],
          "pie": [
           {
            "automargin": true,
            "type": "pie"
           }
          ],
          "scatter": [
           {
            "marker": {
             "colorbar": {
              "outlinewidth": 0,
              "ticks": ""
             }
            },
            "type": "scatter"
           }
          ],
          "scatter3d": [
           {
            "line": {
             "colorbar": {
              "outlinewidth": 0,
              "ticks": ""
             }
            },
            "marker": {
             "colorbar": {
              "outlinewidth": 0,
              "ticks": ""
             }
            },
            "type": "scatter3d"
           }
          ],
          "scattercarpet": [
           {
            "marker": {
             "colorbar": {
              "outlinewidth": 0,
              "ticks": ""
             }
            },
            "type": "scattercarpet"
           }
          ],
          "scattergeo": [
           {
            "marker": {
             "colorbar": {
              "outlinewidth": 0,
              "ticks": ""
             }
            },
            "type": "scattergeo"
           }
          ],
          "scattergl": [
           {
            "marker": {
             "colorbar": {
              "outlinewidth": 0,
              "ticks": ""
             }
            },
            "type": "scattergl"
           }
          ],
          "scattermapbox": [
           {
            "marker": {
             "colorbar": {
              "outlinewidth": 0,
              "ticks": ""
             }
            },
            "type": "scattermapbox"
           }
          ],
          "scatterpolar": [
           {
            "marker": {
             "colorbar": {
              "outlinewidth": 0,
              "ticks": ""
             }
            },
            "type": "scatterpolar"
           }
          ],
          "scatterpolargl": [
           {
            "marker": {
             "colorbar": {
              "outlinewidth": 0,
              "ticks": ""
             }
            },
            "type": "scatterpolargl"
           }
          ],
          "scatterternary": [
           {
            "marker": {
             "colorbar": {
              "outlinewidth": 0,
              "ticks": ""
             }
            },
            "type": "scatterternary"
           }
          ],
          "surface": [
           {
            "colorbar": {
             "outlinewidth": 0,
             "ticks": ""
            },
            "colorscale": [
             [
              0,
              "#0d0887"
             ],
             [
              0.1111111111111111,
              "#46039f"
             ],
             [
              0.2222222222222222,
              "#7201a8"
             ],
             [
              0.3333333333333333,
              "#9c179e"
             ],
             [
              0.4444444444444444,
              "#bd3786"
             ],
             [
              0.5555555555555556,
              "#d8576b"
             ],
             [
              0.6666666666666666,
              "#ed7953"
             ],
             [
              0.7777777777777778,
              "#fb9f3a"
             ],
             [
              0.8888888888888888,
              "#fdca26"
             ],
             [
              1,
              "#f0f921"
             ]
            ],
            "type": "surface"
           }
          ],
          "table": [
           {
            "cells": {
             "fill": {
              "color": "#EBF0F8"
             },
             "line": {
              "color": "white"
             }
            },
            "header": {
             "fill": {
              "color": "#C8D4E3"
             },
             "line": {
              "color": "white"
             }
            },
            "type": "table"
           }
          ]
         },
         "layout": {
          "annotationdefaults": {
           "arrowcolor": "#2a3f5f",
           "arrowhead": 0,
           "arrowwidth": 1
          },
          "autotypenumbers": "strict",
          "coloraxis": {
           "colorbar": {
            "outlinewidth": 0,
            "ticks": ""
           }
          },
          "colorscale": {
           "diverging": [
            [
             0,
             "#8e0152"
            ],
            [
             0.1,
             "#c51b7d"
            ],
            [
             0.2,
             "#de77ae"
            ],
            [
             0.3,
             "#f1b6da"
            ],
            [
             0.4,
             "#fde0ef"
            ],
            [
             0.5,
             "#f7f7f7"
            ],
            [
             0.6,
             "#e6f5d0"
            ],
            [
             0.7,
             "#b8e186"
            ],
            [
             0.8,
             "#7fbc41"
            ],
            [
             0.9,
             "#4d9221"
            ],
            [
             1,
             "#276419"
            ]
           ],
           "sequential": [
            [
             0,
             "#0d0887"
            ],
            [
             0.1111111111111111,
             "#46039f"
            ],
            [
             0.2222222222222222,
             "#7201a8"
            ],
            [
             0.3333333333333333,
             "#9c179e"
            ],
            [
             0.4444444444444444,
             "#bd3786"
            ],
            [
             0.5555555555555556,
             "#d8576b"
            ],
            [
             0.6666666666666666,
             "#ed7953"
            ],
            [
             0.7777777777777778,
             "#fb9f3a"
            ],
            [
             0.8888888888888888,
             "#fdca26"
            ],
            [
             1,
             "#f0f921"
            ]
           ],
           "sequentialminus": [
            [
             0,
             "#0d0887"
            ],
            [
             0.1111111111111111,
             "#46039f"
            ],
            [
             0.2222222222222222,
             "#7201a8"
            ],
            [
             0.3333333333333333,
             "#9c179e"
            ],
            [
             0.4444444444444444,
             "#bd3786"
            ],
            [
             0.5555555555555556,
             "#d8576b"
            ],
            [
             0.6666666666666666,
             "#ed7953"
            ],
            [
             0.7777777777777778,
             "#fb9f3a"
            ],
            [
             0.8888888888888888,
             "#fdca26"
            ],
            [
             1,
             "#f0f921"
            ]
           ]
          },
          "colorway": [
           "#636efa",
           "#EF553B",
           "#00cc96",
           "#ab63fa",
           "#FFA15A",
           "#19d3f3",
           "#FF6692",
           "#B6E880",
           "#FF97FF",
           "#FECB52"
          ],
          "font": {
           "color": "#2a3f5f"
          },
          "geo": {
           "bgcolor": "white",
           "lakecolor": "white",
           "landcolor": "#E5ECF6",
           "showlakes": true,
           "showland": true,
           "subunitcolor": "white"
          },
          "hoverlabel": {
           "align": "left"
          },
          "hovermode": "closest",
          "mapbox": {
           "style": "light"
          },
          "paper_bgcolor": "white",
          "plot_bgcolor": "#E5ECF6",
          "polar": {
           "angularaxis": {
            "gridcolor": "white",
            "linecolor": "white",
            "ticks": ""
           },
           "bgcolor": "#E5ECF6",
           "radialaxis": {
            "gridcolor": "white",
            "linecolor": "white",
            "ticks": ""
           }
          },
          "scene": {
           "xaxis": {
            "backgroundcolor": "#E5ECF6",
            "gridcolor": "white",
            "gridwidth": 2,
            "linecolor": "white",
            "showbackground": true,
            "ticks": "",
            "zerolinecolor": "white"
           },
           "yaxis": {
            "backgroundcolor": "#E5ECF6",
            "gridcolor": "white",
            "gridwidth": 2,
            "linecolor": "white",
            "showbackground": true,
            "ticks": "",
            "zerolinecolor": "white"
           },
           "zaxis": {
            "backgroundcolor": "#E5ECF6",
            "gridcolor": "white",
            "gridwidth": 2,
            "linecolor": "white",
            "showbackground": true,
            "ticks": "",
            "zerolinecolor": "white"
           }
          },
          "shapedefaults": {
           "line": {
            "color": "#2a3f5f"
           }
          },
          "ternary": {
           "aaxis": {
            "gridcolor": "white",
            "linecolor": "white",
            "ticks": ""
           },
           "baxis": {
            "gridcolor": "white",
            "linecolor": "white",
            "ticks": ""
           },
           "bgcolor": "#E5ECF6",
           "caxis": {
            "gridcolor": "white",
            "linecolor": "white",
            "ticks": ""
           }
          },
          "title": {
           "x": 0.05
          },
          "xaxis": {
           "automargin": true,
           "gridcolor": "white",
           "linecolor": "white",
           "ticks": "",
           "title": {
            "standoff": 15
           },
           "zerolinecolor": "white",
           "zerolinewidth": 2
          },
          "yaxis": {
           "automargin": true,
           "gridcolor": "white",
           "linecolor": "white",
           "ticks": "",
           "title": {
            "standoff": 15
           },
           "zerolinecolor": "white",
           "zerolinewidth": 2
          }
         }
        },
        "xaxis": {
         "anchor": "y",
         "domain": [
          0,
          1
         ],
         "title": {
          "text": "0"
         }
        },
        "yaxis": {
         "anchor": "x",
         "domain": [
          0,
          1
         ],
         "title": {
          "text": "1"
         }
        }
       }
      }
     },
     "metadata": {},
     "output_type": "display_data"
    },
    {
     "data": {
      "application/vnd.plotly.v1+json": {
       "config": {
        "plotlyServerURL": "https://plot.ly"
       },
       "data": [
        {
         "hovertemplate": "color=talapoin<br>0=%{x}<br>1=%{y}<extra></extra>",
         "legendgroup": "talapoin",
         "marker": {
          "color": "#636efa",
          "symbol": "circle"
         },
         "mode": "markers",
         "name": "talapoin",
         "orientation": "v",
         "showlegend": true,
         "type": "scatter",
         "x": [
          -154.3548114932924,
          -152.0591143459721,
          -165.39844104358275,
          -163.35726251895008,
          -161.96844317870128
         ],
         "xaxis": "x",
         "y": [
          -51.61196249777456,
          -54.58438943718396,
          -68.29575561773589,
          -60.32751979583178,
          -59.43949596667024
         ],
         "yaxis": "y"
        },
        {
         "hovertemplate": "color=albigena<br>0=%{x}<br>1=%{y}<extra></extra>",
         "legendgroup": "albigena",
         "marker": {
          "color": "#EF553B",
          "symbol": "circle"
         },
         "mode": "markers",
         "name": "albigena",
         "orientation": "v",
         "showlegend": true,
         "type": "scatter",
         "x": [
          -179.82101187787262,
          -158.16236313284796,
          -176.54240798229554,
          -175.93968696721473,
          -145.60707500428907,
          -146.6631349092702
         ],
         "xaxis": "x",
         "y": [
          55.0952638546292,
          61.07887027705865,
          57.31646437039572,
          66.0943239093745,
          -67.78854157483752,
          71.71492445008796
         ],
         "yaxis": "y"
        },
        {
         "hovertemplate": "color=badius<br>0=%{x}<br>1=%{y}<extra></extra>",
         "legendgroup": "badius",
         "marker": {
          "color": "#00cc96",
          "symbol": "circle"
         },
         "mode": "markers",
         "name": "badius",
         "orientation": "v",
         "showlegend": true,
         "type": "scatter",
         "x": [
          41.20764248853953,
          42.85666230418667,
          51.37078463648968,
          38.94327863706201,
          36.64629866209996,
          55.643974469190404,
          34.383840192848616,
          39.32122331071956,
          50.175909712979426,
          37.76106304038281
         ],
         "xaxis": "x",
         "y": [
          -54.46931062389534,
          -62.89938034125865,
          -67.65343751665826,
          -59.958215423959274,
          -60.8723968876065,
          -66.4517474649388,
          -58.12957293839057,
          -63.71578418905017,
          -59.089137302534695,
          -62.3187234323806
         ],
         "yaxis": "y"
        },
        {
         "hovertemplate": "color=anubis<br>0=%{x}<br>1=%{y}<extra></extra>",
         "legendgroup": "anubis",
         "marker": {
          "color": "#ab63fa",
          "symbol": "circle"
         },
         "mode": "markers",
         "name": "anubis",
         "orientation": "v",
         "showlegend": true,
         "type": "scatter",
         "x": [
          64.40909050922471,
          37.85007642129867,
          12.3536284990864,
          3.5560918870449796,
          19.650079575534864,
          10.598256837246208,
          8.420146653302641,
          13.691679257734055,
          2.1159974292389654
         ],
         "xaxis": "x",
         "y": [
          98.26308161641418,
          89.70962746132027,
          79.62496527124496,
          56.354485223470014,
          71.3524608565543,
          78.6812687548816,
          79.41237392299543,
          60.86424432055941,
          18.380740740797606
         ],
         "yaxis": "y"
        },
        {
         "hovertemplate": "color=gorilla<br>0=%{x}<br>1=%{y}<extra></extra>",
         "legendgroup": "gorilla",
         "marker": {
          "color": "#FFA15A",
          "symbol": "circle"
         },
         "mode": "markers",
         "name": "gorilla",
         "orientation": "v",
         "showlegend": true,
         "type": "scatter",
         "x": [
          197.1410198460722,
          208.5619304896542,
          186.1497087446546,
          200.41570191987395,
          193.70985093704311,
          192.93981599278038
         ],
         "xaxis": "x",
         "y": [
          11.926509995434097,
          21.462178535466073,
          10.688533463071954,
          -8.32839743033382,
          -15.62885345408508,
          13.542304871369227
         ],
         "yaxis": "y"
        }
       ],
       "layout": {
        "legend": {
         "title": {
          "text": "color"
         },
         "tracegroupgap": 0
        },
        "margin": {
         "t": 60
        },
        "template": {
         "data": {
          "bar": [
           {
            "error_x": {
             "color": "#2a3f5f"
            },
            "error_y": {
             "color": "#2a3f5f"
            },
            "marker": {
             "line": {
              "color": "#E5ECF6",
              "width": 0.5
             },
             "pattern": {
              "fillmode": "overlay",
              "size": 10,
              "solidity": 0.2
             }
            },
            "type": "bar"
           }
          ],
          "barpolar": [
           {
            "marker": {
             "line": {
              "color": "#E5ECF6",
              "width": 0.5
             },
             "pattern": {
              "fillmode": "overlay",
              "size": 10,
              "solidity": 0.2
             }
            },
            "type": "barpolar"
           }
          ],
          "carpet": [
           {
            "aaxis": {
             "endlinecolor": "#2a3f5f",
             "gridcolor": "white",
             "linecolor": "white",
             "minorgridcolor": "white",
             "startlinecolor": "#2a3f5f"
            },
            "baxis": {
             "endlinecolor": "#2a3f5f",
             "gridcolor": "white",
             "linecolor": "white",
             "minorgridcolor": "white",
             "startlinecolor": "#2a3f5f"
            },
            "type": "carpet"
           }
          ],
          "choropleth": [
           {
            "colorbar": {
             "outlinewidth": 0,
             "ticks": ""
            },
            "type": "choropleth"
           }
          ],
          "contour": [
           {
            "colorbar": {
             "outlinewidth": 0,
             "ticks": ""
            },
            "colorscale": [
             [
              0,
              "#0d0887"
             ],
             [
              0.1111111111111111,
              "#46039f"
             ],
             [
              0.2222222222222222,
              "#7201a8"
             ],
             [
              0.3333333333333333,
              "#9c179e"
             ],
             [
              0.4444444444444444,
              "#bd3786"
             ],
             [
              0.5555555555555556,
              "#d8576b"
             ],
             [
              0.6666666666666666,
              "#ed7953"
             ],
             [
              0.7777777777777778,
              "#fb9f3a"
             ],
             [
              0.8888888888888888,
              "#fdca26"
             ],
             [
              1,
              "#f0f921"
             ]
            ],
            "type": "contour"
           }
          ],
          "contourcarpet": [
           {
            "colorbar": {
             "outlinewidth": 0,
             "ticks": ""
            },
            "type": "contourcarpet"
           }
          ],
          "heatmap": [
           {
            "colorbar": {
             "outlinewidth": 0,
             "ticks": ""
            },
            "colorscale": [
             [
              0,
              "#0d0887"
             ],
             [
              0.1111111111111111,
              "#46039f"
             ],
             [
              0.2222222222222222,
              "#7201a8"
             ],
             [
              0.3333333333333333,
              "#9c179e"
             ],
             [
              0.4444444444444444,
              "#bd3786"
             ],
             [
              0.5555555555555556,
              "#d8576b"
             ],
             [
              0.6666666666666666,
              "#ed7953"
             ],
             [
              0.7777777777777778,
              "#fb9f3a"
             ],
             [
              0.8888888888888888,
              "#fdca26"
             ],
             [
              1,
              "#f0f921"
             ]
            ],
            "type": "heatmap"
           }
          ],
          "heatmapgl": [
           {
            "colorbar": {
             "outlinewidth": 0,
             "ticks": ""
            },
            "colorscale": [
             [
              0,
              "#0d0887"
             ],
             [
              0.1111111111111111,
              "#46039f"
             ],
             [
              0.2222222222222222,
              "#7201a8"
             ],
             [
              0.3333333333333333,
              "#9c179e"
             ],
             [
              0.4444444444444444,
              "#bd3786"
             ],
             [
              0.5555555555555556,
              "#d8576b"
             ],
             [
              0.6666666666666666,
              "#ed7953"
             ],
             [
              0.7777777777777778,
              "#fb9f3a"
             ],
             [
              0.8888888888888888,
              "#fdca26"
             ],
             [
              1,
              "#f0f921"
             ]
            ],
            "type": "heatmapgl"
           }
          ],
          "histogram": [
           {
            "marker": {
             "pattern": {
              "fillmode": "overlay",
              "size": 10,
              "solidity": 0.2
             }
            },
            "type": "histogram"
           }
          ],
          "histogram2d": [
           {
            "colorbar": {
             "outlinewidth": 0,
             "ticks": ""
            },
            "colorscale": [
             [
              0,
              "#0d0887"
             ],
             [
              0.1111111111111111,
              "#46039f"
             ],
             [
              0.2222222222222222,
              "#7201a8"
             ],
             [
              0.3333333333333333,
              "#9c179e"
             ],
             [
              0.4444444444444444,
              "#bd3786"
             ],
             [
              0.5555555555555556,
              "#d8576b"
             ],
             [
              0.6666666666666666,
              "#ed7953"
             ],
             [
              0.7777777777777778,
              "#fb9f3a"
             ],
             [
              0.8888888888888888,
              "#fdca26"
             ],
             [
              1,
              "#f0f921"
             ]
            ],
            "type": "histogram2d"
           }
          ],
          "histogram2dcontour": [
           {
            "colorbar": {
             "outlinewidth": 0,
             "ticks": ""
            },
            "colorscale": [
             [
              0,
              "#0d0887"
             ],
             [
              0.1111111111111111,
              "#46039f"
             ],
             [
              0.2222222222222222,
              "#7201a8"
             ],
             [
              0.3333333333333333,
              "#9c179e"
             ],
             [
              0.4444444444444444,
              "#bd3786"
             ],
             [
              0.5555555555555556,
              "#d8576b"
             ],
             [
              0.6666666666666666,
              "#ed7953"
             ],
             [
              0.7777777777777778,
              "#fb9f3a"
             ],
             [
              0.8888888888888888,
              "#fdca26"
             ],
             [
              1,
              "#f0f921"
             ]
            ],
            "type": "histogram2dcontour"
           }
          ],
          "mesh3d": [
           {
            "colorbar": {
             "outlinewidth": 0,
             "ticks": ""
            },
            "type": "mesh3d"
           }
          ],
          "parcoords": [
           {
            "line": {
             "colorbar": {
              "outlinewidth": 0,
              "ticks": ""
             }
            },
            "type": "parcoords"
           }
          ],
          "pie": [
           {
            "automargin": true,
            "type": "pie"
           }
          ],
          "scatter": [
           {
            "marker": {
             "colorbar": {
              "outlinewidth": 0,
              "ticks": ""
             }
            },
            "type": "scatter"
           }
          ],
          "scatter3d": [
           {
            "line": {
             "colorbar": {
              "outlinewidth": 0,
              "ticks": ""
             }
            },
            "marker": {
             "colorbar": {
              "outlinewidth": 0,
              "ticks": ""
             }
            },
            "type": "scatter3d"
           }
          ],
          "scattercarpet": [
           {
            "marker": {
             "colorbar": {
              "outlinewidth": 0,
              "ticks": ""
             }
            },
            "type": "scattercarpet"
           }
          ],
          "scattergeo": [
           {
            "marker": {
             "colorbar": {
              "outlinewidth": 0,
              "ticks": ""
             }
            },
            "type": "scattergeo"
           }
          ],
          "scattergl": [
           {
            "marker": {
             "colorbar": {
              "outlinewidth": 0,
              "ticks": ""
             }
            },
            "type": "scattergl"
           }
          ],
          "scattermapbox": [
           {
            "marker": {
             "colorbar": {
              "outlinewidth": 0,
              "ticks": ""
             }
            },
            "type": "scattermapbox"
           }
          ],
          "scatterpolar": [
           {
            "marker": {
             "colorbar": {
              "outlinewidth": 0,
              "ticks": ""
             }
            },
            "type": "scatterpolar"
           }
          ],
          "scatterpolargl": [
           {
            "marker": {
             "colorbar": {
              "outlinewidth": 0,
              "ticks": ""
             }
            },
            "type": "scatterpolargl"
           }
          ],
          "scatterternary": [
           {
            "marker": {
             "colorbar": {
              "outlinewidth": 0,
              "ticks": ""
             }
            },
            "type": "scatterternary"
           }
          ],
          "surface": [
           {
            "colorbar": {
             "outlinewidth": 0,
             "ticks": ""
            },
            "colorscale": [
             [
              0,
              "#0d0887"
             ],
             [
              0.1111111111111111,
              "#46039f"
             ],
             [
              0.2222222222222222,
              "#7201a8"
             ],
             [
              0.3333333333333333,
              "#9c179e"
             ],
             [
              0.4444444444444444,
              "#bd3786"
             ],
             [
              0.5555555555555556,
              "#d8576b"
             ],
             [
              0.6666666666666666,
              "#ed7953"
             ],
             [
              0.7777777777777778,
              "#fb9f3a"
             ],
             [
              0.8888888888888888,
              "#fdca26"
             ],
             [
              1,
              "#f0f921"
             ]
            ],
            "type": "surface"
           }
          ],
          "table": [
           {
            "cells": {
             "fill": {
              "color": "#EBF0F8"
             },
             "line": {
              "color": "white"
             }
            },
            "header": {
             "fill": {
              "color": "#C8D4E3"
             },
             "line": {
              "color": "white"
             }
            },
            "type": "table"
           }
          ]
         },
         "layout": {
          "annotationdefaults": {
           "arrowcolor": "#2a3f5f",
           "arrowhead": 0,
           "arrowwidth": 1
          },
          "autotypenumbers": "strict",
          "coloraxis": {
           "colorbar": {
            "outlinewidth": 0,
            "ticks": ""
           }
          },
          "colorscale": {
           "diverging": [
            [
             0,
             "#8e0152"
            ],
            [
             0.1,
             "#c51b7d"
            ],
            [
             0.2,
             "#de77ae"
            ],
            [
             0.3,
             "#f1b6da"
            ],
            [
             0.4,
             "#fde0ef"
            ],
            [
             0.5,
             "#f7f7f7"
            ],
            [
             0.6,
             "#e6f5d0"
            ],
            [
             0.7,
             "#b8e186"
            ],
            [
             0.8,
             "#7fbc41"
            ],
            [
             0.9,
             "#4d9221"
            ],
            [
             1,
             "#276419"
            ]
           ],
           "sequential": [
            [
             0,
             "#0d0887"
            ],
            [
             0.1111111111111111,
             "#46039f"
            ],
            [
             0.2222222222222222,
             "#7201a8"
            ],
            [
             0.3333333333333333,
             "#9c179e"
            ],
            [
             0.4444444444444444,
             "#bd3786"
            ],
            [
             0.5555555555555556,
             "#d8576b"
            ],
            [
             0.6666666666666666,
             "#ed7953"
            ],
            [
             0.7777777777777778,
             "#fb9f3a"
            ],
            [
             0.8888888888888888,
             "#fdca26"
            ],
            [
             1,
             "#f0f921"
            ]
           ],
           "sequentialminus": [
            [
             0,
             "#0d0887"
            ],
            [
             0.1111111111111111,
             "#46039f"
            ],
            [
             0.2222222222222222,
             "#7201a8"
            ],
            [
             0.3333333333333333,
             "#9c179e"
            ],
            [
             0.4444444444444444,
             "#bd3786"
            ],
            [
             0.5555555555555556,
             "#d8576b"
            ],
            [
             0.6666666666666666,
             "#ed7953"
            ],
            [
             0.7777777777777778,
             "#fb9f3a"
            ],
            [
             0.8888888888888888,
             "#fdca26"
            ],
            [
             1,
             "#f0f921"
            ]
           ]
          },
          "colorway": [
           "#636efa",
           "#EF553B",
           "#00cc96",
           "#ab63fa",
           "#FFA15A",
           "#19d3f3",
           "#FF6692",
           "#B6E880",
           "#FF97FF",
           "#FECB52"
          ],
          "font": {
           "color": "#2a3f5f"
          },
          "geo": {
           "bgcolor": "white",
           "lakecolor": "white",
           "landcolor": "#E5ECF6",
           "showlakes": true,
           "showland": true,
           "subunitcolor": "white"
          },
          "hoverlabel": {
           "align": "left"
          },
          "hovermode": "closest",
          "mapbox": {
           "style": "light"
          },
          "paper_bgcolor": "white",
          "plot_bgcolor": "#E5ECF6",
          "polar": {
           "angularaxis": {
            "gridcolor": "white",
            "linecolor": "white",
            "ticks": ""
           },
           "bgcolor": "#E5ECF6",
           "radialaxis": {
            "gridcolor": "white",
            "linecolor": "white",
            "ticks": ""
           }
          },
          "scene": {
           "xaxis": {
            "backgroundcolor": "#E5ECF6",
            "gridcolor": "white",
            "gridwidth": 2,
            "linecolor": "white",
            "showbackground": true,
            "ticks": "",
            "zerolinecolor": "white"
           },
           "yaxis": {
            "backgroundcolor": "#E5ECF6",
            "gridcolor": "white",
            "gridwidth": 2,
            "linecolor": "white",
            "showbackground": true,
            "ticks": "",
            "zerolinecolor": "white"
           },
           "zaxis": {
            "backgroundcolor": "#E5ECF6",
            "gridcolor": "white",
            "gridwidth": 2,
            "linecolor": "white",
            "showbackground": true,
            "ticks": "",
            "zerolinecolor": "white"
           }
          },
          "shapedefaults": {
           "line": {
            "color": "#2a3f5f"
           }
          },
          "ternary": {
           "aaxis": {
            "gridcolor": "white",
            "linecolor": "white",
            "ticks": ""
           },
           "baxis": {
            "gridcolor": "white",
            "linecolor": "white",
            "ticks": ""
           },
           "bgcolor": "#E5ECF6",
           "caxis": {
            "gridcolor": "white",
            "linecolor": "white",
            "ticks": ""
           }
          },
          "title": {
           "x": 0.05
          },
          "xaxis": {
           "automargin": true,
           "gridcolor": "white",
           "linecolor": "white",
           "ticks": "",
           "title": {
            "standoff": 15
           },
           "zerolinecolor": "white",
           "zerolinewidth": 2
          },
          "yaxis": {
           "automargin": true,
           "gridcolor": "white",
           "linecolor": "white",
           "ticks": "",
           "title": {
            "standoff": 15
           },
           "zerolinecolor": "white",
           "zerolinewidth": 2
          }
         }
        },
        "xaxis": {
         "anchor": "y",
         "domain": [
          0,
          1
         ],
         "title": {
          "text": "0"
         }
        },
        "yaxis": {
         "anchor": "x",
         "domain": [
          0,
          1
         ],
         "title": {
          "text": "1"
         }
        }
       }
      }
     },
     "metadata": {},
     "output_type": "display_data"
    }
   ],
   "source": [
    "plotPCA1 = 0\n",
    "plotPCA2 = 1\n",
    "\n",
    "pca = PCA(n_components=3)\n",
    "components = pca.fit_transform(X)\n",
    "\n",
    "loadings = pca.components_.T * np.sqrt(pca.explained_variance_)\n",
    "components2 = []\n",
    "for i in components:\n",
    "    components2.append([i[plotPCA1], i[plotPCA2]])\n",
    "\n",
    "fig = px.scatter(components2, x=0, y=1, color=data_with_clusters['Clusters'])\n",
    "fig.show()\n",
    "\n",
    "fig = px.scatter(components, x=0, y=1, color=species_series)\n",
    "fig.show()"
   ]
  },
  {
   "cell_type": "markdown",
   "metadata": {},
   "source": [
    "### evaluation of xgboost\n",
    "as seen, xg-boost shows a very good fit and only makes one mistake, by clustering the albigena at (-145.6, -67.8) wrong. this is to be expected, since it is an outlier, which is very close to another cluster. (including this one will also cause overfitting)"
   ]
  },
  {
   "cell_type": "code",
   "execution_count": 143,
   "metadata": {},
   "outputs": [
    {
     "data": {
      "application/vnd.plotly.v1+json": {
       "config": {
        "plotlyServerURL": "https://plot.ly"
       },
       "data": [
        {
         "hovertemplate": "0=%{x}<br>1=%{y}<br>color=%{marker.color}<extra></extra>",
         "legendgroup": "",
         "marker": {
          "color": [
           0,
           0,
           0,
           0,
           0,
           1,
           1,
           1,
           1,
           0,
           1,
           2,
           2,
           2,
           2,
           2,
           2,
           2,
           2,
           2,
           2,
           -1,
           3,
           3,
           3,
           3,
           3,
           3,
           3,
           -1,
           -1,
           -1,
           -1,
           -1,
           -1,
           -1
          ],
          "coloraxis": "coloraxis",
          "symbol": "circle"
         },
         "mode": "markers",
         "name": "",
         "orientation": "v",
         "showlegend": false,
         "type": "scatter",
         "x": [
          -154.3548114932924,
          -152.0591143459721,
          -165.39844104358275,
          -163.35726251895008,
          -161.96844317870128,
          -179.82101187787262,
          -158.16236313284796,
          -176.54240798229554,
          -175.93968696721473,
          -145.60707500428907,
          -146.6631349092702,
          41.20764248853953,
          42.85666230418667,
          51.37078463648968,
          38.94327863706201,
          36.64629866209996,
          55.643974469190404,
          34.383840192848616,
          39.32122331071956,
          50.175909712979426,
          37.76106304038281,
          64.40909050922471,
          37.85007642129867,
          12.3536284990864,
          3.5560918870449796,
          19.650079575534864,
          10.598256837246208,
          8.420146653302641,
          13.691679257734055,
          2.1159974292389654,
          197.1410198460722,
          208.5619304896542,
          186.1497087446546,
          200.41570191987395,
          193.70985093704311,
          192.93981599278038
         ],
         "xaxis": "x",
         "y": [
          -51.61196249777456,
          -54.58438943718396,
          -68.29575561773589,
          -60.32751979583178,
          -59.43949596667024,
          55.0952638546292,
          61.07887027705865,
          57.31646437039572,
          66.0943239093745,
          -67.78854157483752,
          71.71492445008796,
          -54.46931062389534,
          -62.89938034125865,
          -67.65343751665826,
          -59.958215423959274,
          -60.8723968876065,
          -66.4517474649388,
          -58.12957293839057,
          -63.71578418905017,
          -59.089137302534695,
          -62.3187234323806,
          98.26308161641418,
          89.70962746132027,
          79.62496527124496,
          56.354485223470014,
          71.3524608565543,
          78.6812687548816,
          79.41237392299543,
          60.86424432055941,
          18.380740740797606,
          11.926509995434097,
          21.462178535466073,
          10.688533463071954,
          -8.32839743033382,
          -15.62885345408508,
          13.542304871369227
         ],
         "yaxis": "y"
        }
       ],
       "layout": {
        "coloraxis": {
         "colorbar": {
          "title": {
           "text": "color"
          }
         },
         "colorscale": [
          [
           0,
           "#0d0887"
          ],
          [
           0.1111111111111111,
           "#46039f"
          ],
          [
           0.2222222222222222,
           "#7201a8"
          ],
          [
           0.3333333333333333,
           "#9c179e"
          ],
          [
           0.4444444444444444,
           "#bd3786"
          ],
          [
           0.5555555555555556,
           "#d8576b"
          ],
          [
           0.6666666666666666,
           "#ed7953"
          ],
          [
           0.7777777777777778,
           "#fb9f3a"
          ],
          [
           0.8888888888888888,
           "#fdca26"
          ],
          [
           1,
           "#f0f921"
          ]
         ]
        },
        "legend": {
         "tracegroupgap": 0
        },
        "margin": {
         "t": 60
        },
        "template": {
         "data": {
          "bar": [
           {
            "error_x": {
             "color": "#2a3f5f"
            },
            "error_y": {
             "color": "#2a3f5f"
            },
            "marker": {
             "line": {
              "color": "#E5ECF6",
              "width": 0.5
             },
             "pattern": {
              "fillmode": "overlay",
              "size": 10,
              "solidity": 0.2
             }
            },
            "type": "bar"
           }
          ],
          "barpolar": [
           {
            "marker": {
             "line": {
              "color": "#E5ECF6",
              "width": 0.5
             },
             "pattern": {
              "fillmode": "overlay",
              "size": 10,
              "solidity": 0.2
             }
            },
            "type": "barpolar"
           }
          ],
          "carpet": [
           {
            "aaxis": {
             "endlinecolor": "#2a3f5f",
             "gridcolor": "white",
             "linecolor": "white",
             "minorgridcolor": "white",
             "startlinecolor": "#2a3f5f"
            },
            "baxis": {
             "endlinecolor": "#2a3f5f",
             "gridcolor": "white",
             "linecolor": "white",
             "minorgridcolor": "white",
             "startlinecolor": "#2a3f5f"
            },
            "type": "carpet"
           }
          ],
          "choropleth": [
           {
            "colorbar": {
             "outlinewidth": 0,
             "ticks": ""
            },
            "type": "choropleth"
           }
          ],
          "contour": [
           {
            "colorbar": {
             "outlinewidth": 0,
             "ticks": ""
            },
            "colorscale": [
             [
              0,
              "#0d0887"
             ],
             [
              0.1111111111111111,
              "#46039f"
             ],
             [
              0.2222222222222222,
              "#7201a8"
             ],
             [
              0.3333333333333333,
              "#9c179e"
             ],
             [
              0.4444444444444444,
              "#bd3786"
             ],
             [
              0.5555555555555556,
              "#d8576b"
             ],
             [
              0.6666666666666666,
              "#ed7953"
             ],
             [
              0.7777777777777778,
              "#fb9f3a"
             ],
             [
              0.8888888888888888,
              "#fdca26"
             ],
             [
              1,
              "#f0f921"
             ]
            ],
            "type": "contour"
           }
          ],
          "contourcarpet": [
           {
            "colorbar": {
             "outlinewidth": 0,
             "ticks": ""
            },
            "type": "contourcarpet"
           }
          ],
          "heatmap": [
           {
            "colorbar": {
             "outlinewidth": 0,
             "ticks": ""
            },
            "colorscale": [
             [
              0,
              "#0d0887"
             ],
             [
              0.1111111111111111,
              "#46039f"
             ],
             [
              0.2222222222222222,
              "#7201a8"
             ],
             [
              0.3333333333333333,
              "#9c179e"
             ],
             [
              0.4444444444444444,
              "#bd3786"
             ],
             [
              0.5555555555555556,
              "#d8576b"
             ],
             [
              0.6666666666666666,
              "#ed7953"
             ],
             [
              0.7777777777777778,
              "#fb9f3a"
             ],
             [
              0.8888888888888888,
              "#fdca26"
             ],
             [
              1,
              "#f0f921"
             ]
            ],
            "type": "heatmap"
           }
          ],
          "heatmapgl": [
           {
            "colorbar": {
             "outlinewidth": 0,
             "ticks": ""
            },
            "colorscale": [
             [
              0,
              "#0d0887"
             ],
             [
              0.1111111111111111,
              "#46039f"
             ],
             [
              0.2222222222222222,
              "#7201a8"
             ],
             [
              0.3333333333333333,
              "#9c179e"
             ],
             [
              0.4444444444444444,
              "#bd3786"
             ],
             [
              0.5555555555555556,
              "#d8576b"
             ],
             [
              0.6666666666666666,
              "#ed7953"
             ],
             [
              0.7777777777777778,
              "#fb9f3a"
             ],
             [
              0.8888888888888888,
              "#fdca26"
             ],
             [
              1,
              "#f0f921"
             ]
            ],
            "type": "heatmapgl"
           }
          ],
          "histogram": [
           {
            "marker": {
             "pattern": {
              "fillmode": "overlay",
              "size": 10,
              "solidity": 0.2
             }
            },
            "type": "histogram"
           }
          ],
          "histogram2d": [
           {
            "colorbar": {
             "outlinewidth": 0,
             "ticks": ""
            },
            "colorscale": [
             [
              0,
              "#0d0887"
             ],
             [
              0.1111111111111111,
              "#46039f"
             ],
             [
              0.2222222222222222,
              "#7201a8"
             ],
             [
              0.3333333333333333,
              "#9c179e"
             ],
             [
              0.4444444444444444,
              "#bd3786"
             ],
             [
              0.5555555555555556,
              "#d8576b"
             ],
             [
              0.6666666666666666,
              "#ed7953"
             ],
             [
              0.7777777777777778,
              "#fb9f3a"
             ],
             [
              0.8888888888888888,
              "#fdca26"
             ],
             [
              1,
              "#f0f921"
             ]
            ],
            "type": "histogram2d"
           }
          ],
          "histogram2dcontour": [
           {
            "colorbar": {
             "outlinewidth": 0,
             "ticks": ""
            },
            "colorscale": [
             [
              0,
              "#0d0887"
             ],
             [
              0.1111111111111111,
              "#46039f"
             ],
             [
              0.2222222222222222,
              "#7201a8"
             ],
             [
              0.3333333333333333,
              "#9c179e"
             ],
             [
              0.4444444444444444,
              "#bd3786"
             ],
             [
              0.5555555555555556,
              "#d8576b"
             ],
             [
              0.6666666666666666,
              "#ed7953"
             ],
             [
              0.7777777777777778,
              "#fb9f3a"
             ],
             [
              0.8888888888888888,
              "#fdca26"
             ],
             [
              1,
              "#f0f921"
             ]
            ],
            "type": "histogram2dcontour"
           }
          ],
          "mesh3d": [
           {
            "colorbar": {
             "outlinewidth": 0,
             "ticks": ""
            },
            "type": "mesh3d"
           }
          ],
          "parcoords": [
           {
            "line": {
             "colorbar": {
              "outlinewidth": 0,
              "ticks": ""
             }
            },
            "type": "parcoords"
           }
          ],
          "pie": [
           {
            "automargin": true,
            "type": "pie"
           }
          ],
          "scatter": [
           {
            "marker": {
             "colorbar": {
              "outlinewidth": 0,
              "ticks": ""
             }
            },
            "type": "scatter"
           }
          ],
          "scatter3d": [
           {
            "line": {
             "colorbar": {
              "outlinewidth": 0,
              "ticks": ""
             }
            },
            "marker": {
             "colorbar": {
              "outlinewidth": 0,
              "ticks": ""
             }
            },
            "type": "scatter3d"
           }
          ],
          "scattercarpet": [
           {
            "marker": {
             "colorbar": {
              "outlinewidth": 0,
              "ticks": ""
             }
            },
            "type": "scattercarpet"
           }
          ],
          "scattergeo": [
           {
            "marker": {
             "colorbar": {
              "outlinewidth": 0,
              "ticks": ""
             }
            },
            "type": "scattergeo"
           }
          ],
          "scattergl": [
           {
            "marker": {
             "colorbar": {
              "outlinewidth": 0,
              "ticks": ""
             }
            },
            "type": "scattergl"
           }
          ],
          "scattermapbox": [
           {
            "marker": {
             "colorbar": {
              "outlinewidth": 0,
              "ticks": ""
             }
            },
            "type": "scattermapbox"
           }
          ],
          "scatterpolar": [
           {
            "marker": {
             "colorbar": {
              "outlinewidth": 0,
              "ticks": ""
             }
            },
            "type": "scatterpolar"
           }
          ],
          "scatterpolargl": [
           {
            "marker": {
             "colorbar": {
              "outlinewidth": 0,
              "ticks": ""
             }
            },
            "type": "scatterpolargl"
           }
          ],
          "scatterternary": [
           {
            "marker": {
             "colorbar": {
              "outlinewidth": 0,
              "ticks": ""
             }
            },
            "type": "scatterternary"
           }
          ],
          "surface": [
           {
            "colorbar": {
             "outlinewidth": 0,
             "ticks": ""
            },
            "colorscale": [
             [
              0,
              "#0d0887"
             ],
             [
              0.1111111111111111,
              "#46039f"
             ],
             [
              0.2222222222222222,
              "#7201a8"
             ],
             [
              0.3333333333333333,
              "#9c179e"
             ],
             [
              0.4444444444444444,
              "#bd3786"
             ],
             [
              0.5555555555555556,
              "#d8576b"
             ],
             [
              0.6666666666666666,
              "#ed7953"
             ],
             [
              0.7777777777777778,
              "#fb9f3a"
             ],
             [
              0.8888888888888888,
              "#fdca26"
             ],
             [
              1,
              "#f0f921"
             ]
            ],
            "type": "surface"
           }
          ],
          "table": [
           {
            "cells": {
             "fill": {
              "color": "#EBF0F8"
             },
             "line": {
              "color": "white"
             }
            },
            "header": {
             "fill": {
              "color": "#C8D4E3"
             },
             "line": {
              "color": "white"
             }
            },
            "type": "table"
           }
          ]
         },
         "layout": {
          "annotationdefaults": {
           "arrowcolor": "#2a3f5f",
           "arrowhead": 0,
           "arrowwidth": 1
          },
          "autotypenumbers": "strict",
          "coloraxis": {
           "colorbar": {
            "outlinewidth": 0,
            "ticks": ""
           }
          },
          "colorscale": {
           "diverging": [
            [
             0,
             "#8e0152"
            ],
            [
             0.1,
             "#c51b7d"
            ],
            [
             0.2,
             "#de77ae"
            ],
            [
             0.3,
             "#f1b6da"
            ],
            [
             0.4,
             "#fde0ef"
            ],
            [
             0.5,
             "#f7f7f7"
            ],
            [
             0.6,
             "#e6f5d0"
            ],
            [
             0.7,
             "#b8e186"
            ],
            [
             0.8,
             "#7fbc41"
            ],
            [
             0.9,
             "#4d9221"
            ],
            [
             1,
             "#276419"
            ]
           ],
           "sequential": [
            [
             0,
             "#0d0887"
            ],
            [
             0.1111111111111111,
             "#46039f"
            ],
            [
             0.2222222222222222,
             "#7201a8"
            ],
            [
             0.3333333333333333,
             "#9c179e"
            ],
            [
             0.4444444444444444,
             "#bd3786"
            ],
            [
             0.5555555555555556,
             "#d8576b"
            ],
            [
             0.6666666666666666,
             "#ed7953"
            ],
            [
             0.7777777777777778,
             "#fb9f3a"
            ],
            [
             0.8888888888888888,
             "#fdca26"
            ],
            [
             1,
             "#f0f921"
            ]
           ],
           "sequentialminus": [
            [
             0,
             "#0d0887"
            ],
            [
             0.1111111111111111,
             "#46039f"
            ],
            [
             0.2222222222222222,
             "#7201a8"
            ],
            [
             0.3333333333333333,
             "#9c179e"
            ],
            [
             0.4444444444444444,
             "#bd3786"
            ],
            [
             0.5555555555555556,
             "#d8576b"
            ],
            [
             0.6666666666666666,
             "#ed7953"
            ],
            [
             0.7777777777777778,
             "#fb9f3a"
            ],
            [
             0.8888888888888888,
             "#fdca26"
            ],
            [
             1,
             "#f0f921"
            ]
           ]
          },
          "colorway": [
           "#636efa",
           "#EF553B",
           "#00cc96",
           "#ab63fa",
           "#FFA15A",
           "#19d3f3",
           "#FF6692",
           "#B6E880",
           "#FF97FF",
           "#FECB52"
          ],
          "font": {
           "color": "#2a3f5f"
          },
          "geo": {
           "bgcolor": "white",
           "lakecolor": "white",
           "landcolor": "#E5ECF6",
           "showlakes": true,
           "showland": true,
           "subunitcolor": "white"
          },
          "hoverlabel": {
           "align": "left"
          },
          "hovermode": "closest",
          "mapbox": {
           "style": "light"
          },
          "paper_bgcolor": "white",
          "plot_bgcolor": "#E5ECF6",
          "polar": {
           "angularaxis": {
            "gridcolor": "white",
            "linecolor": "white",
            "ticks": ""
           },
           "bgcolor": "#E5ECF6",
           "radialaxis": {
            "gridcolor": "white",
            "linecolor": "white",
            "ticks": ""
           }
          },
          "scene": {
           "xaxis": {
            "backgroundcolor": "#E5ECF6",
            "gridcolor": "white",
            "gridwidth": 2,
            "linecolor": "white",
            "showbackground": true,
            "ticks": "",
            "zerolinecolor": "white"
           },
           "yaxis": {
            "backgroundcolor": "#E5ECF6",
            "gridcolor": "white",
            "gridwidth": 2,
            "linecolor": "white",
            "showbackground": true,
            "ticks": "",
            "zerolinecolor": "white"
           },
           "zaxis": {
            "backgroundcolor": "#E5ECF6",
            "gridcolor": "white",
            "gridwidth": 2,
            "linecolor": "white",
            "showbackground": true,
            "ticks": "",
            "zerolinecolor": "white"
           }
          },
          "shapedefaults": {
           "line": {
            "color": "#2a3f5f"
           }
          },
          "ternary": {
           "aaxis": {
            "gridcolor": "white",
            "linecolor": "white",
            "ticks": ""
           },
           "baxis": {
            "gridcolor": "white",
            "linecolor": "white",
            "ticks": ""
           },
           "bgcolor": "#E5ECF6",
           "caxis": {
            "gridcolor": "white",
            "linecolor": "white",
            "ticks": ""
           }
          },
          "title": {
           "x": 0.05
          },
          "xaxis": {
           "automargin": true,
           "gridcolor": "white",
           "linecolor": "white",
           "ticks": "",
           "title": {
            "standoff": 15
           },
           "zerolinecolor": "white",
           "zerolinewidth": 2
          },
          "yaxis": {
           "automargin": true,
           "gridcolor": "white",
           "linecolor": "white",
           "ticks": "",
           "title": {
            "standoff": 15
           },
           "zerolinecolor": "white",
           "zerolinewidth": 2
          }
         }
        },
        "xaxis": {
         "anchor": "y",
         "domain": [
          0,
          1
         ],
         "title": {
          "text": "0"
         }
        },
        "yaxis": {
         "anchor": "x",
         "domain": [
          0,
          1
         ],
         "title": {
          "text": "1"
         }
        }
       }
      }
     },
     "metadata": {},
     "output_type": "display_data"
    },
    {
     "data": {
      "application/vnd.plotly.v1+json": {
       "config": {
        "plotlyServerURL": "https://plot.ly"
       },
       "data": [
        {
         "hovertemplate": "color=talapoin<br>0=%{x}<br>1=%{y}<extra></extra>",
         "legendgroup": "talapoin",
         "marker": {
          "color": "#636efa",
          "symbol": "circle"
         },
         "mode": "markers",
         "name": "talapoin",
         "orientation": "v",
         "showlegend": true,
         "type": "scatter",
         "x": [
          -154.3548114932924,
          -152.0591143459721,
          -165.39844104358275,
          -163.35726251895008,
          -161.96844317870128
         ],
         "xaxis": "x",
         "y": [
          -51.61196249777456,
          -54.58438943718396,
          -68.29575561773589,
          -60.32751979583178,
          -59.43949596667024
         ],
         "yaxis": "y"
        },
        {
         "hovertemplate": "color=albigena<br>0=%{x}<br>1=%{y}<extra></extra>",
         "legendgroup": "albigena",
         "marker": {
          "color": "#EF553B",
          "symbol": "circle"
         },
         "mode": "markers",
         "name": "albigena",
         "orientation": "v",
         "showlegend": true,
         "type": "scatter",
         "x": [
          -179.82101187787262,
          -158.16236313284796,
          -176.54240798229554,
          -175.93968696721473,
          -145.60707500428907,
          -146.6631349092702
         ],
         "xaxis": "x",
         "y": [
          55.0952638546292,
          61.07887027705865,
          57.31646437039572,
          66.0943239093745,
          -67.78854157483752,
          71.71492445008796
         ],
         "yaxis": "y"
        },
        {
         "hovertemplate": "color=badius<br>0=%{x}<br>1=%{y}<extra></extra>",
         "legendgroup": "badius",
         "marker": {
          "color": "#00cc96",
          "symbol": "circle"
         },
         "mode": "markers",
         "name": "badius",
         "orientation": "v",
         "showlegend": true,
         "type": "scatter",
         "x": [
          41.20764248853953,
          42.85666230418667,
          51.37078463648968,
          38.94327863706201,
          36.64629866209996,
          55.643974469190404,
          34.383840192848616,
          39.32122331071956,
          50.175909712979426,
          37.76106304038281
         ],
         "xaxis": "x",
         "y": [
          -54.46931062389534,
          -62.89938034125865,
          -67.65343751665826,
          -59.958215423959274,
          -60.8723968876065,
          -66.4517474649388,
          -58.12957293839057,
          -63.71578418905017,
          -59.089137302534695,
          -62.3187234323806
         ],
         "yaxis": "y"
        },
        {
         "hovertemplate": "color=anubis<br>0=%{x}<br>1=%{y}<extra></extra>",
         "legendgroup": "anubis",
         "marker": {
          "color": "#ab63fa",
          "symbol": "circle"
         },
         "mode": "markers",
         "name": "anubis",
         "orientation": "v",
         "showlegend": true,
         "type": "scatter",
         "x": [
          64.40909050922471,
          37.85007642129867,
          12.3536284990864,
          3.5560918870449796,
          19.650079575534864,
          10.598256837246208,
          8.420146653302641,
          13.691679257734055,
          2.1159974292389654
         ],
         "xaxis": "x",
         "y": [
          98.26308161641418,
          89.70962746132027,
          79.62496527124496,
          56.354485223470014,
          71.3524608565543,
          78.6812687548816,
          79.41237392299543,
          60.86424432055941,
          18.380740740797606
         ],
         "yaxis": "y"
        },
        {
         "hovertemplate": "color=gorilla<br>0=%{x}<br>1=%{y}<extra></extra>",
         "legendgroup": "gorilla",
         "marker": {
          "color": "#FFA15A",
          "symbol": "circle"
         },
         "mode": "markers",
         "name": "gorilla",
         "orientation": "v",
         "showlegend": true,
         "type": "scatter",
         "x": [
          197.1410198460722,
          208.5619304896542,
          186.1497087446546,
          200.41570191987395,
          193.70985093704311,
          192.93981599278038
         ],
         "xaxis": "x",
         "y": [
          11.926509995434097,
          21.462178535466073,
          10.688533463071954,
          -8.32839743033382,
          -15.62885345408508,
          13.542304871369227
         ],
         "yaxis": "y"
        }
       ],
       "layout": {
        "legend": {
         "title": {
          "text": "color"
         },
         "tracegroupgap": 0
        },
        "margin": {
         "t": 60
        },
        "template": {
         "data": {
          "bar": [
           {
            "error_x": {
             "color": "#2a3f5f"
            },
            "error_y": {
             "color": "#2a3f5f"
            },
            "marker": {
             "line": {
              "color": "#E5ECF6",
              "width": 0.5
             },
             "pattern": {
              "fillmode": "overlay",
              "size": 10,
              "solidity": 0.2
             }
            },
            "type": "bar"
           }
          ],
          "barpolar": [
           {
            "marker": {
             "line": {
              "color": "#E5ECF6",
              "width": 0.5
             },
             "pattern": {
              "fillmode": "overlay",
              "size": 10,
              "solidity": 0.2
             }
            },
            "type": "barpolar"
           }
          ],
          "carpet": [
           {
            "aaxis": {
             "endlinecolor": "#2a3f5f",
             "gridcolor": "white",
             "linecolor": "white",
             "minorgridcolor": "white",
             "startlinecolor": "#2a3f5f"
            },
            "baxis": {
             "endlinecolor": "#2a3f5f",
             "gridcolor": "white",
             "linecolor": "white",
             "minorgridcolor": "white",
             "startlinecolor": "#2a3f5f"
            },
            "type": "carpet"
           }
          ],
          "choropleth": [
           {
            "colorbar": {
             "outlinewidth": 0,
             "ticks": ""
            },
            "type": "choropleth"
           }
          ],
          "contour": [
           {
            "colorbar": {
             "outlinewidth": 0,
             "ticks": ""
            },
            "colorscale": [
             [
              0,
              "#0d0887"
             ],
             [
              0.1111111111111111,
              "#46039f"
             ],
             [
              0.2222222222222222,
              "#7201a8"
             ],
             [
              0.3333333333333333,
              "#9c179e"
             ],
             [
              0.4444444444444444,
              "#bd3786"
             ],
             [
              0.5555555555555556,
              "#d8576b"
             ],
             [
              0.6666666666666666,
              "#ed7953"
             ],
             [
              0.7777777777777778,
              "#fb9f3a"
             ],
             [
              0.8888888888888888,
              "#fdca26"
             ],
             [
              1,
              "#f0f921"
             ]
            ],
            "type": "contour"
           }
          ],
          "contourcarpet": [
           {
            "colorbar": {
             "outlinewidth": 0,
             "ticks": ""
            },
            "type": "contourcarpet"
           }
          ],
          "heatmap": [
           {
            "colorbar": {
             "outlinewidth": 0,
             "ticks": ""
            },
            "colorscale": [
             [
              0,
              "#0d0887"
             ],
             [
              0.1111111111111111,
              "#46039f"
             ],
             [
              0.2222222222222222,
              "#7201a8"
             ],
             [
              0.3333333333333333,
              "#9c179e"
             ],
             [
              0.4444444444444444,
              "#bd3786"
             ],
             [
              0.5555555555555556,
              "#d8576b"
             ],
             [
              0.6666666666666666,
              "#ed7953"
             ],
             [
              0.7777777777777778,
              "#fb9f3a"
             ],
             [
              0.8888888888888888,
              "#fdca26"
             ],
             [
              1,
              "#f0f921"
             ]
            ],
            "type": "heatmap"
           }
          ],
          "heatmapgl": [
           {
            "colorbar": {
             "outlinewidth": 0,
             "ticks": ""
            },
            "colorscale": [
             [
              0,
              "#0d0887"
             ],
             [
              0.1111111111111111,
              "#46039f"
             ],
             [
              0.2222222222222222,
              "#7201a8"
             ],
             [
              0.3333333333333333,
              "#9c179e"
             ],
             [
              0.4444444444444444,
              "#bd3786"
             ],
             [
              0.5555555555555556,
              "#d8576b"
             ],
             [
              0.6666666666666666,
              "#ed7953"
             ],
             [
              0.7777777777777778,
              "#fb9f3a"
             ],
             [
              0.8888888888888888,
              "#fdca26"
             ],
             [
              1,
              "#f0f921"
             ]
            ],
            "type": "heatmapgl"
           }
          ],
          "histogram": [
           {
            "marker": {
             "pattern": {
              "fillmode": "overlay",
              "size": 10,
              "solidity": 0.2
             }
            },
            "type": "histogram"
           }
          ],
          "histogram2d": [
           {
            "colorbar": {
             "outlinewidth": 0,
             "ticks": ""
            },
            "colorscale": [
             [
              0,
              "#0d0887"
             ],
             [
              0.1111111111111111,
              "#46039f"
             ],
             [
              0.2222222222222222,
              "#7201a8"
             ],
             [
              0.3333333333333333,
              "#9c179e"
             ],
             [
              0.4444444444444444,
              "#bd3786"
             ],
             [
              0.5555555555555556,
              "#d8576b"
             ],
             [
              0.6666666666666666,
              "#ed7953"
             ],
             [
              0.7777777777777778,
              "#fb9f3a"
             ],
             [
              0.8888888888888888,
              "#fdca26"
             ],
             [
              1,
              "#f0f921"
             ]
            ],
            "type": "histogram2d"
           }
          ],
          "histogram2dcontour": [
           {
            "colorbar": {
             "outlinewidth": 0,
             "ticks": ""
            },
            "colorscale": [
             [
              0,
              "#0d0887"
             ],
             [
              0.1111111111111111,
              "#46039f"
             ],
             [
              0.2222222222222222,
              "#7201a8"
             ],
             [
              0.3333333333333333,
              "#9c179e"
             ],
             [
              0.4444444444444444,
              "#bd3786"
             ],
             [
              0.5555555555555556,
              "#d8576b"
             ],
             [
              0.6666666666666666,
              "#ed7953"
             ],
             [
              0.7777777777777778,
              "#fb9f3a"
             ],
             [
              0.8888888888888888,
              "#fdca26"
             ],
             [
              1,
              "#f0f921"
             ]
            ],
            "type": "histogram2dcontour"
           }
          ],
          "mesh3d": [
           {
            "colorbar": {
             "outlinewidth": 0,
             "ticks": ""
            },
            "type": "mesh3d"
           }
          ],
          "parcoords": [
           {
            "line": {
             "colorbar": {
              "outlinewidth": 0,
              "ticks": ""
             }
            },
            "type": "parcoords"
           }
          ],
          "pie": [
           {
            "automargin": true,
            "type": "pie"
           }
          ],
          "scatter": [
           {
            "marker": {
             "colorbar": {
              "outlinewidth": 0,
              "ticks": ""
             }
            },
            "type": "scatter"
           }
          ],
          "scatter3d": [
           {
            "line": {
             "colorbar": {
              "outlinewidth": 0,
              "ticks": ""
             }
            },
            "marker": {
             "colorbar": {
              "outlinewidth": 0,
              "ticks": ""
             }
            },
            "type": "scatter3d"
           }
          ],
          "scattercarpet": [
           {
            "marker": {
             "colorbar": {
              "outlinewidth": 0,
              "ticks": ""
             }
            },
            "type": "scattercarpet"
           }
          ],
          "scattergeo": [
           {
            "marker": {
             "colorbar": {
              "outlinewidth": 0,
              "ticks": ""
             }
            },
            "type": "scattergeo"
           }
          ],
          "scattergl": [
           {
            "marker": {
             "colorbar": {
              "outlinewidth": 0,
              "ticks": ""
             }
            },
            "type": "scattergl"
           }
          ],
          "scattermapbox": [
           {
            "marker": {
             "colorbar": {
              "outlinewidth": 0,
              "ticks": ""
             }
            },
            "type": "scattermapbox"
           }
          ],
          "scatterpolar": [
           {
            "marker": {
             "colorbar": {
              "outlinewidth": 0,
              "ticks": ""
             }
            },
            "type": "scatterpolar"
           }
          ],
          "scatterpolargl": [
           {
            "marker": {
             "colorbar": {
              "outlinewidth": 0,
              "ticks": ""
             }
            },
            "type": "scatterpolargl"
           }
          ],
          "scatterternary": [
           {
            "marker": {
             "colorbar": {
              "outlinewidth": 0,
              "ticks": ""
             }
            },
            "type": "scatterternary"
           }
          ],
          "surface": [
           {
            "colorbar": {
             "outlinewidth": 0,
             "ticks": ""
            },
            "colorscale": [
             [
              0,
              "#0d0887"
             ],
             [
              0.1111111111111111,
              "#46039f"
             ],
             [
              0.2222222222222222,
              "#7201a8"
             ],
             [
              0.3333333333333333,
              "#9c179e"
             ],
             [
              0.4444444444444444,
              "#bd3786"
             ],
             [
              0.5555555555555556,
              "#d8576b"
             ],
             [
              0.6666666666666666,
              "#ed7953"
             ],
             [
              0.7777777777777778,
              "#fb9f3a"
             ],
             [
              0.8888888888888888,
              "#fdca26"
             ],
             [
              1,
              "#f0f921"
             ]
            ],
            "type": "surface"
           }
          ],
          "table": [
           {
            "cells": {
             "fill": {
              "color": "#EBF0F8"
             },
             "line": {
              "color": "white"
             }
            },
            "header": {
             "fill": {
              "color": "#C8D4E3"
             },
             "line": {
              "color": "white"
             }
            },
            "type": "table"
           }
          ]
         },
         "layout": {
          "annotationdefaults": {
           "arrowcolor": "#2a3f5f",
           "arrowhead": 0,
           "arrowwidth": 1
          },
          "autotypenumbers": "strict",
          "coloraxis": {
           "colorbar": {
            "outlinewidth": 0,
            "ticks": ""
           }
          },
          "colorscale": {
           "diverging": [
            [
             0,
             "#8e0152"
            ],
            [
             0.1,
             "#c51b7d"
            ],
            [
             0.2,
             "#de77ae"
            ],
            [
             0.3,
             "#f1b6da"
            ],
            [
             0.4,
             "#fde0ef"
            ],
            [
             0.5,
             "#f7f7f7"
            ],
            [
             0.6,
             "#e6f5d0"
            ],
            [
             0.7,
             "#b8e186"
            ],
            [
             0.8,
             "#7fbc41"
            ],
            [
             0.9,
             "#4d9221"
            ],
            [
             1,
             "#276419"
            ]
           ],
           "sequential": [
            [
             0,
             "#0d0887"
            ],
            [
             0.1111111111111111,
             "#46039f"
            ],
            [
             0.2222222222222222,
             "#7201a8"
            ],
            [
             0.3333333333333333,
             "#9c179e"
            ],
            [
             0.4444444444444444,
             "#bd3786"
            ],
            [
             0.5555555555555556,
             "#d8576b"
            ],
            [
             0.6666666666666666,
             "#ed7953"
            ],
            [
             0.7777777777777778,
             "#fb9f3a"
            ],
            [
             0.8888888888888888,
             "#fdca26"
            ],
            [
             1,
             "#f0f921"
            ]
           ],
           "sequentialminus": [
            [
             0,
             "#0d0887"
            ],
            [
             0.1111111111111111,
             "#46039f"
            ],
            [
             0.2222222222222222,
             "#7201a8"
            ],
            [
             0.3333333333333333,
             "#9c179e"
            ],
            [
             0.4444444444444444,
             "#bd3786"
            ],
            [
             0.5555555555555556,
             "#d8576b"
            ],
            [
             0.6666666666666666,
             "#ed7953"
            ],
            [
             0.7777777777777778,
             "#fb9f3a"
            ],
            [
             0.8888888888888888,
             "#fdca26"
            ],
            [
             1,
             "#f0f921"
            ]
           ]
          },
          "colorway": [
           "#636efa",
           "#EF553B",
           "#00cc96",
           "#ab63fa",
           "#FFA15A",
           "#19d3f3",
           "#FF6692",
           "#B6E880",
           "#FF97FF",
           "#FECB52"
          ],
          "font": {
           "color": "#2a3f5f"
          },
          "geo": {
           "bgcolor": "white",
           "lakecolor": "white",
           "landcolor": "#E5ECF6",
           "showlakes": true,
           "showland": true,
           "subunitcolor": "white"
          },
          "hoverlabel": {
           "align": "left"
          },
          "hovermode": "closest",
          "mapbox": {
           "style": "light"
          },
          "paper_bgcolor": "white",
          "plot_bgcolor": "#E5ECF6",
          "polar": {
           "angularaxis": {
            "gridcolor": "white",
            "linecolor": "white",
            "ticks": ""
           },
           "bgcolor": "#E5ECF6",
           "radialaxis": {
            "gridcolor": "white",
            "linecolor": "white",
            "ticks": ""
           }
          },
          "scene": {
           "xaxis": {
            "backgroundcolor": "#E5ECF6",
            "gridcolor": "white",
            "gridwidth": 2,
            "linecolor": "white",
            "showbackground": true,
            "ticks": "",
            "zerolinecolor": "white"
           },
           "yaxis": {
            "backgroundcolor": "#E5ECF6",
            "gridcolor": "white",
            "gridwidth": 2,
            "linecolor": "white",
            "showbackground": true,
            "ticks": "",
            "zerolinecolor": "white"
           },
           "zaxis": {
            "backgroundcolor": "#E5ECF6",
            "gridcolor": "white",
            "gridwidth": 2,
            "linecolor": "white",
            "showbackground": true,
            "ticks": "",
            "zerolinecolor": "white"
           }
          },
          "shapedefaults": {
           "line": {
            "color": "#2a3f5f"
           }
          },
          "ternary": {
           "aaxis": {
            "gridcolor": "white",
            "linecolor": "white",
            "ticks": ""
           },
           "baxis": {
            "gridcolor": "white",
            "linecolor": "white",
            "ticks": ""
           },
           "bgcolor": "#E5ECF6",
           "caxis": {
            "gridcolor": "white",
            "linecolor": "white",
            "ticks": ""
           }
          },
          "title": {
           "x": 0.05
          },
          "xaxis": {
           "automargin": true,
           "gridcolor": "white",
           "linecolor": "white",
           "ticks": "",
           "title": {
            "standoff": 15
           },
           "zerolinecolor": "white",
           "zerolinewidth": 2
          },
          "yaxis": {
           "automargin": true,
           "gridcolor": "white",
           "linecolor": "white",
           "ticks": "",
           "title": {
            "standoff": 15
           },
           "zerolinecolor": "white",
           "zerolinewidth": 2
          }
         }
        },
        "xaxis": {
         "anchor": "y",
         "domain": [
          0,
          1
         ],
         "title": {
          "text": "0"
         }
        },
        "yaxis": {
         "anchor": "x",
         "domain": [
          0,
          1
         ],
         "title": {
          "text": "1"
         }
        }
       }
      }
     },
     "metadata": {},
     "output_type": "display_data"
    }
   ],
   "source": [
    "'''gaussian mixture'''\n",
    "from sklearn.mixture import GaussianMixture\n",
    "gmm = GaussianMixture(n_components=5).fit(clustering_data, df2.Species)\n",
    "identified_clusters = gmm.predict(clustering_data)\n",
    "\n",
    "plotPCA1 = 0\n",
    "plotPCA2 = 1\n",
    "\n",
    "pca = PCA(n_components=3)\n",
    "components = pca.fit_transform(X)\n",
    "\n",
    "loadings = pca.components_.T * np.sqrt(pca.explained_variance_)\n",
    "components2 = []\n",
    "for i in components:\n",
    "    components2.append([i[plotPCA1], i[plotPCA2]])\n",
    "\n",
    "fig = px.scatter(components2, x=0, y=1, color=data_with_clusters['Clusters'])\n",
    "fig.show()\n",
    "\n",
    "fig = px.scatter(components, x=0, y=1, color=species_series)\n",
    "fig.show()\n"
   ]
  }
 ],
 "metadata": {
  "interpreter": {
   "hash": "edc1bf21e69f891261a36943f5833d87ed8060cb2112624a348d6396193c49a8"
  },
  "kernelspec": {
   "display_name": "Python 3.8.13 ('base')",
   "language": "python",
   "name": "python3"
  },
  "language_info": {
   "codemirror_mode": {
    "name": "ipython",
    "version": 3
   },
   "file_extension": ".py",
   "mimetype": "text/x-python",
   "name": "python",
   "nbconvert_exporter": "python",
   "pygments_lexer": "ipython3",
   "version": "3.8.13"
  },
  "orig_nbformat": 4
 },
 "nbformat": 4,
 "nbformat_minor": 2
}
